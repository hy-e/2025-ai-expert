{
 "cells": [
  {
   "cell_type": "markdown",
   "metadata": {
    "id": "AYXIHngPoI2W"
   },
   "source": [
    "# Image Segmentation using Segmenter\n",
    "---\n",
    "TA : Jaehoon Yoo (wogns98@kaist.ac.kr)\n",
    "\n",
    "---\n",
    "## Instructions\n",
    "- In this assignment, we will perform semantic segmentation on PASCAL VOC 2011 dataset which contains 20 object categories. We use the Semantic Boundaries Dataset (SBD) as it contains more segmentation labels than the original dataset.\n",
    "- To this end, you need to implement necessary network components, load and fine-tune the pretrained network, and report segmentation performance on the validation set.\n",
    "- Fill in the section marked **Px.x** with the appropriate code. **You can only modify inside those areas, and not the skeleton code.**\n",
    "- To begin, you should download this ipynb file into your own Google drive clicking `make a copy(사본만들기)`. Find the copy in your drive, change their name to `Segmentation_segmenter.ipynb`, if their names were changed to e.g. `Copy of Segmentation_segmenter.ipyb` or `Segmentation_segmenter.ipynb의 사본`."
   ]
  },
  {
   "cell_type": "markdown",
   "metadata": {
    "id": "x1ZGXqrvlc_O"
   },
   "source": [
    "---\n",
    "## Prerequisite: Mount your gdrive."
   ]
  },
  {
   "cell_type": "code",
   "execution_count": 1,
   "metadata": {
    "id": "a0HEy2Tok-2u",
    "tags": []
   },
   "outputs": [],
   "source": [
    "import os\n",
    "# from google.colab import drive\n",
    "# drive.mount('/gdrive')"
   ]
  },
  {
   "cell_type": "markdown",
   "metadata": {
    "id": "_Tsq4xR-liMH"
   },
   "source": [
    "---\n",
    "## Prerequisite: Setup the `root` directory properly."
   ]
  },
  {
   "cell_type": "code",
   "execution_count": 2,
   "metadata": {
    "id": "SHzfVbfmloDz",
    "tags": []
   },
   "outputs": [],
   "source": [
    "# Specify the directory path where `Segmentation.ipynb` exists.\n",
    "# For example, if you saved `Segmentation.ipynb` in `/gdrive/MyDrive/Segmentation_segmenter` directory,\n",
    "# then set root = '/gdrive/MyDrive/Segmentation_segmenter'\n",
    "root = '/gdrive/MyDrive/Segmentation_segmenter'\n",
    "root = './'"
   ]
  },
  {
   "cell_type": "markdown",
   "metadata": {
    "id": "9XDVC3lJl1_H"
   },
   "source": [
    "---\n",
    "# Basic settings"
   ]
  },
  {
   "cell_type": "markdown",
   "metadata": {
    "id": "3jIiyjEGlwJ8"
   },
   "source": [
    "## Import libraries"
   ]
  },
  {
   "cell_type": "code",
   "execution_count": 3,
   "metadata": {
    "id": "eGlC_yM9lvue",
    "tags": []
   },
   "outputs": [
    {
     "name": "stdout",
     "output_type": "stream",
     "text": [
      "Looking in indexes: https://pypi.org/simple, https://pypi.ngc.nvidia.com\n",
      "Requirement already satisfied: einops in /2025-ai-expert/.cv/lib/python3.10/site-packages (0.8.1)\n",
      "Looking in indexes: https://pypi.org/simple, https://pypi.ngc.nvidia.com\n",
      "Requirement already satisfied: timm==0.9.12 in /2025-ai-expert/.cv/lib/python3.10/site-packages (0.9.12)\n",
      "Requirement already satisfied: torch>=1.7 in /2025-ai-expert/.cv/lib/python3.10/site-packages (from timm==0.9.12) (2.7.1)\n",
      "Requirement already satisfied: torchvision in /2025-ai-expert/.cv/lib/python3.10/site-packages (from timm==0.9.12) (0.22.1)\n",
      "Requirement already satisfied: pyyaml in /2025-ai-expert/.cv/lib/python3.10/site-packages (from timm==0.9.12) (6.0.2)\n",
      "Requirement already satisfied: huggingface-hub in /2025-ai-expert/.cv/lib/python3.10/site-packages (from timm==0.9.12) (0.33.5)\n",
      "Requirement already satisfied: safetensors in /2025-ai-expert/.cv/lib/python3.10/site-packages (from timm==0.9.12) (0.5.3)\n",
      "Requirement already satisfied: filelock in /2025-ai-expert/.cv/lib/python3.10/site-packages (from torch>=1.7->timm==0.9.12) (3.18.0)\n",
      "Requirement already satisfied: typing-extensions>=4.10.0 in /2025-ai-expert/.cv/lib/python3.10/site-packages (from torch>=1.7->timm==0.9.12) (4.14.1)\n",
      "Requirement already satisfied: sympy>=1.13.3 in /2025-ai-expert/.cv/lib/python3.10/site-packages (from torch>=1.7->timm==0.9.12) (1.14.0)\n",
      "Requirement already satisfied: networkx in /2025-ai-expert/.cv/lib/python3.10/site-packages (from torch>=1.7->timm==0.9.12) (3.4.2)\n",
      "Requirement already satisfied: jinja2 in /2025-ai-expert/.cv/lib/python3.10/site-packages (from torch>=1.7->timm==0.9.12) (3.1.6)\n",
      "Requirement already satisfied: fsspec in /2025-ai-expert/.cv/lib/python3.10/site-packages (from torch>=1.7->timm==0.9.12) (2025.7.0)\n",
      "Requirement already satisfied: nvidia-cuda-nvrtc-cu12==12.6.77 in /2025-ai-expert/.cv/lib/python3.10/site-packages (from torch>=1.7->timm==0.9.12) (12.6.77)\n",
      "Requirement already satisfied: nvidia-cuda-runtime-cu12==12.6.77 in /2025-ai-expert/.cv/lib/python3.10/site-packages (from torch>=1.7->timm==0.9.12) (12.6.77)\n",
      "Requirement already satisfied: nvidia-cuda-cupti-cu12==12.6.80 in /2025-ai-expert/.cv/lib/python3.10/site-packages (from torch>=1.7->timm==0.9.12) (12.6.80)\n",
      "Requirement already satisfied: nvidia-cudnn-cu12==9.5.1.17 in /2025-ai-expert/.cv/lib/python3.10/site-packages (from torch>=1.7->timm==0.9.12) (9.5.1.17)\n",
      "Requirement already satisfied: nvidia-cublas-cu12==12.6.4.1 in /2025-ai-expert/.cv/lib/python3.10/site-packages (from torch>=1.7->timm==0.9.12) (12.6.4.1)\n",
      "Requirement already satisfied: nvidia-cufft-cu12==11.3.0.4 in /2025-ai-expert/.cv/lib/python3.10/site-packages (from torch>=1.7->timm==0.9.12) (11.3.0.4)\n",
      "Requirement already satisfied: nvidia-curand-cu12==10.3.7.77 in /2025-ai-expert/.cv/lib/python3.10/site-packages (from torch>=1.7->timm==0.9.12) (10.3.7.77)\n",
      "Requirement already satisfied: nvidia-cusolver-cu12==11.7.1.2 in /2025-ai-expert/.cv/lib/python3.10/site-packages (from torch>=1.7->timm==0.9.12) (11.7.1.2)\n",
      "Requirement already satisfied: nvidia-cusparse-cu12==12.5.4.2 in /2025-ai-expert/.cv/lib/python3.10/site-packages (from torch>=1.7->timm==0.9.12) (12.5.4.2)\n",
      "Requirement already satisfied: nvidia-cusparselt-cu12==0.6.3 in /2025-ai-expert/.cv/lib/python3.10/site-packages (from torch>=1.7->timm==0.9.12) (0.6.3)\n",
      "Requirement already satisfied: nvidia-nccl-cu12==2.26.2 in /2025-ai-expert/.cv/lib/python3.10/site-packages (from torch>=1.7->timm==0.9.12) (2.26.2)\n",
      "Requirement already satisfied: nvidia-nvtx-cu12==12.6.77 in /2025-ai-expert/.cv/lib/python3.10/site-packages (from torch>=1.7->timm==0.9.12) (12.6.77)\n",
      "Requirement already satisfied: nvidia-nvjitlink-cu12==12.6.85 in /2025-ai-expert/.cv/lib/python3.10/site-packages (from torch>=1.7->timm==0.9.12) (12.6.85)\n",
      "Requirement already satisfied: nvidia-cufile-cu12==1.11.1.6 in /2025-ai-expert/.cv/lib/python3.10/site-packages (from torch>=1.7->timm==0.9.12) (1.11.1.6)\n",
      "Requirement already satisfied: triton==3.3.1 in /2025-ai-expert/.cv/lib/python3.10/site-packages (from torch>=1.7->timm==0.9.12) (3.3.1)\n",
      "Requirement already satisfied: setuptools>=40.8.0 in /2025-ai-expert/.cv/lib/python3.10/site-packages (from triton==3.3.1->torch>=1.7->timm==0.9.12) (80.9.0)\n",
      "Requirement already satisfied: mpmath<1.4,>=1.1.0 in /2025-ai-expert/.cv/lib/python3.10/site-packages (from sympy>=1.13.3->torch>=1.7->timm==0.9.12) (1.3.0)\n",
      "Requirement already satisfied: packaging>=20.9 in /2025-ai-expert/.cv/lib/python3.10/site-packages (from huggingface-hub->timm==0.9.12) (25.0)\n",
      "Requirement already satisfied: requests in /2025-ai-expert/.cv/lib/python3.10/site-packages (from huggingface-hub->timm==0.9.12) (2.32.4)\n",
      "Requirement already satisfied: tqdm>=4.42.1 in /2025-ai-expert/.cv/lib/python3.10/site-packages (from huggingface-hub->timm==0.9.12) (4.67.1)\n",
      "Requirement already satisfied: hf-xet<2.0.0,>=1.1.2 in /2025-ai-expert/.cv/lib/python3.10/site-packages (from huggingface-hub->timm==0.9.12) (1.1.5)\n",
      "Requirement already satisfied: MarkupSafe>=2.0 in /2025-ai-expert/.cv/lib/python3.10/site-packages (from jinja2->torch>=1.7->timm==0.9.12) (3.0.2)\n",
      "Requirement already satisfied: charset_normalizer<4,>=2 in /2025-ai-expert/.cv/lib/python3.10/site-packages (from requests->huggingface-hub->timm==0.9.12) (3.4.2)\n",
      "Requirement already satisfied: idna<4,>=2.5 in /2025-ai-expert/.cv/lib/python3.10/site-packages (from requests->huggingface-hub->timm==0.9.12) (3.10)\n",
      "Requirement already satisfied: urllib3<3,>=1.21.1 in /2025-ai-expert/.cv/lib/python3.10/site-packages (from requests->huggingface-hub->timm==0.9.12) (2.5.0)\n",
      "Requirement already satisfied: certifi>=2017.4.17 in /2025-ai-expert/.cv/lib/python3.10/site-packages (from requests->huggingface-hub->timm==0.9.12) (2025.7.14)\n",
      "Requirement already satisfied: numpy in /2025-ai-expert/.cv/lib/python3.10/site-packages (from torchvision->timm==0.9.12) (2.2.6)\n",
      "Requirement already satisfied: pillow!=8.3.*,>=5.3.0 in /2025-ai-expert/.cv/lib/python3.10/site-packages (from torchvision->timm==0.9.12) (11.3.0)\n"
     ]
    },
    {
     "name": "stderr",
     "output_type": "stream",
     "text": [
      "/2025-ai-expert/.cv/lib/python3.10/site-packages/tqdm/auto.py:21: TqdmWarning: IProgress not found. Please update jupyter and ipywidgets. See https://ipywidgets.readthedocs.io/en/stable/user_install.html\n",
      "  from .autonotebook import tqdm as notebook_tqdm\n"
     ]
    }
   ],
   "source": [
    "import os\n",
    "import time\n",
    "import traceback\n",
    "import logging\n",
    "from easydict import EasyDict as edict\n",
    "import numpy as np\n",
    "from pathlib import Path\n",
    "from PIL import Image\n",
    "\n",
    "import torch\n",
    "import torch.nn as nn\n",
    "import torch.nn.functional as F\n",
    "from torch.optim import SGD\n",
    "from torch.utils.data import DataLoader\n",
    "from torch.utils.tensorboard import SummaryWriter\n",
    "from torchvision import transforms\n",
    "from torchvision.utils import make_grid\n",
    "from torchvision.datasets import VOCSegmentation, SBDataset\n",
    "from torchvision.datasets.vision import StandardTransform\n",
    "# from torchvision.models.vgg import VGG, vgg16, make_layers\n",
    "\n",
    "torch.backends.cudnn.benchmark = True\n",
    "torch.use_deterministic_algorithms(True, warn_only=True)\n",
    "\n",
    "# !pip install git+https://github.com/lucasb-eyer/pydensecrf.git\n",
    "import pydensecrf.densecrf as dcrf\n",
    "import pydensecrf.utils as utils\n",
    "\n",
    "!pip install einops\n",
    "from einops import rearrange, reduce, repeat\n",
    "\n",
    "!pip install timm==0.9.12\n",
    "from timm.models.vision_transformer import vit_tiny_patch16_224, vit_tiny_patch16_384"
   ]
  },
  {
   "cell_type": "markdown",
   "metadata": {
    "id": "W27cdKyEmJy1"
   },
   "source": [
    "## Hyperparameters"
   ]
  },
  {
   "cell_type": "code",
   "execution_count": 4,
   "metadata": {
    "id": "dczwhJI1l8Kl",
    "tags": []
   },
   "outputs": [],
   "source": [
    "# Basic settings\n",
    "torch.manual_seed(42)\n",
    "torch.cuda.manual_seed(42)\n",
    "\n",
    "args = edict()\n",
    "args.batch_size = 1\n",
    "args.lr = 1e-4\n",
    "args.momentum = 0.9\n",
    "args.weight_decay = 5e-4\n",
    "args.epoch = 2\n",
    "args.tensorboard = True\n",
    "args.gpu = True\n",
    "\n",
    "device = 'cuda' if torch.cuda.is_available() and args.gpu else 'cpu'\n",
    "\n",
    "# Create directory name.\n",
    "result_dir = Path(root) / 'results'\n",
    "result_dir.mkdir(parents=True, exist_ok=True)"
   ]
  },
  {
   "cell_type": "markdown",
   "metadata": {
    "id": "5iiGFJlxmCXW"
   },
   "source": [
    "## Tensorboard"
   ]
  },
  {
   "cell_type": "code",
   "execution_count": 5,
   "metadata": {
    "id": "2b3_oX_2mDw1",
    "tags": []
   },
   "outputs": [
    {
     "data": {
      "text/html": [
       "\n",
       "      <iframe id=\"tensorboard-frame-1e162ff6883a3379\" width=\"100%\" height=\"800\" frameborder=\"0\">\n",
       "      </iframe>\n",
       "      <script>\n",
       "        (function() {\n",
       "          const frame = document.getElementById(\"tensorboard-frame-1e162ff6883a3379\");\n",
       "          const url = new URL(\"/\", window.location);\n",
       "          const port = 6006;\n",
       "          if (port) {\n",
       "            url.port = port;\n",
       "          }\n",
       "          frame.src = url;\n",
       "        })();\n",
       "      </script>\n",
       "    "
      ],
      "text/plain": [
       "<IPython.core.display.HTML object>"
      ]
     },
     "metadata": {},
     "output_type": "display_data"
    }
   ],
   "source": [
    "# Setup tensorboard.\n",
    "if args.tensorboard:\n",
    "    %reload_ext tensorboard\n",
    "    %tensorboard --logdir \"/2025-ai-expert/비전/03_홍승훈교수님/0725/results\" --samples_per_plugin images=100\n",
    "else:\n",
    "    writer = None"
   ]
  },
  {
   "cell_type": "markdown",
   "metadata": {
    "id": "XQZvsEeDmeZt"
   },
   "source": [
    "---\n",
    "# Utility functions\n",
    "\n",
    "Here are some utility functions that we will use throughout this assignment. You don't have to modify any of these.  \n",
    "**Conditional Random Field (CRF)** is a technique to further improve segmentation performance, mainly focusing on better localization. Details can be found in the [DeepLab](https://arxiv.org/abs/1606.00915) paper."
   ]
  },
  {
   "cell_type": "code",
   "execution_count": 6,
   "metadata": {
    "id": "LUOvr2A_mf4Q",
    "tags": []
   },
   "outputs": [],
   "source": [
    "def init_weights(m):\n",
    "    if isinstance(m, nn.Linear):\n",
    "        trunc_normal_(m.weight, std=0.02)\n",
    "        if isinstance(m, nn.Linear) and m.bias is not None:\n",
    "            nn.init.constant_(m.bias, 0)\n",
    "    elif isinstance(m, nn.LayerNorm):\n",
    "        nn.init.constant_(m.bias, 0)\n",
    "        nn.init.constant_(m.weight, 1.0)\n",
    "\n",
    "\n",
    "class toLongTensor:\n",
    "    \"\"\" Convert a byte tensor to a long tensor \"\"\"\n",
    "    def __call__(self, img):\n",
    "        output = torch.from_numpy(np.array(img).astype(np.int32)).long()\n",
    "        output[output == 255] = 21\n",
    "        return output\n",
    "\n",
    "\n",
    "def _fast_hist(label_true, label_pred, n_class):\n",
    "    mask = (label_true >= 0) & (label_true < n_class)\n",
    "    hist = np.bincount(\n",
    "        n_class * label_true[mask].astype(int) +\n",
    "        label_pred[mask], minlength=n_class ** 2).reshape(n_class, n_class)\n",
    "    return hist\n",
    "\n",
    "\n",
    "def label_accuracy_score(label_trues, label_preds, n_class):\n",
    "    \"\"\" Returns overall accuracy and mean IoU \"\"\"\n",
    "    hist = np.zeros((n_class, n_class))\n",
    "    for lt, lp in zip(label_trues, label_preds):\n",
    "        hist += _fast_hist(lt.flatten(), lp.flatten(), n_class)\n",
    "    acc = np.diag(hist).sum() / hist.sum()\n",
    "    with np.errstate(divide='ignore', invalid='ignore'):\n",
    "        iou = np.diag(hist) / (\n",
    "            hist.sum(axis=1) + hist.sum(axis=0) - np.diag(hist)\n",
    "        )\n",
    "    mean_iou = np.nanmean(iou)\n",
    "    return acc, mean_iou\n",
    "\n",
    "\n",
    "class Colorize(object):\n",
    "    \"\"\" Colorize the segmentation labels \"\"\"\n",
    "    def __init__(self, n=35, cmap=None):\n",
    "        if cmap is None:\n",
    "            raise NotImplementedError()\n",
    "            self.cmap = labelcolormap(n)\n",
    "        else:\n",
    "            self.cmap = cmap\n",
    "        self.cmap = self.cmap[:n]\n",
    "\n",
    "    def preprocess(self, x):\n",
    "        if len(x.size()) > 3 and x.size(1) > 1:\n",
    "            # if x has a shape of [B, C, H, W],\n",
    "            # where B and C denote a batch size and the number of semantic classe\n",
    "            # then translate it into a shape of [B, 1, H, W]\n",
    "            x = x.argmax(dim=1, keepdim=True).float()\n",
    "        assert (len(x.shape) == 4) and (x.size(1) == 1), 'x should have a shape of [B, 1, H, W]'\n",
    "        return x\n",
    "\n",
    "    def __call__(self, x):\n",
    "        x = self.preprocess(x)\n",
    "        if (x.dtype == torch.float) and (x.max() < 2):\n",
    "            x = x.mul(255).long()\n",
    "        color_images = []\n",
    "        gray_image_shape = x.shape[1:]\n",
    "        for gray_image in x:\n",
    "            color_image = torch.ByteTensor(3, *gray_image_shape[1:]).fill_(0)\n",
    "            for label, cmap in enumerate(self.cmap):\n",
    "                mask = (label == gray_image[0]).cpu()\n",
    "                color_image[0][mask] = cmap[0]\n",
    "                color_image[1][mask] = cmap[1]\n",
    "                color_image[2][mask] = cmap[2]\n",
    "            color_images.append(color_image)\n",
    "        color_images = torch.stack(color_images)\n",
    "        return color_images\n",
    "\n",
    "\n",
    "def uint82bin(n, count=8):\n",
    "    \"\"\" Returns the binary of integer n, count refers to amount of bits \"\"\"\n",
    "    return ''.join([str((n >> y) & 1) for y in range(count-1, -1, -1)])\n",
    "\n",
    "\n",
    "def get_color_map():\n",
    "    \"\"\" Returns N color map \"\"\"\n",
    "    N=25\n",
    "    color_map = np.zeros((N, 3), dtype=np.uint8)\n",
    "    for i in range(N):\n",
    "        r, g, b = 0, 0, 0\n",
    "        id = i\n",
    "        for j in range(7):\n",
    "            str_id = uint82bin(id)\n",
    "            r = r ^ (np.uint8(str_id[-1]) << (7-j))\n",
    "            g = g ^ (np.uint8(str_id[-2]) << (7-j))\n",
    "            b = b ^ (np.uint8(str_id[-3]) << (7-j))\n",
    "            id = id >> 3\n",
    "        color_map[i, 0] = r\n",
    "        color_map[i, 1] = g\n",
    "        color_map[i, 2] = b\n",
    "    color_map = torch.from_numpy(color_map)\n",
    "    return color_map\n",
    "\n",
    "\n",
    "def dense_crf(img, output_probs):\n",
    "    \"\"\" Conditional Random Field for better segmentation\n",
    "        Refer to https://github.com/lucasb-eyer/pydensecrf for details.\n",
    "    \"\"\"\n",
    "    c = output_probs.shape[0]\n",
    "    h = output_probs.shape[1]\n",
    "    w = output_probs.shape[2]\n",
    "\n",
    "    U = utils.unary_from_softmax(output_probs)\n",
    "    U = np.ascontiguousarray(U)\n",
    "\n",
    "    img = np.ascontiguousarray(img)\n",
    "\n",
    "    d = dcrf.DenseCRF2D(w, h, c)\n",
    "    d.setUnaryEnergy(U)\n",
    "    d.addPairwiseGaussian(sxy=1, compat=3)\n",
    "    d.addPairwiseBilateral(sxy=67, srgb=3, rgbim=img, compat=4)\n",
    "\n",
    "    Q = d.inference(10)\n",
    "    Q = np.array(Q).reshape((c, h, w))\n",
    "    return Q\n",
    "\n",
    "\n",
    "def add_padding(img):\n",
    "    \"\"\" Zero-pad image(or any array-like object) to 500x500. \"\"\"\n",
    "    w, h = img.shape[-2], img.shape[-1]\n",
    "    MAX_SIZE = w + 36\n",
    "    IGNORE_IDX = 21\n",
    "\n",
    "    assert max(w, h) <= MAX_SIZE, f'both height and width should be less than {MAX_SIZE}'\n",
    "\n",
    "    _pad_left = (MAX_SIZE - w) // 2\n",
    "    _pad_right = (MAX_SIZE - w + 1) // 2\n",
    "    _pad_up = (MAX_SIZE - h) // 2\n",
    "    _pad_down = (MAX_SIZE - h + 1) // 2\n",
    "\n",
    "    _pad = (_pad_up, _pad_down, _pad_left, _pad_right)\n",
    "\n",
    "    padding_img = transforms.Pad(_pad)\n",
    "    padding_target = transforms.Pad(_pad, fill=IGNORE_IDX)\n",
    "\n",
    "    img = F.pad(img, pad=_pad)\n",
    "    return img\n"
   ]
  },
  {
   "cell_type": "markdown",
   "metadata": {
    "id": "r7WMaIEVmoub"
   },
   "source": [
    "---\n",
    "# Define `DataLoader` for training & validation set\n",
    "\n",
    "If the cell below fails with error message \"Destination path `./cls` already exists\", try again with `download=False`."
   ]
  },
  {
   "cell_type": "code",
   "execution_count": 7,
   "metadata": {
    "id": "do8qfYkEmtNg",
    "tags": []
   },
   "outputs": [],
   "source": [
    "mean = [.485, .456, .406]\n",
    "std = [.229, .224, .225]\n",
    "\n",
    "# define transform functions.\n",
    "im_size = 384\n",
    "transform_train = transforms.Compose([\n",
    "    transforms.Resize((im_size, im_size)),\n",
    "    transforms.ToTensor(),\n",
    "    transforms.Normalize(mean, std)\n",
    "])\n",
    "transform_train_target = transforms.Compose([\n",
    "    transforms.Resize((im_size, im_size), interpolation=transforms.InterpolationMode.NEAREST),\n",
    "    toLongTensor()\n",
    "])\n",
    "transform_test = transforms.Compose([\n",
    "    transforms.Resize((im_size, im_size)),\n",
    "    transforms.ToTensor(),\n",
    "    transforms.Normalize(mean, std)\n",
    "])\n",
    "transform_test_target = transforms.Compose([\n",
    "    transforms.Resize((im_size, im_size), interpolation=transforms.InterpolationMode.NEAREST),\n",
    "    toLongTensor()\n",
    "])\n",
    "\n",
    "# define dataloader.\n",
    "sbd_transform_train = StandardTransform(transform_train, transform_train_target)\n",
    "sbd_transform_test = StandardTransform(transform_test, transform_test_target)\n",
    "try:\n",
    "    train_dataset = SBDataset(root='../0724/', image_set='train', mode='segmentation', download=False, transforms=sbd_transform_train)\n",
    "except:\n",
    "    train_dataset = SBDataset(root='../0724/', image_set='train', mode='segmentation', download=False, transforms=sbd_transform_train)\n",
    "test_dataset = SBDataset(root='../0724/', image_set='val', mode='segmentation', download=False, transforms=sbd_transform_test)\n",
    "train_loader = DataLoader(train_dataset, batch_size=args.batch_size, shuffle=True)\n",
    "test_loader = DataLoader(test_dataset, batch_size=args.batch_size, shuffle=False)"
   ]
  },
  {
   "cell_type": "code",
   "execution_count": 8,
   "metadata": {},
   "outputs": [
    {
     "data": {
      "text/plain": [
       "2857"
      ]
     },
     "execution_count": 8,
     "metadata": {},
     "output_type": "execute_result"
    }
   ],
   "source": [
    "len(test_dataset)"
   ]
  },
  {
   "cell_type": "markdown",
   "metadata": {
    "id": "OVy7Dc_rmw2A"
   },
   "source": [
    "---\n",
    "# Define networks"
   ]
  },
  {
   "cell_type": "markdown",
   "metadata": {
    "id": "Yv94fT75mxac"
   },
   "source": [
    "## P1. Implement Attention layer [(Illustration)](https://docs.google.com/drawings/d/1HOI4QoqSACBFCeW0xVTOkn3XINBoEDNbr2xbtb9LZVY)\n",
    "### (a) Declare q, k, v projection layers.\n",
    "### (b) Declare output projection layer.\n",
    "### (c) Declare dropout layers.\n",
    "### (d) Implement forward method\n",
    "The `forward` method should\n",
    "- Map the input to queries, keys, and values.\n",
    "- Compute the the inner-product between queries and keys\n",
    "  - Multiply self.scale to the inner-product for stable training\n",
    "- Compute the attention score by applying the softmax.\n",
    "- Dropout the attention score\n",
    "- Aggregate values based on the attention score\n",
    "- Apply output projection layer\n",
    "- Apply projection dropout.\n",
    "- return the output and attention score."
   ]
  },
  {
   "cell_type": "code",
   "execution_count": 9,
   "metadata": {
    "id": "NLC1mpEFm05u",
    "tags": []
   },
   "outputs": [],
   "source": [
    "class Attention(nn.Module):\n",
    "    def __init__(self, hidden_size, heads, dropout):\n",
    "        super().__init__()\n",
    "        self.heads = heads\n",
    "        head_dim = hidden_size // heads\n",
    "        self.scale = head_dim ** -0.5\n",
    "        self.attn = None\n",
    "\n",
    "        ################################################\n",
    "        # Write your code here\n",
    "        self.q = nn.Linear(hidden_size, hidden_size, bias=False)\n",
    "        self.k = nn.Linear(hidden_size, hidden_size, bias=False)\n",
    "        self.v = nn.Linear(hidden_size, hidden_size, bias=False)\n",
    "        self.attn_drop = nn.Dropout(dropout)\n",
    "        self.proj = nn.Linear(hidden_size, hidden_size, bias=False)\n",
    "        self.proj_drop = nn.Dropout(dropout)\n",
    "        # self.q =\n",
    "        # self.k =\n",
    "        # self.v =\n",
    "        # self.attn_drop =\n",
    "        # self.proj =\n",
    "        # self.proj_drop =\n",
    "        ################################################\n",
    "\n",
    "    def forward(self, x, mask=None, debug=False):\n",
    "        B, N, C = x.shape\n",
    "\n",
    "        ################################################\n",
    "        # Write your code here.\n",
    "        # Add more lines as you wish.\n",
    "        # reshape to (B, N, nheads, d_K) and transpose to (B, nheads, N, d_K)\n",
    "        q = self.q(x).reshape(B, N, self.heads, C // self.heads).permute(0, 2, 1, 3)\n",
    "        k = self.k(x).reshape(B, N, self.heads, C // self.heads).permute(0, 2, 1, 3)\n",
    "        v = self.v(x).reshape(B, N, self.heads, C // self.heads).permute(0, 2, 1, 3)\n",
    "        \n",
    "        attn = (q @ k.transpose(-2, -1)) * self.scale\n",
    "        # if mask is not None:\n",
    "            # mask = mask.unsqueeze(1).unsqueeze(2)\n",
    "            # attn = attn.masked_fill(mask == 0, float('-inf'))\n",
    "        attn = attn.softmax(dim=-1)\n",
    "        attn = self.attn_drop(attn)\n",
    "        # output shape : (B, nheads, N, d_K)\n",
    "        output = (attn @ v).transpose(1, 2).reshape(B, N, C)\n",
    "        output = self.proj(output)\n",
    "        output = self.proj_drop(output)\n",
    "        # q =\n",
    "        # k =\n",
    "        # v =\n",
    "        # attn =\n",
    "        # output =\n",
    "        ################################################\n",
    "\n",
    "        if debug:\n",
    "          return q, k, v, output, attn\n",
    "        else:\n",
    "          return output, attn\n",
    "\n",
    "    @property\n",
    "    def unwrapped(self):\n",
    "        return self"
   ]
  },
  {
   "cell_type": "code",
   "execution_count": 10,
   "metadata": {
    "id": "-pKQyUAPFhKx",
    "tags": []
   },
   "outputs": [],
   "source": [
    "class FeedForward(nn.Module):\n",
    "    def __init__(self, dim, hidden_dim, dropout, out_dim=None):\n",
    "        super().__init__()\n",
    "        self.fc1 = nn.Linear(dim, hidden_dim)\n",
    "        self.act = nn.GELU()\n",
    "        if out_dim is None:\n",
    "            out_dim = dim\n",
    "        self.fc2 = nn.Linear(hidden_dim, out_dim)\n",
    "        self.drop = nn.Dropout(dropout)\n",
    "\n",
    "    def forward(self, x):\n",
    "        x = self.fc1(x)\n",
    "        x = self.act(x)\n",
    "        x = self.drop(x)\n",
    "        x = self.fc2(x)\n",
    "        x = self.drop(x)\n",
    "        return x\n",
    "\n",
    "    @property\n",
    "    def unwrapped(self):\n",
    "        return self\n",
    "\n",
    "\n",
    "class Block(nn.Module):\n",
    "    def __init__(self, dim, heads, mlp_dim, dropout):\n",
    "        super().__init__()\n",
    "        self.norm1 = nn.LayerNorm(dim)\n",
    "        self.norm2 = nn.LayerNorm(dim)\n",
    "        self.attn = Attention(dim, heads, dropout)\n",
    "        self.mlp = FeedForward(dim, mlp_dim, dropout)\n",
    "\n",
    "    def forward(self, x, mask=None, return_attention=False):\n",
    "        y, attn = self.attn(self.norm1(x), mask)\n",
    "        if return_attention:\n",
    "            return attn\n",
    "        x = x + y\n",
    "        x = x + self.mlp(self.norm2(x))\n",
    "        return x"
   ]
  },
  {
   "cell_type": "markdown",
   "metadata": {
    "id": "2CGmEKR5gN5h",
    "tags": []
   },
   "source": [
    "## P1 Tests\n",
    "\n",
    "This section tests your solution for P1. **Please do not modify the code!**"
   ]
  },
  {
   "cell_type": "code",
   "execution_count": 11,
   "metadata": {
    "id": "73MHsqZKgknu",
    "tags": []
   },
   "outputs": [
    {
     "name": "stdout",
     "output_type": "stream",
     "text": [
      "[TEST  1/4 Passed] Attention.__init__ executed without errors\n",
      "[TEST  2/4 Passed] Attention.forward executed without errors\n",
      "[TEST  3/4 Passed] Shape of q, k, v, attn, output are matched\n",
      "[TEST  4/4 Failed] Value of ['q', 'k', 'v', 'attn', 'output'] are not matched\n"
     ]
    }
   ],
   "source": [
    "@torch.no_grad()\n",
    "def run_tests_p1():\n",
    "    n_pass, n_test = 0, 4\n",
    "    B, N, C = 2, 10, 192\n",
    "    try:\n",
    "        torch.manual_seed(42)\n",
    "        torch.cuda.manual_seed_all(42)\n",
    "        net = Attention(C, 3, 0.1)\n",
    "        print(f\"[TEST  1/{n_test} Passed] Attention.__init__ executed without errors\")\n",
    "        n_pass += 1\n",
    "    except Exception as e:\n",
    "        print(f\"[TEST  1/{n_test} Failed] Attention.__init__ execution error; please see the traceback below\")\n",
    "        print(f\"\\n{traceback.format_exc()}\")\n",
    "\n",
    "        net = nn.Identity()\n",
    "\n",
    "    try:\n",
    "        torch.manual_seed(42)\n",
    "        torch.cuda.manual_seed_all(42)\n",
    "        x = torch.randn(B, N, C)\n",
    "        q, k, v, output, attn = net(x, debug=True)\n",
    "        print(f\"[TEST  2/{n_test} Passed] Attention.forward executed without errors\")\n",
    "        n_pass += 1\n",
    "\n",
    "    except Exception as e:\n",
    "        print(f\"[TEST  2/{n_test} Failed] Attention.forward execution error;\")\n",
    "        print(f\"\\n{traceback.format_exc()}\")\n",
    "        return\n",
    "\n",
    "    try:\n",
    "        q_shape = k_shape = v_shape = torch.Size([2, 3, 10, 64])\n",
    "        attn_shape = torch.Size([2, 3, 10, 10])\n",
    "        output_shape = torch.Size([2, 10, 192])\n",
    "\n",
    "        not_matches = []\n",
    "        if q.shape != q_shape:\n",
    "            not_matches.append('q')\n",
    "        if k.shape != k_shape:\n",
    "            not_matches.append('k')\n",
    "        if v.shape != v_shape:\n",
    "            not_matches.append('v')\n",
    "        if attn.shape != attn_shape:\n",
    "            not_matches.append('attn')\n",
    "        if output.shape != output_shape:\n",
    "            not_matches.append('output')\n",
    "        assert len(not_matches) == 0\n",
    "        print(f\"[TEST  3/{n_test} Passed] Shape of q, k, v, attn, output are matched\")\n",
    "        n_pass += 1\n",
    "    except Exception as e:\n",
    "        print(f\"[TEST  3/{n_test} Failed] Shape of {not_matches} are not matched\")\n",
    "\n",
    "    try:\n",
    "        q_mean, q_std = q.abs().mean(), q.abs().std()\n",
    "        k_mean, k_std = k.abs().mean(), k.abs().std()\n",
    "        v_mean, v_std = v.abs().mean(), v.abs().std()\n",
    "        attn_mean, attn_std = attn.abs().mean(), attn.abs().std()\n",
    "        output_mean, output_std = output.abs().mean(), output.abs().std()\n",
    "        not_matches = []\n",
    "        if ((q_mean - 0.4701).abs() > 1e-4) or ((q_std - 0.3834).abs() > 1e-4):\n",
    "            not_matches.append('q')\n",
    "        if ((k_mean - 0.4509).abs() > 1e-4) or ((k_std - 0.3436).abs() > 1e-4):\n",
    "            not_matches.append('k')\n",
    "        if ((v_mean - 0.4423).abs() > 1e-4) or ((v_std - 0.3363).abs() > 1e-4):\n",
    "            not_matches.append('v')\n",
    "        if ((attn_mean - 0.0999).abs() > 1e-4) or ((attn_std - 0.0498).abs() > 1e-4):\n",
    "            not_matches.append('attn')\n",
    "        if ((output_mean - 0.1003).abs() > 1e-4) or ((output_std - 0.0870).abs() > 1e-4):\n",
    "            not_matches.append('output')\n",
    "        assert len(not_matches) == 0\n",
    "        print(f\"[TEST  4/{n_test} Passed] All values are matched\")\n",
    "        n_pass += 1\n",
    "    except Exception as e:\n",
    "        print(f\"[TEST  4/{n_test} Failed] Value of {not_matches} are not matched\")\n",
    "\n",
    "    if n_pass == n_test:\n",
    "        print(f\"\\n[TEST] 🎉🎉🥳 All {n_pass}/{n_test} tests passed!\")\n",
    "\n",
    "\n",
    "run_tests_p1()"
   ]
  },
  {
   "cell_type": "markdown",
   "metadata": {
    "id": "JNaw-IdOm0be"
   },
   "source": [
    "## P2. Implement MaskTransformer [(Illustration)](https://docs.google.com/drawings/d/1TQ9lDfIimTom7df7_6ThzF9cOnedqIWN0xK8cB_-cSk)\n",
    "\n",
    "The MaskTransformer takes the output from the ViT encoder to predict the segmentation mask. First, the visual tokens from the ViT encoder are concatenated with class embeddings and sent to the MaskTransformer. The MaskTransformer processes these tokens, and then it calculates the segmentation mask by computing the inner product between the class embeddings and the visual tokens."
   ]
  },
  {
   "cell_type": "code",
   "execution_count": 12,
   "metadata": {
    "id": "15ONw36JnG1j",
    "tags": []
   },
   "outputs": [],
   "source": [
    "from timm.models.layers import trunc_normal_\n",
    "class MaskTransformer(nn.Module):\n",
    "    def __init__(\n",
    "        self,\n",
    "        n_cls=21,\n",
    "        patch_size=16,\n",
    "        d_encoder=192,\n",
    "        n_layers=2,\n",
    "        n_heads=3,\n",
    "        d_model=192,\n",
    "        dropout=0.1,\n",
    "    ):\n",
    "        super().__init__()\n",
    "        self.d_encoder = d_encoder\n",
    "        self.patch_size = patch_size\n",
    "        self.n_layers = n_layers\n",
    "        self.n_cls = n_cls\n",
    "        self.d_model = d_model\n",
    "        self.d_ff = d_ff = d_model * 4\n",
    "        self.scale = d_model ** -0.5\n",
    "\n",
    "        d_e = d_encoder\n",
    "        d_m = d_model\n",
    "\n",
    "        #######################################################################\n",
    "        # Write your code here\n",
    "        # self.blocks =\n",
    "        # self.cls_emb =\n",
    "        # self.proj_dec =\n",
    "        # self.proj_patch =\n",
    "        # self.proj_classes =\n",
    "        # self.decoder_norm =\n",
    "        # self.mask_norm =\n",
    "        #######################################################################\n",
    "\n",
    "        #######################################################################\n",
    "        self.blocks = nn.ModuleList(\n",
    "            [Block(d_model, n_heads, d_ff, dropout,) for i in range(n_layers)]\n",
    "        )\n",
    "\n",
    "        self.cls_emb = nn.Parameter(torch.randn(1, n_cls, d_model))\n",
    "        self.proj_dec = nn.Linear(d_encoder, d_model)\n",
    "\n",
    "        # TODO: change these as nn.Linear\n",
    "        self.proj_patch = nn.Linear(d_model, d_model, bias=False)\n",
    "        self.proj_classes = nn.Linear(d_model, d_model, bias=False)\n",
    "\n",
    "        self.decoder_norm = nn.LayerNorm(d_model)\n",
    "        self.mask_norm = nn.LayerNorm(n_cls)\n",
    "        #######################################################################\n",
    "\n",
    "        self.apply(init_weights)\n",
    "        self.proj_patch.weight.data = self.scale * torch.randn_like(self.proj_patch.weight.data)\n",
    "        self.proj_classes.weight.data = self.scale * torch.randn_like(self.proj_classes.weight.data)\n",
    "        trunc_normal_(self.cls_emb, std=0.02)\n",
    "\n",
    "    def forward(self, x, im_size, debug=False):\n",
    "        H, W = im_size\n",
    "        GS = H // self.patch_size # grid_size\n",
    "\n",
    "        #####################################################\n",
    "        # Write your code here\n",
    "        # Add more lines as you wish.\n",
    "        # block_output =\n",
    "        # patches =\n",
    "        # cls_seg_feat =\n",
    "        # masks =\n",
    "        #####################################################\n",
    "        x = self.proj_dec(x)\n",
    "        cls_emb = self.cls_emb.expand(x.size(0), -1, -1)\n",
    "        x = torch.cat((x, cls_emb), 1)\n",
    "        for blk in self.blocks:\n",
    "            x = blk(x)\n",
    "        block_output = self.decoder_norm(x)\n",
    "\n",
    "        patches, cls_seg_feat = block_output[:, : -self.n_cls], block_output[:, -self.n_cls :]\n",
    "        patches = self.proj_patch(patches)\n",
    "        cls_seg_feat = self.proj_classes(cls_seg_feat)\n",
    "\n",
    "        patches = patches / patches.norm(dim=-1, keepdim=True)\n",
    "        cls_seg_feat = cls_seg_feat / cls_seg_feat.norm(dim=-1, keepdim=True)\n",
    "\n",
    "        masks = patches @ cls_seg_feat.transpose(1, 2)\n",
    "        masks = self.mask_norm(masks)\n",
    "        # masks = rearrange(masks, \"b (h w) n -> b n h w\", h=int(GS)) # equivalent\n",
    "        masks = masks.transpose(-2, -1).reshape(x.size(0), -1, GS, GS)\n",
    "        #####################################################\n",
    "        if debug:\n",
    "          return block_output, patches, cls_seg_feat, masks\n",
    "\n",
    "        return masks\n",
    "\n",
    "    @torch.jit.ignore\n",
    "    def no_weight_decay(self):\n",
    "        return {\"cls_emb\"}\n"
   ]
  },
  {
   "cell_type": "code",
   "execution_count": 13,
   "metadata": {
    "id": "i61swfkPiNdc"
   },
   "outputs": [],
   "source": [
    "class DecoderLinear(nn.Module):\n",
    "    def __init__(self, n_cls=21, patch_size=16, d_encoder=192):\n",
    "        super().__init__()\n",
    "\n",
    "        self.d_encoder = d_encoder\n",
    "        self.patch_size = patch_size\n",
    "        self.n_cls = n_cls\n",
    "\n",
    "        self.head = nn.Linear(self.d_encoder, n_cls)\n",
    "        self.apply(init_weights)\n",
    "\n",
    "    @torch.jit.ignore\n",
    "    def no_weight_decay(self):\n",
    "        return set()\n",
    "\n",
    "    def forward(self, x, im_size):\n",
    "        H, W = im_size\n",
    "        GS = H // self.patch_size\n",
    "        x = self.head(x)\n",
    "        x = rearrange(x, \"b (h w) c -> b c h w\", h=GS)\n",
    "\n",
    "        return x"
   ]
  },
  {
   "cell_type": "markdown",
   "metadata": {
    "id": "ROilWt3SQAgv"
   },
   "source": [
    "### P2 Tests"
   ]
  },
  {
   "cell_type": "code",
   "execution_count": 14,
   "metadata": {
    "id": "0MJ6SN3cQEzR",
    "tags": []
   },
   "outputs": [
    {
     "name": "stdout",
     "output_type": "stream",
     "text": [
      "[TEST  1/4 Passed] MaskTransformer.__init__ executed without errors\n",
      "[TEST  2/4 Passed] MaskTransformer.forward executed without errors\n",
      "[TEST  3/4 Passed] Shape of outputs are matched\n",
      "[TEST  4/4 Failed] Value of ['q', 'cls_seg_feat', 'masks'] are not matched\n"
     ]
    }
   ],
   "source": [
    "@torch.no_grad()\n",
    "def run_tests_p2():\n",
    "    n_pass, n_test = 0, 4\n",
    "    B, N, C = 2, 16, 192\n",
    "    im_size = (64, 64)\n",
    "    try:\n",
    "        torch.manual_seed(42)\n",
    "        torch.cuda.manual_seed_all(42)\n",
    "        net = MaskTransformer()\n",
    "        print(f\"[TEST  1/{n_test} Passed] MaskTransformer.__init__ executed without errors\")\n",
    "        n_pass += 1\n",
    "    except Exception as e:\n",
    "        print(f\"[TEST  1/{n_test} Failed] MaskTransformer.__init__ execution error; please see the traceback below\")\n",
    "        print(f\"\\n{traceback.format_exc()}\")\n",
    "        return\n",
    "\n",
    "    try:\n",
    "        torch.manual_seed(42)\n",
    "        torch.cuda.manual_seed_all(42)\n",
    "        x = torch.randn(B, N, C)\n",
    "        block_output, patches, cls_seg_feat, masks = net(x, im_size, debug=True)\n",
    "        print(f\"[TEST  2/{n_test} Passed] MaskTransformer.forward executed without errors\")\n",
    "        n_pass += 1\n",
    "\n",
    "    except Exception as e:\n",
    "        print(f\"[TEST  2/{n_test} Failed] MaskTransformer.forward execution error;\")\n",
    "        print(f\"\\n{traceback.format_exc()}\")\n",
    "        return\n",
    "\n",
    "    b_mean, b_std = block_output.abs().mean(), block_output.abs().std()\n",
    "    p_mean, p_std = patches.abs().mean(), patches.abs().std()\n",
    "    c_mean, c_std = cls_seg_feat.abs().mean(), cls_seg_feat.abs().std()\n",
    "    m_mean, m_std = masks.abs().mean(), masks.abs().std()\n",
    "\n",
    "    try:\n",
    "        not_matches = []\n",
    "        if block_output.shape != torch.Size([2, 37, 192]):\n",
    "            not_matches.append('block_output')\n",
    "        if patches.shape != torch.Size([2, 16, 192]):\n",
    "            not_matches.append('patches')\n",
    "        if cls_seg_feat.shape != torch.Size([2, 21, 192]):\n",
    "            not_matches.append('cls_seg_feat')\n",
    "        if masks.shape != torch.Size([2, 21, 4, 4]):\n",
    "            not_matches.append('masks')\n",
    "        assert len(not_matches) == 0\n",
    "        print(f\"[TEST  3/{n_test} Passed] Shape of outputs are matched\")\n",
    "        n_pass += 1\n",
    "    except Exception as e:\n",
    "        print(f\"[TEST  3/{n_test} Failed] Shape of {not_matches} are not matched\")\n",
    "\n",
    "    try:\n",
    "        not_matches = []\n",
    "        if ((b_mean - 0.7917).abs() > 1e-4) or ((b_std - 0.6106).abs() > 1e-4):\n",
    "            not_matches.append('q')\n",
    "        if ((p_mean - 0.0576).abs() > 1e-4) or ((p_std - 0.0435).abs() > 1e-4):\n",
    "            not_matches.append('k')\n",
    "        if ((c_mean - 0.0577).abs() > 1e-4) or ((c_std - 0.0433).abs() > 1e-4):\n",
    "            not_matches.append('cls_seg_feat')\n",
    "        if ((m_mean - 0.8144).abs() > 1e-4) or ((m_std - 0.5783).abs() > 1e-4):\n",
    "            not_matches.append('masks')\n",
    "        assert len(not_matches) == 0\n",
    "        print(f\"[TEST  4/{n_test} Passed] All values are matched\")\n",
    "        n_pass += 1\n",
    "    except Exception as e:\n",
    "        print(f\"[TEST  4/{n_test} Failed] Value of {not_matches} are not matched\")\n",
    "\n",
    "    if n_pass == n_test:\n",
    "        print(f\"\\n[TEST] 🎉🎉🥳 All {n_pass}/{n_test} tests passed!\")\n",
    "\n",
    "\n",
    "run_tests_p2()"
   ]
  },
  {
   "cell_type": "markdown",
   "metadata": {
    "id": "90UYFHU_MJO9"
   },
   "source": [
    "# P3. Implement Segmenter [(Illustration)](https://docs.google.com/drawings/d/19914B8kWbAZrIwiFJBxkRESSN9_T5MRJ43YT6NL-SCg)\n",
    "Segmenter class connects the ViT encoder with MaskTransformer (decoder).\n",
    "Segmenter will get images shaped as (B, 3, H, W) and return the class logit map shaped as (B, num_cls, H, W)."
   ]
  },
  {
   "cell_type": "code",
   "execution_count": 15,
   "metadata": {
    "id": "SanfrEKUMNFV",
    "tags": []
   },
   "outputs": [],
   "source": [
    "import torch\n",
    "import torch.nn as nn\n",
    "import torch.nn.functional as F\n",
    "\n",
    "from timm.models.layers import trunc_normal_\n",
    "\n",
    "class Segmenter(nn.Module):\n",
    "    def __init__(\n",
    "        self,\n",
    "        n_cls=21,\n",
    "        use_tf=True,\n",
    "    ):\n",
    "        super().__init__()\n",
    "        self.n_cls = n_cls\n",
    "        # encoder = vit_tiny_patch16_224(pretrained=True)\n",
    "        encoder = vit_tiny_patch16_384(pretrained=True)\n",
    "        decoder = MaskTransformer() if use_tf else DecoderLinear()\n",
    "        self.patch_size = 16\n",
    "        self.encoder = encoder\n",
    "        self.decoder = decoder\n",
    "\n",
    "    def forward(self, im):\n",
    "        ############################################################\n",
    "        H, W = im.size(2), im.size(3)\n",
    "\n",
    "        x = self.encoder.forward_features(im)\n",
    "\n",
    "        # remove CLS/DIST tokens for decoding\n",
    "        num_extra_tokens = 1\n",
    "        x = x[:, num_extra_tokens:]\n",
    "\n",
    "        masks = self.decoder(x, (H, W))\n",
    "        masks = F.interpolate(masks, size=(H, W), mode=\"bilinear\")\n",
    "        ############################################################\n",
    "        return masks\n",
    "\n",
    "    @torch.jit.ignore\n",
    "    def no_weight_decay(self):\n",
    "        def append_prefix_no_weight_decay(prefix, module):\n",
    "            return set(map(lambda x: prefix + x, module.no_weight_decay()))\n",
    "\n",
    "        nwd_params = append_prefix_no_weight_decay(\"encoder.\", self.encoder).union(\n",
    "            append_prefix_no_weight_decay(\"decoder.\", self.decoder)\n",
    "        )\n",
    "        return nwd_params"
   ]
  },
  {
   "cell_type": "markdown",
   "metadata": {
    "id": "oBRzNiH4QAgw"
   },
   "source": [
    "### P3 Tests"
   ]
  },
  {
   "cell_type": "code",
   "execution_count": 16,
   "metadata": {
    "id": "wxceEO3SQAgw",
    "tags": []
   },
   "outputs": [
    {
     "name": "stdout",
     "output_type": "stream",
     "text": [
      "[TEST  1/4 Passed] Segmenter.__init__ executed without errors\n",
      "[TEST  2/4 Passed] Segmenter.forward executed without errors\n",
      "[TEST  3/4 Passed] Shape of mask is matched\n",
      "[TEST  4/4 Failed] Mask logits are not matched\n"
     ]
    }
   ],
   "source": [
    "@torch.no_grad()\n",
    "def run_tests_p3():\n",
    "    n_pass, n_test = 0, 4\n",
    "    try:\n",
    "        torch.manual_seed(42)\n",
    "        torch.cuda.manual_seed_all(42)\n",
    "        net = Segmenter()\n",
    "        print(f\"[TEST  1/{n_test} Passed] Segmenter.__init__ executed without errors\")\n",
    "        n_pass += 1\n",
    "    except Exception as e:\n",
    "        print(f\"[TEST  1/{n_test} Failed] Segmenter.__init__ execution error; please see the traceback below\")\n",
    "        print(f\"\\n{traceback.format_exc()}\")\n",
    "        return\n",
    "\n",
    "    try:\n",
    "        torch.manual_seed(42)\n",
    "        torch.cuda.manual_seed_all(42)\n",
    "        im = torch.randn(1, 3, im_size, im_size)\n",
    "        masks = net(im)\n",
    "        print(f\"[TEST  2/{n_test} Passed] Segmenter.forward executed without errors\")\n",
    "        n_pass += 1\n",
    "\n",
    "    except Exception as e:\n",
    "        print(f\"[TEST  2/{n_test} Failed] Segmenter.forward execution error;\")\n",
    "        print(f\"\\n{traceback.format_exc()}\")\n",
    "        return\n",
    "\n",
    "    m_mean, m_std = masks.abs().mean(), masks.abs().std()\n",
    "    try:\n",
    "        assert masks.shape == torch.Size([1, 21, im_size, im_size])\n",
    "        print(f\"[TEST  3/{n_test} Passed] Shape of mask is matched\")\n",
    "        n_pass += 1\n",
    "    except Exception as e:\n",
    "        print(f\"[TEST  3/{n_test} Failed] Shape of mask is not matched\")\n",
    "\n",
    "    try:\n",
    "        assert ((m_mean - 0.7249).abs() <= 1e-4) and ((m_std - 0.4966).abs() <= 1e-4)\n",
    "        print(f\"[TEST  4/{n_test} Passed] Mask logits are matched\")\n",
    "        n_pass += 1\n",
    "    except Exception as e:\n",
    "        print(f\"[TEST  4/{n_test} Failed] Mask logits are not matched\")\n",
    "\n",
    "    if n_pass == n_test:\n",
    "        print(f\"\\n[TEST] 🎉🎉🥳 All {n_pass}/{n_test} tests passed!\")\n",
    "\n",
    "run_tests_p3()"
   ]
  },
  {
   "cell_type": "markdown",
   "metadata": {
    "id": "Fz3cbKImnMnh"
   },
   "source": [
    "---\n",
    "# Training function"
   ]
  },
  {
   "cell_type": "markdown",
   "metadata": {
    "id": "ZKe_RQ9Zm3Ts"
   },
   "source": [
    "## Training pipeline\n",
    "\n",
    "### (a) Forward/Backward step for training\n",
    "- Feed the image through the model.\n",
    "- Perform a gradient step based on the loss. Loss can be calculated using `criterion`, located at the beginning of the function.\n",
    "- Choose the highest logit per pixel as prediction.\n",
    "\n",
    "### (b) Forward step for validation\n",
    "- Feed the image through the model.\n",
    "- Calculate loss on current image.\n",
    "- Choose the highest logit per pixel as prediction."
   ]
  },
  {
   "cell_type": "code",
   "execution_count": 17,
   "metadata": {
    "id": "qrGDOpkAnQMh",
    "tags": []
   },
   "outputs": [],
   "source": [
    "import tqdm\n",
    "\n",
    "def get_prediction(criterion, net, image, label):\n",
    "    output = net(image)\n",
    "    loss = criterion(output, label).mean()\n",
    "    pred = torch.argmax(output, dim=1)\n",
    "    return output, loss, pred\n",
    "\n",
    "def train_net(net, resume=False):\n",
    "    # 21 is the index for boundaries: therefore we ignore this index.\n",
    "    criterion = nn.CrossEntropyLoss(ignore_index=21, reduction='none')\n",
    "    colorize = Colorize(21, get_color_map())\n",
    "    best_valid_iou = 0\n",
    "\n",
    "    if resume:\n",
    "        checkpoint = torch.load(ckpt_path)\n",
    "        net.load_state_dict(checkpoint['state_dict'])\n",
    "        optimizer.load_state_dict(checkpoint['optimizer'])\n",
    "        epoch = checkpoint['epoch']\n",
    "        best_valid_iou = checkpoint['best_valid_iou']\n",
    "        print(f'Resume training from epoch {epoch+1}')\n",
    "    else:\n",
    "        epoch = 0\n",
    "\n",
    "    while epoch < args.epoch:\n",
    "        t1 = time.time()\n",
    "        saved_images, saved_labels = [], []\n",
    "\n",
    "        # start training\n",
    "        net.train()\n",
    "\n",
    "        loss_total = 0\n",
    "        ious = []\n",
    "        pixel_accs = []\n",
    "\n",
    "        for batch_idx, (image, label) in tqdm.tqdm(enumerate(train_loader)):\n",
    "            # save images for visualization.\n",
    "            if len(saved_images) < 4:\n",
    "                saved_images.append(image.cpu())\n",
    "                saved_labels.append(add_padding(label.cpu()))\n",
    "\n",
    "            # move variables to gpu.\n",
    "            image = image.to(device)\n",
    "            label = label.to(device)\n",
    "\n",
    "            output, loss, pred = get_prediction(criterion, net, image, label)\n",
    "\n",
    "            optimizer.zero_grad()\n",
    "            loss.backward()\n",
    "            optimizer.step()\n",
    "            # update total loss.\n",
    "            loss_total += loss.item()\n",
    "\n",
    "            # target\n",
    "            target = label.squeeze(1).cpu().numpy()\n",
    "\n",
    "            # calculate pixel accuarcy and mean IoU\n",
    "            acc, mean_iu = label_accuracy_score(target, pred.cpu().detach().numpy(), n_class=21)\n",
    "\n",
    "            pixel_accs.append(acc)\n",
    "            ious.append(mean_iu)\n",
    "\n",
    "            if batch_idx % 50 == 0:\n",
    "                print(f'Epoch : {epoch} || {batch_idx}/{len(train_loader)} || loss : {loss.item():.3f}, iou : {mean_iu * 100:.3f} pixel_acc : {acc * 100:.3f}')\n",
    "                writer.add_scalar('train_loss_step', loss.item(), batch_idx + epoch * len(train_loader))\n",
    "                writer.add_scalar('pixel_acc_step', acc, batch_idx + epoch * len(train_loader))\n",
    "                writer.add_scalar('mean_iou_step', mean_iu, batch_idx + epoch * len(train_loader))\n",
    "\n",
    "\n",
    "        # calculate average IoU\n",
    "        total_ious = np.array(ious).T\n",
    "        total_ious = np.nanmean(total_ious).mean()\n",
    "        total_pixel_acc = np.array(pixel_accs).mean()\n",
    "\n",
    "        writer.add_scalar('train_loss', loss_total / len(train_loader), epoch)\n",
    "        writer.add_scalar('pixel_acc', total_pixel_acc, epoch)\n",
    "        writer.add_scalar('mean_iou', total_ious, epoch)\n",
    "\n",
    "        # image visualization\n",
    "        un_norms, preds, outputs = [], [], []\n",
    "        for image, label in zip(saved_images, saved_labels):\n",
    "            # denormalize the image.\n",
    "            image_permuted = image.permute(1, 0, 2, 3)\n",
    "            un_norm = torch.zeros_like(image_permuted)\n",
    "            for idx, (im, m, s) in enumerate(zip(image_permuted, mean, std)):\n",
    "                un_norm[idx] = (im * s) + m\n",
    "            un_norm = un_norm.permute(1, 0, 2, 3)\n",
    "            un_norms.append(add_padding(un_norm))\n",
    "\n",
    "            with torch.no_grad():\n",
    "                output = net(image.to(device))\n",
    "                pred = torch.argmax(output, dim=1)\n",
    "                preds.append(add_padding(pred))\n",
    "\n",
    "        # stitch images into a grid.\n",
    "        un_norm = make_grid(torch.cat(un_norms), nrow=2)\n",
    "        label = make_grid(colorize(torch.stack(saved_labels)), nrow=2)\n",
    "        pred = make_grid(colorize(torch.stack(preds)), nrow=2)\n",
    "\n",
    "        # write images to Tensorboard.\n",
    "        writer.add_image('img', un_norm, epoch)\n",
    "        writer.add_image('gt', label, epoch)\n",
    "        writer.add_image('pred', pred, epoch)\n",
    "\n",
    "        t = time.time() - t1\n",
    "        print(f'>> Epoch : {epoch} || AVG loss : {loss_total / len(train_loader):.3f}, iou : {total_ious * 100:.3f} pixel_acc : {total_pixel_acc * 100:.3f} {t:.3f} secs')\n",
    "\n",
    "        # evaluation\n",
    "        net.eval()\n",
    "        saved_images, saved_labels = [], []\n",
    "\n",
    "        valid_loss_total = 0\n",
    "        valid_ious = []\n",
    "        valid_pixel_accs = []\n",
    "\n",
    "        with torch.no_grad():\n",
    "            for batch_idx, (image, label) in tqdm.tqdm(enumerate(test_loader)):\n",
    "                # save images for visualization.\n",
    "                if len(saved_images) < 4:\n",
    "                    saved_images.append(image.cpu())\n",
    "                    saved_labels.append(add_padding(label.cpu()))\n",
    "\n",
    "                # move variables to gpu.\n",
    "                image = image.to(device)\n",
    "                label = label.to(device)\n",
    "\n",
    "                output, loss, pred = get_prediction(criterion, net, image, label)\n",
    "\n",
    "                # update total loss.\n",
    "                valid_loss_total += loss.item()\n",
    "\n",
    "                output = output.data.cpu().numpy()\n",
    "                target = label.squeeze(1).cpu().numpy()\n",
    "\n",
    "                acc, mean_iu = label_accuracy_score(target, pred.cpu().numpy(), n_class=21)\n",
    "\n",
    "                valid_pixel_accs.append(acc)\n",
    "                valid_ious.append(mean_iu)\n",
    "\n",
    "        # calculate average IoU\n",
    "        total_valid_ious = np.array(valid_ious).T\n",
    "        total_valid_ious = np.nanmean(total_valid_ious).mean()\n",
    "        total_valid_pixel_acc = np.array(valid_pixel_accs).mean()\n",
    "\n",
    "        writer.add_scalar('valid_train_loss', valid_loss_total / len(test_loader), epoch)\n",
    "        writer.add_scalar('valid_pixel_acc', total_valid_pixel_acc, epoch)\n",
    "        writer.add_scalar('valid_mean_iou', total_valid_ious, epoch)\n",
    "\n",
    "        # image visualization + CRF\n",
    "        un_norms, preds, pred_crfs, outputs = [], [], [], []\n",
    "        for image, label in zip(saved_images, saved_labels):\n",
    "            # denormalize the image.\n",
    "            image_permuted = image.permute(1, 0, 2, 3)\n",
    "            un_norm = torch.zeros_like(image_permuted)\n",
    "            for idx, (im, m, s) in enumerate(zip(image_permuted, mean, std)):\n",
    "                un_norm[idx] = (im * s) + m\n",
    "            un_norm = un_norm.permute(1, 0, 2, 3)\n",
    "            un_norms.append(add_padding(un_norm))\n",
    "\n",
    "            with torch.no_grad():\n",
    "                output = net(image.to(device))\n",
    "                outputs.append(add_padding(output))\n",
    "                pred = torch.argmax(output, dim=1)\n",
    "                preds.append(add_padding(pred))\n",
    "\n",
    "            # CRF\n",
    "            output_softmax = torch.nn.functional.softmax(output, dim=1).detach().cpu()\n",
    "            un_norm_int = (un_norm * 255).squeeze().permute(1, 2, 0).numpy().astype(np.ubyte)\n",
    "            pred_crf = dense_crf(un_norm_int, output_softmax.squeeze().numpy())\n",
    "            pred_crfs.append(add_padding(torch.argmax(torch.Tensor(pred_crf), dim=0)).unsqueeze(0))\n",
    "\n",
    "        # stitch images into a grid.\n",
    "        valid_un_norm = make_grid(torch.cat(un_norms), nrow=2)\n",
    "        valid_label = make_grid(colorize(torch.stack(saved_labels)), nrow=2)\n",
    "        valid_pred = make_grid(colorize(torch.stack(preds)), nrow=2)\n",
    "        valid_pred_crf = make_grid(colorize(torch.stack(pred_crfs)), nrow=2)\n",
    "\n",
    "        # write images to tensorboard.\n",
    "        writer.add_image('valid_img', valid_un_norm, epoch)\n",
    "        writer.add_image('valid_gt', valid_label, epoch)\n",
    "        writer.add_image('valid_pred', valid_pred, epoch)\n",
    "        writer.add_image('valid_pred_crf', valid_pred_crf, epoch)\n",
    "\n",
    "        print(f'>> Epoch : {epoch} || AVG valid loss : {valid_loss_total / len(test_loader):.3f}, iou : {total_valid_ious * 100:.3f} pixel_acc : {total_valid_pixel_acc * 100:.3f} {t:.3f} secs')\n",
    "\n",
    "        # save checkpoints every epoch.\n",
    "        checkpoint = {\n",
    "            'epoch': epoch + 1,\n",
    "            'state_dict': net.state_dict(),\n",
    "            'optimizer': optimizer.state_dict(),\n",
    "            'best_valid_iou': best_valid_iou\n",
    "        }\n",
    "        torch.save(checkpoint, ckpt_path)\n",
    "\n",
    "        # save best checkpoint.\n",
    "        if total_valid_ious > best_valid_iou:\n",
    "            best_valid_iou = total_valid_ious\n",
    "            torch.save(net.state_dict(), ckpt_dir / 'best.pt')\n",
    "\n",
    "        epoch += 1\n",
    "    print(f'>> Best validation set iou: {best_valid_iou}')"
   ]
  },
  {
   "cell_type": "markdown",
   "metadata": {
    "id": "k0758O0Fnbk2"
   },
   "source": [
    "---\n",
    "# Train models through the pipeline\n",
    "\n",
    "In this section, you will\n",
    "- Create/load directory.\n",
    "- Select which model to train.\n",
    "- Create model and optimizer.\n",
    "\n",
    "The training process will automatically save checkpoints to your Google drive after every epoch under `parent_dir`. Training could take up to 40 minutes per epoch. As we provide  pretrained weights to start with, you will only be training for 2 epochs on your own. Uncomment the lines after `# Select model here.` to choose which model to train.  \n",
    "**You must load the provided pretrained weights**, otherwise achieving reasonable performance will take much longer.  \n",
    "**If you would like to resume** from an existing `model.pt`, then\n",
    "- Comment out the line below `Load pretrained weights here.`,\n",
    "- Specify `parent_dir` as instructed,\n",
    "- Run the first code cell again, then run `train_net` with `resume=True` parameter.  \n",
    "\n",
    "<font color=\"red\">Do not terminate your process right after an epoch has finished.</font> Writing the saved model back to Google drive will take an extra couple of minutes, and aborting in the middle will likely ruin your checkpoint file."
   ]
  },
  {
   "cell_type": "code",
   "execution_count": 18,
   "metadata": {
    "id": "xAs5ugisnfAA",
    "tags": []
   },
   "outputs": [
    {
     "name": "stdout",
     "output_type": "stream",
     "text": [
      "Logs and ckpts will be saved in : results/trial_0\n"
     ]
    }
   ],
   "source": [
    "num_trial=0\n",
    "result_dir= Path(root) / 'results'\n",
    "parent_dir = result_dir / f'trial_{num_trial}'\n",
    "while parent_dir.is_dir():\n",
    "    num_trial = int(parent_dir.name.replace('trial_',''))\n",
    "    parent_dir = result_dir / f'trial_{num_trial+1}'\n",
    "\n",
    "# modify parent_dir here if you want to resume from a checkpoint, or to rename directory.\n",
    "# parent_dir = result_dir / 'trial_99'\n",
    "print(f'Logs and ckpts will be saved in : {parent_dir}')\n",
    "\n",
    "log_dir = parent_dir\n",
    "ckpt_dir = parent_dir\n",
    "ckpt_path = parent_dir / 'model.pt'\n",
    "writer = SummaryWriter(log_dir)\n",
    "\n",
    "# select model here.\n",
    "model = Segmenter(use_tf=True).cuda()\n",
    "# model = Segmenter(use_tf=False).cuda()\n",
    "\n",
    "# define optimizer.\n",
    "params = list(model.parameters())\n",
    "nwd_names = list(model.no_weight_decay())\n",
    "wd_params = []\n",
    "nwd_params = []\n",
    "for n, p in model.named_parameters():\n",
    "    ignore = False\n",
    "    for ign in nwd_names:\n",
    "        if n.startswith(ign):\n",
    "            nwd_params.append(p)\n",
    "            ignore=True\n",
    "            continue\n",
    "    if not ignore:\n",
    "        wd_params.append(p)\n",
    "optimizer = SGD([{'params': nwd_params, 'weight_decay': 0},\n",
    "                 {'params': wd_params}],\n",
    "                lr=args.lr, momentum=args.momentum, weight_decay=args.weight_decay)"
   ]
  },
  {
   "cell_type": "code",
   "execution_count": 19,
   "metadata": {
    "id": "F5UErfucnhSy",
    "tags": []
   },
   "outputs": [
    {
     "name": "stderr",
     "output_type": "stream",
     "text": [
      "3it [00:00,  5.93it/s]"
     ]
    },
    {
     "name": "stdout",
     "output_type": "stream",
     "text": [
      "Epoch : 0 || 0/8498 || loss : 3.518, iou : 0.183 pixel_acc : 1.656\n"
     ]
    },
    {
     "name": "stderr",
     "output_type": "stream",
     "text": [
      "53it [00:03, 20.72it/s]"
     ]
    },
    {
     "name": "stdout",
     "output_type": "stream",
     "text": [
      "Epoch : 0 || 50/8498 || loss : 0.413, iou : 32.998 pixel_acc : 98.994\n"
     ]
    },
    {
     "name": "stderr",
     "output_type": "stream",
     "text": [
      "105it [00:05, 22.17it/s]"
     ]
    },
    {
     "name": "stdout",
     "output_type": "stream",
     "text": [
      "Epoch : 0 || 100/8498 || loss : 2.020, iou : 13.509 pixel_acc : 40.496\n"
     ]
    },
    {
     "name": "stderr",
     "output_type": "stream",
     "text": [
      "153it [00:07, 21.62it/s]"
     ]
    },
    {
     "name": "stdout",
     "output_type": "stream",
     "text": [
      "Epoch : 0 || 150/8498 || loss : 0.486, iou : 59.557 pixel_acc : 93.115\n"
     ]
    },
    {
     "name": "stderr",
     "output_type": "stream",
     "text": [
      "204it [00:10, 20.80it/s]"
     ]
    },
    {
     "name": "stdout",
     "output_type": "stream",
     "text": [
      "Epoch : 0 || 200/8498 || loss : 1.886, iou : 5.432 pixel_acc : 37.453\n"
     ]
    },
    {
     "name": "stderr",
     "output_type": "stream",
     "text": [
      "255it [00:12, 20.53it/s]"
     ]
    },
    {
     "name": "stdout",
     "output_type": "stream",
     "text": [
      "Epoch : 0 || 250/8498 || loss : 0.833, iou : 21.361 pixel_acc : 85.211\n"
     ]
    },
    {
     "name": "stderr",
     "output_type": "stream",
     "text": [
      "303it [00:14, 20.63it/s]"
     ]
    },
    {
     "name": "stdout",
     "output_type": "stream",
     "text": [
      "Epoch : 0 || 300/8498 || loss : 0.498, iou : 17.630 pixel_acc : 91.788\n"
     ]
    },
    {
     "name": "stderr",
     "output_type": "stream",
     "text": [
      "354it [00:17, 21.10it/s]"
     ]
    },
    {
     "name": "stdout",
     "output_type": "stream",
     "text": [
      "Epoch : 0 || 350/8498 || loss : 1.159, iou : 15.680 pixel_acc : 62.417\n"
     ]
    },
    {
     "name": "stderr",
     "output_type": "stream",
     "text": [
      "405it [00:19, 21.31it/s]"
     ]
    },
    {
     "name": "stdout",
     "output_type": "stream",
     "text": [
      "Epoch : 0 || 400/8498 || loss : 0.739, iou : 27.410 pixel_acc : 83.228\n"
     ]
    },
    {
     "name": "stderr",
     "output_type": "stream",
     "text": [
      "453it [00:21, 20.17it/s]"
     ]
    },
    {
     "name": "stdout",
     "output_type": "stream",
     "text": [
      "Epoch : 0 || 450/8498 || loss : 0.616, iou : 14.664 pixel_acc : 85.656\n"
     ]
    },
    {
     "name": "stderr",
     "output_type": "stream",
     "text": [
      "503it [00:24, 18.69it/s]"
     ]
    },
    {
     "name": "stdout",
     "output_type": "stream",
     "text": [
      "Epoch : 0 || 500/8498 || loss : 2.880, iou : 6.955 pixel_acc : 29.643\n"
     ]
    },
    {
     "name": "stderr",
     "output_type": "stream",
     "text": [
      "555it [00:26, 22.17it/s]"
     ]
    },
    {
     "name": "stdout",
     "output_type": "stream",
     "text": [
      "Epoch : 0 || 550/8498 || loss : 0.778, iou : 43.412 pixel_acc : 86.825\n"
     ]
    },
    {
     "name": "stderr",
     "output_type": "stream",
     "text": [
      "603it [00:29, 20.47it/s]"
     ]
    },
    {
     "name": "stdout",
     "output_type": "stream",
     "text": [
      "Epoch : 0 || 600/8498 || loss : 0.676, iou : 10.709 pixel_acc : 84.377\n"
     ]
    },
    {
     "name": "stderr",
     "output_type": "stream",
     "text": [
      "654it [00:31, 21.12it/s]"
     ]
    },
    {
     "name": "stdout",
     "output_type": "stream",
     "text": [
      "Epoch : 0 || 650/8498 || loss : 0.681, iou : 18.397 pixel_acc : 85.130\n"
     ]
    },
    {
     "name": "stderr",
     "output_type": "stream",
     "text": [
      "702it [00:33, 20.57it/s]"
     ]
    },
    {
     "name": "stdout",
     "output_type": "stream",
     "text": [
      "Epoch : 0 || 700/8498 || loss : 1.075, iou : 17.709 pixel_acc : 66.603\n"
     ]
    },
    {
     "name": "stderr",
     "output_type": "stream",
     "text": [
      "753it [00:36, 20.64it/s]"
     ]
    },
    {
     "name": "stdout",
     "output_type": "stream",
     "text": [
      "Epoch : 0 || 750/8498 || loss : 0.533, iou : 17.975 pixel_acc : 89.875\n"
     ]
    },
    {
     "name": "stderr",
     "output_type": "stream",
     "text": [
      "804it [00:38, 22.59it/s]"
     ]
    },
    {
     "name": "stdout",
     "output_type": "stream",
     "text": [
      "Epoch : 0 || 800/8498 || loss : 0.706, iou : 44.084 pixel_acc : 94.072\n"
     ]
    },
    {
     "name": "stderr",
     "output_type": "stream",
     "text": [
      "855it [00:40, 21.23it/s]"
     ]
    },
    {
     "name": "stdout",
     "output_type": "stream",
     "text": [
      "Epoch : 0 || 850/8498 || loss : 0.531, iou : 20.323 pixel_acc : 87.035\n"
     ]
    },
    {
     "name": "stderr",
     "output_type": "stream",
     "text": [
      "903it [00:43, 21.71it/s]"
     ]
    },
    {
     "name": "stdout",
     "output_type": "stream",
     "text": [
      "Epoch : 0 || 900/8498 || loss : 0.387, iou : 12.047 pixel_acc : 91.703\n"
     ]
    },
    {
     "name": "stderr",
     "output_type": "stream",
     "text": [
      "954it [00:45, 21.52it/s]"
     ]
    },
    {
     "name": "stdout",
     "output_type": "stream",
     "text": [
      "Epoch : 0 || 950/8498 || loss : 0.270, iou : 31.751 pixel_acc : 93.846\n"
     ]
    },
    {
     "name": "stderr",
     "output_type": "stream",
     "text": [
      "1004it [00:48, 16.60it/s]"
     ]
    },
    {
     "name": "stdout",
     "output_type": "stream",
     "text": [
      "Epoch : 0 || 1000/8498 || loss : 0.224, iou : 32.588 pixel_acc : 97.765\n"
     ]
    },
    {
     "name": "stderr",
     "output_type": "stream",
     "text": [
      "1053it [00:51, 16.83it/s]"
     ]
    },
    {
     "name": "stdout",
     "output_type": "stream",
     "text": [
      "Epoch : 0 || 1050/8498 || loss : 1.167, iou : 32.466 pixel_acc : 73.294\n"
     ]
    },
    {
     "name": "stderr",
     "output_type": "stream",
     "text": [
      "1104it [00:54, 18.42it/s]"
     ]
    },
    {
     "name": "stdout",
     "output_type": "stream",
     "text": [
      "Epoch : 0 || 1100/8498 || loss : 0.562, iou : 35.053 pixel_acc : 90.701\n"
     ]
    },
    {
     "name": "stderr",
     "output_type": "stream",
     "text": [
      "1155it [00:56, 21.37it/s]"
     ]
    },
    {
     "name": "stdout",
     "output_type": "stream",
     "text": [
      "Epoch : 0 || 1150/8498 || loss : 0.374, iou : 30.613 pixel_acc : 95.770\n"
     ]
    },
    {
     "name": "stderr",
     "output_type": "stream",
     "text": [
      "1205it [00:59, 20.99it/s]"
     ]
    },
    {
     "name": "stdout",
     "output_type": "stream",
     "text": [
      "Epoch : 0 || 1200/8498 || loss : 0.419, iou : 46.369 pixel_acc : 96.124\n"
     ]
    },
    {
     "name": "stderr",
     "output_type": "stream",
     "text": [
      "1254it [01:01, 20.07it/s]"
     ]
    },
    {
     "name": "stdout",
     "output_type": "stream",
     "text": [
      "Epoch : 0 || 1250/8498 || loss : 1.905, iou : 17.496 pixel_acc : 42.742\n"
     ]
    },
    {
     "name": "stderr",
     "output_type": "stream",
     "text": [
      "1304it [01:04, 19.54it/s]"
     ]
    },
    {
     "name": "stdout",
     "output_type": "stream",
     "text": [
      "Epoch : 0 || 1300/8498 || loss : 0.736, iou : 13.890 pixel_acc : 78.353\n"
     ]
    },
    {
     "name": "stderr",
     "output_type": "stream",
     "text": [
      "1353it [01:06, 18.95it/s]"
     ]
    },
    {
     "name": "stdout",
     "output_type": "stream",
     "text": [
      "Epoch : 0 || 1350/8498 || loss : 0.293, iou : 36.677 pixel_acc : 94.027\n"
     ]
    },
    {
     "name": "stderr",
     "output_type": "stream",
     "text": [
      "1404it [01:09, 19.82it/s]"
     ]
    },
    {
     "name": "stdout",
     "output_type": "stream",
     "text": [
      "Epoch : 0 || 1400/8498 || loss : 0.535, iou : 41.939 pixel_acc : 92.624\n"
     ]
    },
    {
     "name": "stderr",
     "output_type": "stream",
     "text": [
      "1455it [01:11, 20.97it/s]"
     ]
    },
    {
     "name": "stdout",
     "output_type": "stream",
     "text": [
      "Epoch : 0 || 1450/8498 || loss : 0.803, iou : 21.733 pixel_acc : 82.610\n"
     ]
    },
    {
     "name": "stderr",
     "output_type": "stream",
     "text": [
      "1503it [01:13, 22.50it/s]"
     ]
    },
    {
     "name": "stdout",
     "output_type": "stream",
     "text": [
      "Epoch : 0 || 1500/8498 || loss : 0.375, iou : 18.547 pixel_acc : 90.226\n"
     ]
    },
    {
     "name": "stderr",
     "output_type": "stream",
     "text": [
      "1553it [01:16, 21.21it/s]"
     ]
    },
    {
     "name": "stdout",
     "output_type": "stream",
     "text": [
      "Epoch : 0 || 1550/8498 || loss : 0.243, iou : 84.592 pixel_acc : 96.280\n"
     ]
    },
    {
     "name": "stderr",
     "output_type": "stream",
     "text": [
      "1604it [01:18, 19.92it/s]"
     ]
    },
    {
     "name": "stdout",
     "output_type": "stream",
     "text": [
      "Epoch : 0 || 1600/8498 || loss : 0.732, iou : 33.401 pixel_acc : 81.989\n"
     ]
    },
    {
     "name": "stderr",
     "output_type": "stream",
     "text": [
      "1655it [01:21, 21.58it/s]"
     ]
    },
    {
     "name": "stdout",
     "output_type": "stream",
     "text": [
      "Epoch : 0 || 1650/8498 || loss : 0.356, iou : 83.892 pixel_acc : 91.696\n"
     ]
    },
    {
     "name": "stderr",
     "output_type": "stream",
     "text": [
      "1703it [01:23, 20.29it/s]"
     ]
    },
    {
     "name": "stdout",
     "output_type": "stream",
     "text": [
      "Epoch : 0 || 1700/8498 || loss : 0.376, iou : 30.064 pixel_acc : 91.265\n"
     ]
    },
    {
     "name": "stderr",
     "output_type": "stream",
     "text": [
      "1754it [01:25, 20.46it/s]"
     ]
    },
    {
     "name": "stdout",
     "output_type": "stream",
     "text": [
      "Epoch : 0 || 1750/8498 || loss : 0.636, iou : 21.927 pixel_acc : 84.012\n"
     ]
    },
    {
     "name": "stderr",
     "output_type": "stream",
     "text": [
      "1805it [01:28, 21.22it/s]"
     ]
    },
    {
     "name": "stdout",
     "output_type": "stream",
     "text": [
      "Epoch : 0 || 1800/8498 || loss : 0.692, iou : 23.449 pixel_acc : 81.994\n"
     ]
    },
    {
     "name": "stderr",
     "output_type": "stream",
     "text": [
      "1853it [01:30, 20.33it/s]"
     ]
    },
    {
     "name": "stdout",
     "output_type": "stream",
     "text": [
      "Epoch : 0 || 1850/8498 || loss : 0.370, iou : 89.927 pixel_acc : 94.978\n"
     ]
    },
    {
     "name": "stderr",
     "output_type": "stream",
     "text": [
      "1904it [01:32, 21.49it/s]"
     ]
    },
    {
     "name": "stdout",
     "output_type": "stream",
     "text": [
      "Epoch : 0 || 1900/8498 || loss : 0.278, iou : 94.189 pixel_acc : 97.011\n"
     ]
    },
    {
     "name": "stderr",
     "output_type": "stream",
     "text": [
      "1955it [01:35, 20.50it/s]"
     ]
    },
    {
     "name": "stdout",
     "output_type": "stream",
     "text": [
      "Epoch : 0 || 1950/8498 || loss : 0.515, iou : 79.811 pixel_acc : 88.795\n"
     ]
    },
    {
     "name": "stderr",
     "output_type": "stream",
     "text": [
      "2003it [01:37, 20.59it/s]"
     ]
    },
    {
     "name": "stdout",
     "output_type": "stream",
     "text": [
      "Epoch : 0 || 2000/8498 || loss : 0.389, iou : 45.262 pixel_acc : 94.977\n"
     ]
    },
    {
     "name": "stderr",
     "output_type": "stream",
     "text": [
      "2054it [01:40, 22.16it/s]"
     ]
    },
    {
     "name": "stdout",
     "output_type": "stream",
     "text": [
      "Epoch : 0 || 2050/8498 || loss : 0.337, iou : 91.425 pixel_acc : 95.541\n"
     ]
    },
    {
     "name": "stderr",
     "output_type": "stream",
     "text": [
      "2102it [01:42, 21.53it/s]"
     ]
    },
    {
     "name": "stdout",
     "output_type": "stream",
     "text": [
      "Epoch : 0 || 2100/8498 || loss : 0.639, iou : 33.620 pixel_acc : 87.001\n"
     ]
    },
    {
     "name": "stderr",
     "output_type": "stream",
     "text": [
      "2153it [01:44, 19.91it/s]"
     ]
    },
    {
     "name": "stdout",
     "output_type": "stream",
     "text": [
      "Epoch : 0 || 2150/8498 || loss : 0.369, iou : 82.390 pixel_acc : 91.434\n"
     ]
    },
    {
     "name": "stderr",
     "output_type": "stream",
     "text": [
      "2204it [01:47, 21.03it/s]"
     ]
    },
    {
     "name": "stdout",
     "output_type": "stream",
     "text": [
      "Epoch : 0 || 2200/8498 || loss : 0.246, iou : 39.514 pixel_acc : 95.548\n"
     ]
    },
    {
     "name": "stderr",
     "output_type": "stream",
     "text": [
      "2255it [01:49, 21.79it/s]"
     ]
    },
    {
     "name": "stdout",
     "output_type": "stream",
     "text": [
      "Epoch : 0 || 2250/8498 || loss : 0.476, iou : 44.002 pixel_acc : 93.323\n"
     ]
    },
    {
     "name": "stderr",
     "output_type": "stream",
     "text": [
      "2303it [01:51, 21.29it/s]"
     ]
    },
    {
     "name": "stdout",
     "output_type": "stream",
     "text": [
      "Epoch : 0 || 2300/8498 || loss : 0.331, iou : 59.779 pixel_acc : 93.591\n"
     ]
    },
    {
     "name": "stderr",
     "output_type": "stream",
     "text": [
      "2354it [01:54, 22.64it/s]"
     ]
    },
    {
     "name": "stdout",
     "output_type": "stream",
     "text": [
      "Epoch : 0 || 2350/8498 || loss : 0.333, iou : 19.321 pixel_acc : 89.297\n"
     ]
    },
    {
     "name": "stderr",
     "output_type": "stream",
     "text": [
      "2402it [01:56, 20.35it/s]"
     ]
    },
    {
     "name": "stdout",
     "output_type": "stream",
     "text": [
      "Epoch : 0 || 2400/8498 || loss : 0.496, iou : 75.891 pixel_acc : 86.295\n"
     ]
    },
    {
     "name": "stderr",
     "output_type": "stream",
     "text": [
      "2453it [01:58, 20.91it/s]"
     ]
    },
    {
     "name": "stdout",
     "output_type": "stream",
     "text": [
      "Epoch : 0 || 2450/8498 || loss : 0.113, iou : 32.882 pixel_acc : 98.646\n"
     ]
    },
    {
     "name": "stderr",
     "output_type": "stream",
     "text": [
      "2504it [02:01, 20.51it/s]"
     ]
    },
    {
     "name": "stdout",
     "output_type": "stream",
     "text": [
      "Epoch : 0 || 2500/8498 || loss : 0.216, iou : 31.339 pixel_acc : 97.698\n"
     ]
    },
    {
     "name": "stderr",
     "output_type": "stream",
     "text": [
      "2555it [02:03, 20.68it/s]"
     ]
    },
    {
     "name": "stdout",
     "output_type": "stream",
     "text": [
      "Epoch : 0 || 2550/8498 || loss : 0.115, iou : 59.717 pixel_acc : 99.362\n"
     ]
    },
    {
     "name": "stderr",
     "output_type": "stream",
     "text": [
      "2603it [02:06, 20.48it/s]"
     ]
    },
    {
     "name": "stdout",
     "output_type": "stream",
     "text": [
      "Epoch : 0 || 2600/8498 || loss : 0.370, iou : 38.377 pixel_acc : 92.838\n"
     ]
    },
    {
     "name": "stderr",
     "output_type": "stream",
     "text": [
      "2654it [02:08, 20.77it/s]"
     ]
    },
    {
     "name": "stdout",
     "output_type": "stream",
     "text": [
      "Epoch : 0 || 2650/8498 || loss : 1.861, iou : 5.679 pixel_acc : 34.677\n"
     ]
    },
    {
     "name": "stderr",
     "output_type": "stream",
     "text": [
      "2702it [02:10, 20.68it/s]"
     ]
    },
    {
     "name": "stdout",
     "output_type": "stream",
     "text": [
      "Epoch : 0 || 2700/8498 || loss : 0.949, iou : 21.995 pixel_acc : 73.857\n"
     ]
    },
    {
     "name": "stderr",
     "output_type": "stream",
     "text": [
      "2753it [02:13, 20.88it/s]"
     ]
    },
    {
     "name": "stdout",
     "output_type": "stream",
     "text": [
      "Epoch : 0 || 2750/8498 || loss : 0.344, iou : 42.682 pixel_acc : 93.551\n"
     ]
    },
    {
     "name": "stderr",
     "output_type": "stream",
     "text": [
      "2804it [02:15, 21.10it/s]"
     ]
    },
    {
     "name": "stdout",
     "output_type": "stream",
     "text": [
      "Epoch : 0 || 2800/8498 || loss : 0.456, iou : 54.440 pixel_acc : 89.714\n"
     ]
    },
    {
     "name": "stderr",
     "output_type": "stream",
     "text": [
      "2854it [02:18, 20.97it/s]"
     ]
    },
    {
     "name": "stdout",
     "output_type": "stream",
     "text": [
      "Epoch : 0 || 2850/8498 || loss : 0.542, iou : 56.229 pixel_acc : 86.808\n"
     ]
    },
    {
     "name": "stderr",
     "output_type": "stream",
     "text": [
      "2905it [02:20, 31.29it/s]"
     ]
    },
    {
     "name": "stdout",
     "output_type": "stream",
     "text": [
      "Epoch : 0 || 2900/8498 || loss : 0.755, iou : 42.206 pixel_acc : 67.838\n"
     ]
    },
    {
     "name": "stderr",
     "output_type": "stream",
     "text": [
      "2957it [02:21, 32.49it/s]"
     ]
    },
    {
     "name": "stdout",
     "output_type": "stream",
     "text": [
      "Epoch : 0 || 2950/8498 || loss : 0.109, iou : 42.312 pixel_acc : 98.499\n"
     ]
    },
    {
     "name": "stderr",
     "output_type": "stream",
     "text": [
      "3005it [02:23, 33.04it/s]"
     ]
    },
    {
     "name": "stdout",
     "output_type": "stream",
     "text": [
      "Epoch : 0 || 3000/8498 || loss : 1.127, iou : 35.637 pixel_acc : 68.783\n"
     ]
    },
    {
     "name": "stderr",
     "output_type": "stream",
     "text": [
      "3057it [02:24, 32.58it/s]"
     ]
    },
    {
     "name": "stdout",
     "output_type": "stream",
     "text": [
      "Epoch : 0 || 3050/8498 || loss : 0.475, iou : 79.605 pixel_acc : 88.765\n"
     ]
    },
    {
     "name": "stderr",
     "output_type": "stream",
     "text": [
      "3105it [02:26, 32.16it/s]"
     ]
    },
    {
     "name": "stdout",
     "output_type": "stream",
     "text": [
      "Epoch : 0 || 3100/8498 || loss : 0.189, iou : 90.730 pixel_acc : 97.210\n"
     ]
    },
    {
     "name": "stderr",
     "output_type": "stream",
     "text": [
      "3157it [02:27, 33.28it/s]"
     ]
    },
    {
     "name": "stdout",
     "output_type": "stream",
     "text": [
      "Epoch : 0 || 3150/8498 || loss : 0.588, iou : 23.728 pixel_acc : 89.957\n"
     ]
    },
    {
     "name": "stderr",
     "output_type": "stream",
     "text": [
      "3205it [02:29, 33.50it/s]"
     ]
    },
    {
     "name": "stdout",
     "output_type": "stream",
     "text": [
      "Epoch : 0 || 3200/8498 || loss : 0.463, iou : 59.695 pixel_acc : 91.688\n"
     ]
    },
    {
     "name": "stderr",
     "output_type": "stream",
     "text": [
      "3253it [02:30, 33.49it/s]"
     ]
    },
    {
     "name": "stdout",
     "output_type": "stream",
     "text": [
      "Epoch : 0 || 3250/8498 || loss : 0.316, iou : 34.469 pixel_acc : 94.084\n"
     ]
    },
    {
     "name": "stderr",
     "output_type": "stream",
     "text": [
      "3305it [02:33, 21.99it/s]"
     ]
    },
    {
     "name": "stdout",
     "output_type": "stream",
     "text": [
      "Epoch : 0 || 3300/8498 || loss : 0.756, iou : 24.188 pixel_acc : 75.405\n"
     ]
    },
    {
     "name": "stderr",
     "output_type": "stream",
     "text": [
      "3353it [02:35, 22.22it/s]"
     ]
    },
    {
     "name": "stdout",
     "output_type": "stream",
     "text": [
      "Epoch : 0 || 3350/8498 || loss : 0.890, iou : 55.780 pixel_acc : 81.156\n"
     ]
    },
    {
     "name": "stderr",
     "output_type": "stream",
     "text": [
      "3404it [02:37, 20.86it/s]"
     ]
    },
    {
     "name": "stdout",
     "output_type": "stream",
     "text": [
      "Epoch : 0 || 3400/8498 || loss : 0.423, iou : 33.324 pixel_acc : 93.212\n"
     ]
    },
    {
     "name": "stderr",
     "output_type": "stream",
     "text": [
      "3455it [02:40, 20.16it/s]"
     ]
    },
    {
     "name": "stdout",
     "output_type": "stream",
     "text": [
      "Epoch : 0 || 3450/8498 || loss : 0.444, iou : 41.789 pixel_acc : 91.943\n"
     ]
    },
    {
     "name": "stderr",
     "output_type": "stream",
     "text": [
      "3503it [02:42, 21.69it/s]"
     ]
    },
    {
     "name": "stdout",
     "output_type": "stream",
     "text": [
      "Epoch : 0 || 3500/8498 || loss : 0.461, iou : 33.808 pixel_acc : 80.927\n"
     ]
    },
    {
     "name": "stderr",
     "output_type": "stream",
     "text": [
      "3554it [02:44, 20.87it/s]"
     ]
    },
    {
     "name": "stdout",
     "output_type": "stream",
     "text": [
      "Epoch : 0 || 3550/8498 || loss : 0.571, iou : 51.475 pixel_acc : 85.839\n"
     ]
    },
    {
     "name": "stderr",
     "output_type": "stream",
     "text": [
      "3605it [02:47, 21.04it/s]"
     ]
    },
    {
     "name": "stdout",
     "output_type": "stream",
     "text": [
      "Epoch : 0 || 3600/8498 || loss : 0.543, iou : 52.471 pixel_acc : 87.678\n"
     ]
    },
    {
     "name": "stderr",
     "output_type": "stream",
     "text": [
      "3653it [02:49, 20.68it/s]"
     ]
    },
    {
     "name": "stdout",
     "output_type": "stream",
     "text": [
      "Epoch : 0 || 3650/8498 || loss : 0.540, iou : 49.676 pixel_acc : 85.392\n"
     ]
    },
    {
     "name": "stderr",
     "output_type": "stream",
     "text": [
      "3704it [02:51, 20.25it/s]"
     ]
    },
    {
     "name": "stdout",
     "output_type": "stream",
     "text": [
      "Epoch : 0 || 3700/8498 || loss : 0.121, iou : 52.640 pixel_acc : 97.361\n"
     ]
    },
    {
     "name": "stderr",
     "output_type": "stream",
     "text": [
      "3755it [02:54, 20.86it/s]"
     ]
    },
    {
     "name": "stdout",
     "output_type": "stream",
     "text": [
      "Epoch : 0 || 3750/8498 || loss : 0.593, iou : 44.683 pixel_acc : 76.714\n"
     ]
    },
    {
     "name": "stderr",
     "output_type": "stream",
     "text": [
      "3803it [02:56, 20.71it/s]"
     ]
    },
    {
     "name": "stdout",
     "output_type": "stream",
     "text": [
      "Epoch : 0 || 3800/8498 || loss : 0.658, iou : 33.056 pixel_acc : 76.759\n"
     ]
    },
    {
     "name": "stderr",
     "output_type": "stream",
     "text": [
      "3854it [02:59, 21.68it/s]"
     ]
    },
    {
     "name": "stdout",
     "output_type": "stream",
     "text": [
      "Epoch : 0 || 3850/8498 || loss : 0.365, iou : 15.829 pixel_acc : 88.915\n"
     ]
    },
    {
     "name": "stderr",
     "output_type": "stream",
     "text": [
      "3903it [03:01, 19.18it/s]"
     ]
    },
    {
     "name": "stdout",
     "output_type": "stream",
     "text": [
      "Epoch : 0 || 3900/8498 || loss : 0.445, iou : 39.976 pixel_acc : 89.384\n"
     ]
    },
    {
     "name": "stderr",
     "output_type": "stream",
     "text": [
      "3953it [03:03, 21.21it/s]"
     ]
    },
    {
     "name": "stdout",
     "output_type": "stream",
     "text": [
      "Epoch : 0 || 3950/8498 || loss : 0.645, iou : 72.249 pixel_acc : 83.982\n"
     ]
    },
    {
     "name": "stderr",
     "output_type": "stream",
     "text": [
      "4004it [03:06, 19.64it/s]"
     ]
    },
    {
     "name": "stdout",
     "output_type": "stream",
     "text": [
      "Epoch : 0 || 4000/8498 || loss : 0.218, iou : 31.826 pixel_acc : 95.382\n"
     ]
    },
    {
     "name": "stderr",
     "output_type": "stream",
     "text": [
      "4053it [03:08, 20.60it/s]"
     ]
    },
    {
     "name": "stdout",
     "output_type": "stream",
     "text": [
      "Epoch : 0 || 4050/8498 || loss : 0.223, iou : 91.948 pixel_acc : 96.778\n"
     ]
    },
    {
     "name": "stderr",
     "output_type": "stream",
     "text": [
      "4104it [03:11, 19.76it/s]"
     ]
    },
    {
     "name": "stdout",
     "output_type": "stream",
     "text": [
      "Epoch : 0 || 4100/8498 || loss : 0.753, iou : 37.517 pixel_acc : 69.941\n"
     ]
    },
    {
     "name": "stderr",
     "output_type": "stream",
     "text": [
      "4154it [03:14, 18.98it/s]"
     ]
    },
    {
     "name": "stdout",
     "output_type": "stream",
     "text": [
      "Epoch : 0 || 4150/8498 || loss : 0.368, iou : 44.450 pixel_acc : 89.495\n"
     ]
    },
    {
     "name": "stderr",
     "output_type": "stream",
     "text": [
      "4204it [03:16, 19.55it/s]"
     ]
    },
    {
     "name": "stdout",
     "output_type": "stream",
     "text": [
      "Epoch : 0 || 4200/8498 || loss : 0.928, iou : 33.000 pixel_acc : 79.123\n"
     ]
    },
    {
     "name": "stderr",
     "output_type": "stream",
     "text": [
      "4254it [03:18, 20.59it/s]"
     ]
    },
    {
     "name": "stdout",
     "output_type": "stream",
     "text": [
      "Epoch : 0 || 4250/8498 || loss : 0.725, iou : 47.198 pixel_acc : 81.707\n"
     ]
    },
    {
     "name": "stderr",
     "output_type": "stream",
     "text": [
      "4303it [03:21, 20.13it/s]"
     ]
    },
    {
     "name": "stdout",
     "output_type": "stream",
     "text": [
      "Epoch : 0 || 4300/8498 || loss : 0.676, iou : 52.133 pixel_acc : 79.464\n"
     ]
    },
    {
     "name": "stderr",
     "output_type": "stream",
     "text": [
      "4354it [03:24, 17.83it/s]"
     ]
    },
    {
     "name": "stdout",
     "output_type": "stream",
     "text": [
      "Epoch : 0 || 4350/8498 || loss : 0.345, iou : 68.899 pixel_acc : 91.577\n"
     ]
    },
    {
     "name": "stderr",
     "output_type": "stream",
     "text": [
      "4404it [03:26, 17.48it/s]"
     ]
    },
    {
     "name": "stdout",
     "output_type": "stream",
     "text": [
      "Epoch : 0 || 4400/8498 || loss : 0.259, iou : 45.710 pixel_acc : 96.142\n"
     ]
    },
    {
     "name": "stderr",
     "output_type": "stream",
     "text": [
      "4454it [03:29, 17.42it/s]"
     ]
    },
    {
     "name": "stdout",
     "output_type": "stream",
     "text": [
      "Epoch : 0 || 4450/8498 || loss : 0.284, iou : 35.340 pixel_acc : 91.469\n"
     ]
    },
    {
     "name": "stderr",
     "output_type": "stream",
     "text": [
      "4504it [03:32, 15.42it/s]"
     ]
    },
    {
     "name": "stdout",
     "output_type": "stream",
     "text": [
      "Epoch : 0 || 4500/8498 || loss : 0.455, iou : 49.115 pixel_acc : 89.960\n"
     ]
    },
    {
     "name": "stderr",
     "output_type": "stream",
     "text": [
      "4554it [03:35, 17.43it/s]"
     ]
    },
    {
     "name": "stdout",
     "output_type": "stream",
     "text": [
      "Epoch : 0 || 4550/8498 || loss : 0.432, iou : 44.402 pixel_acc : 87.329\n"
     ]
    },
    {
     "name": "stderr",
     "output_type": "stream",
     "text": [
      "4604it [03:38, 17.03it/s]"
     ]
    },
    {
     "name": "stdout",
     "output_type": "stream",
     "text": [
      "Epoch : 0 || 4600/8498 || loss : 0.471, iou : 41.991 pixel_acc : 90.763\n"
     ]
    },
    {
     "name": "stderr",
     "output_type": "stream",
     "text": [
      "4654it [03:41, 17.43it/s]"
     ]
    },
    {
     "name": "stdout",
     "output_type": "stream",
     "text": [
      "Epoch : 0 || 4650/8498 || loss : 0.605, iou : 8.056 pixel_acc : 88.611\n"
     ]
    },
    {
     "name": "stderr",
     "output_type": "stream",
     "text": [
      "4704it [03:44, 16.74it/s]"
     ]
    },
    {
     "name": "stdout",
     "output_type": "stream",
     "text": [
      "Epoch : 0 || 4700/8498 || loss : 0.396, iou : 43.388 pixel_acc : 88.480\n"
     ]
    },
    {
     "name": "stderr",
     "output_type": "stream",
     "text": [
      "4754it [03:47, 17.52it/s]"
     ]
    },
    {
     "name": "stdout",
     "output_type": "stream",
     "text": [
      "Epoch : 0 || 4750/8498 || loss : 0.635, iou : 44.532 pixel_acc : 80.520\n"
     ]
    },
    {
     "name": "stderr",
     "output_type": "stream",
     "text": [
      "4804it [03:50, 16.88it/s]"
     ]
    },
    {
     "name": "stdout",
     "output_type": "stream",
     "text": [
      "Epoch : 0 || 4800/8498 || loss : 0.287, iou : 40.194 pixel_acc : 93.771\n"
     ]
    },
    {
     "name": "stderr",
     "output_type": "stream",
     "text": [
      "4854it [03:53, 17.27it/s]"
     ]
    },
    {
     "name": "stdout",
     "output_type": "stream",
     "text": [
      "Epoch : 0 || 4850/8498 || loss : 1.055, iou : 19.081 pixel_acc : 62.236\n"
     ]
    },
    {
     "name": "stderr",
     "output_type": "stream",
     "text": [
      "4904it [03:56, 16.77it/s]"
     ]
    },
    {
     "name": "stdout",
     "output_type": "stream",
     "text": [
      "Epoch : 0 || 4900/8498 || loss : 0.464, iou : 28.418 pixel_acc : 88.940\n"
     ]
    },
    {
     "name": "stderr",
     "output_type": "stream",
     "text": [
      "4954it [03:59, 16.85it/s]"
     ]
    },
    {
     "name": "stdout",
     "output_type": "stream",
     "text": [
      "Epoch : 0 || 4950/8498 || loss : 0.314, iou : 91.537 pixel_acc : 95.837\n"
     ]
    },
    {
     "name": "stderr",
     "output_type": "stream",
     "text": [
      "5004it [04:02, 16.53it/s]"
     ]
    },
    {
     "name": "stdout",
     "output_type": "stream",
     "text": [
      "Epoch : 0 || 5000/8498 || loss : 0.442, iou : 39.907 pixel_acc : 86.344\n"
     ]
    },
    {
     "name": "stderr",
     "output_type": "stream",
     "text": [
      "5053it [04:05, 19.95it/s]"
     ]
    },
    {
     "name": "stdout",
     "output_type": "stream",
     "text": [
      "Epoch : 0 || 5050/8498 || loss : 0.330, iou : 89.422 pixel_acc : 94.425\n"
     ]
    },
    {
     "name": "stderr",
     "output_type": "stream",
     "text": [
      "5103it [04:07, 19.81it/s]"
     ]
    },
    {
     "name": "stdout",
     "output_type": "stream",
     "text": [
      "Epoch : 0 || 5100/8498 || loss : 2.613, iou : 4.690 pixel_acc : 31.974\n"
     ]
    },
    {
     "name": "stderr",
     "output_type": "stream",
     "text": [
      "5154it [04:09, 22.87it/s]"
     ]
    },
    {
     "name": "stdout",
     "output_type": "stream",
     "text": [
      "Epoch : 0 || 5150/8498 || loss : 0.493, iou : 33.580 pixel_acc : 85.950\n"
     ]
    },
    {
     "name": "stderr",
     "output_type": "stream",
     "text": [
      "5203it [04:12, 19.25it/s]"
     ]
    },
    {
     "name": "stdout",
     "output_type": "stream",
     "text": [
      "Epoch : 0 || 5200/8498 || loss : 0.401, iou : 60.319 pixel_acc : 91.139\n"
     ]
    },
    {
     "name": "stderr",
     "output_type": "stream",
     "text": [
      "5253it [04:14, 20.28it/s]"
     ]
    },
    {
     "name": "stdout",
     "output_type": "stream",
     "text": [
      "Epoch : 0 || 5250/8498 || loss : 0.510, iou : 52.212 pixel_acc : 87.912\n"
     ]
    },
    {
     "name": "stderr",
     "output_type": "stream",
     "text": [
      "5304it [04:17, 21.88it/s]"
     ]
    },
    {
     "name": "stdout",
     "output_type": "stream",
     "text": [
      "Epoch : 0 || 5300/8498 || loss : 0.389, iou : 29.057 pixel_acc : 87.965\n"
     ]
    },
    {
     "name": "stderr",
     "output_type": "stream",
     "text": [
      "5355it [04:19, 21.59it/s]"
     ]
    },
    {
     "name": "stdout",
     "output_type": "stream",
     "text": [
      "Epoch : 0 || 5350/8498 || loss : 0.199, iou : 59.509 pixel_acc : 96.476\n"
     ]
    },
    {
     "name": "stderr",
     "output_type": "stream",
     "text": [
      "5404it [04:22, 17.75it/s]"
     ]
    },
    {
     "name": "stdout",
     "output_type": "stream",
     "text": [
      "Epoch : 0 || 5400/8498 || loss : 0.435, iou : 22.511 pixel_acc : 87.409\n"
     ]
    },
    {
     "name": "stderr",
     "output_type": "stream",
     "text": [
      "5454it [04:25, 16.87it/s]"
     ]
    },
    {
     "name": "stdout",
     "output_type": "stream",
     "text": [
      "Epoch : 0 || 5450/8498 || loss : 0.219, iou : 75.858 pixel_acc : 95.034\n"
     ]
    },
    {
     "name": "stderr",
     "output_type": "stream",
     "text": [
      "5504it [04:28, 16.48it/s]"
     ]
    },
    {
     "name": "stdout",
     "output_type": "stream",
     "text": [
      "Epoch : 0 || 5500/8498 || loss : 0.331, iou : 61.466 pixel_acc : 90.399\n"
     ]
    },
    {
     "name": "stderr",
     "output_type": "stream",
     "text": [
      "5554it [04:30, 16.45it/s]"
     ]
    },
    {
     "name": "stdout",
     "output_type": "stream",
     "text": [
      "Epoch : 0 || 5550/8498 || loss : 0.433, iou : 31.384 pixel_acc : 87.754\n"
     ]
    },
    {
     "name": "stderr",
     "output_type": "stream",
     "text": [
      "5604it [04:33, 16.58it/s]"
     ]
    },
    {
     "name": "stdout",
     "output_type": "stream",
     "text": [
      "Epoch : 0 || 5600/8498 || loss : 0.290, iou : 95.469 pixel_acc : 97.813\n"
     ]
    },
    {
     "name": "stderr",
     "output_type": "stream",
     "text": [
      "5653it [04:36, 18.37it/s]"
     ]
    },
    {
     "name": "stdout",
     "output_type": "stream",
     "text": [
      "Epoch : 0 || 5650/8498 || loss : 0.190, iou : 59.870 pixel_acc : 96.881\n"
     ]
    },
    {
     "name": "stderr",
     "output_type": "stream",
     "text": [
      "5702it [04:39, 20.70it/s]"
     ]
    },
    {
     "name": "stdout",
     "output_type": "stream",
     "text": [
      "Epoch : 0 || 5700/8498 || loss : 1.165, iou : 23.547 pixel_acc : 67.414\n"
     ]
    },
    {
     "name": "stderr",
     "output_type": "stream",
     "text": [
      "5752it [04:41, 21.05it/s]"
     ]
    },
    {
     "name": "stdout",
     "output_type": "stream",
     "text": [
      "Epoch : 0 || 5750/8498 || loss : 0.432, iou : 40.434 pixel_acc : 90.796\n"
     ]
    },
    {
     "name": "stderr",
     "output_type": "stream",
     "text": [
      "5804it [04:44, 19.65it/s]"
     ]
    },
    {
     "name": "stdout",
     "output_type": "stream",
     "text": [
      "Epoch : 0 || 5800/8498 || loss : 0.625, iou : 74.119 pixel_acc : 85.168\n"
     ]
    },
    {
     "name": "stderr",
     "output_type": "stream",
     "text": [
      "5855it [04:46, 21.33it/s]"
     ]
    },
    {
     "name": "stdout",
     "output_type": "stream",
     "text": [
      "Epoch : 0 || 5850/8498 || loss : 0.481, iou : 15.640 pixel_acc : 88.224\n"
     ]
    },
    {
     "name": "stderr",
     "output_type": "stream",
     "text": [
      "5903it [04:49, 20.99it/s]"
     ]
    },
    {
     "name": "stdout",
     "output_type": "stream",
     "text": [
      "Epoch : 0 || 5900/8498 || loss : 0.505, iou : 67.204 pixel_acc : 83.913\n"
     ]
    },
    {
     "name": "stderr",
     "output_type": "stream",
     "text": [
      "5954it [04:51, 20.69it/s]"
     ]
    },
    {
     "name": "stdout",
     "output_type": "stream",
     "text": [
      "Epoch : 0 || 5950/8498 || loss : 0.456, iou : 26.019 pixel_acc : 83.967\n"
     ]
    },
    {
     "name": "stderr",
     "output_type": "stream",
     "text": [
      "6004it [04:54, 20.39it/s]"
     ]
    },
    {
     "name": "stdout",
     "output_type": "stream",
     "text": [
      "Epoch : 0 || 6000/8498 || loss : 0.285, iou : 86.539 pixel_acc : 93.564\n"
     ]
    },
    {
     "name": "stderr",
     "output_type": "stream",
     "text": [
      "6052it [04:56, 18.02it/s]"
     ]
    },
    {
     "name": "stdout",
     "output_type": "stream",
     "text": [
      "Epoch : 0 || 6050/8498 || loss : 0.087, iou : 87.896 pixel_acc : 97.757\n"
     ]
    },
    {
     "name": "stderr",
     "output_type": "stream",
     "text": [
      "6104it [04:59, 18.64it/s]"
     ]
    },
    {
     "name": "stdout",
     "output_type": "stream",
     "text": [
      "Epoch : 0 || 6100/8498 || loss : 0.230, iou : 30.790 pixel_acc : 92.328\n"
     ]
    },
    {
     "name": "stderr",
     "output_type": "stream",
     "text": [
      "6153it [05:01, 20.31it/s]"
     ]
    },
    {
     "name": "stdout",
     "output_type": "stream",
     "text": [
      "Epoch : 0 || 6150/8498 || loss : 0.464, iou : 43.406 pixel_acc : 82.789\n"
     ]
    },
    {
     "name": "stderr",
     "output_type": "stream",
     "text": [
      "6204it [05:03, 21.51it/s]"
     ]
    },
    {
     "name": "stdout",
     "output_type": "stream",
     "text": [
      "Epoch : 0 || 6200/8498 || loss : 0.299, iou : 83.757 pixel_acc : 91.168\n"
     ]
    },
    {
     "name": "stderr",
     "output_type": "stream",
     "text": [
      "6252it [05:06, 20.34it/s]"
     ]
    },
    {
     "name": "stdout",
     "output_type": "stream",
     "text": [
      "Epoch : 0 || 6250/8498 || loss : 0.197, iou : 93.072 pixel_acc : 97.540\n"
     ]
    },
    {
     "name": "stderr",
     "output_type": "stream",
     "text": [
      "6304it [05:08, 20.14it/s]"
     ]
    },
    {
     "name": "stdout",
     "output_type": "stream",
     "text": [
      "Epoch : 0 || 6300/8498 || loss : 0.154, iou : 48.895 pixel_acc : 97.790\n"
     ]
    },
    {
     "name": "stderr",
     "output_type": "stream",
     "text": [
      "6352it [05:11, 19.31it/s]"
     ]
    },
    {
     "name": "stdout",
     "output_type": "stream",
     "text": [
      "Epoch : 0 || 6350/8498 || loss : 0.211, iou : 91.717 pixel_acc : 96.703\n"
     ]
    },
    {
     "name": "stderr",
     "output_type": "stream",
     "text": [
      "6404it [05:13, 19.77it/s]"
     ]
    },
    {
     "name": "stdout",
     "output_type": "stream",
     "text": [
      "Epoch : 0 || 6400/8498 || loss : 0.152, iou : 44.962 pixel_acc : 95.793\n"
     ]
    },
    {
     "name": "stderr",
     "output_type": "stream",
     "text": [
      "6452it [05:16, 20.02it/s]"
     ]
    },
    {
     "name": "stdout",
     "output_type": "stream",
     "text": [
      "Epoch : 0 || 6450/8498 || loss : 0.693, iou : 48.121 pixel_acc : 82.869\n"
     ]
    },
    {
     "name": "stderr",
     "output_type": "stream",
     "text": [
      "6504it [05:18, 19.70it/s]"
     ]
    },
    {
     "name": "stdout",
     "output_type": "stream",
     "text": [
      "Epoch : 0 || 6500/8498 || loss : 0.153, iou : 72.567 pixel_acc : 94.864\n"
     ]
    },
    {
     "name": "stderr",
     "output_type": "stream",
     "text": [
      "6554it [05:21, 19.91it/s]"
     ]
    },
    {
     "name": "stdout",
     "output_type": "stream",
     "text": [
      "Epoch : 0 || 6550/8498 || loss : 0.572, iou : 19.245 pixel_acc : 81.805\n"
     ]
    },
    {
     "name": "stderr",
     "output_type": "stream",
     "text": [
      "6604it [05:23, 19.78it/s]"
     ]
    },
    {
     "name": "stdout",
     "output_type": "stream",
     "text": [
      "Epoch : 0 || 6600/8498 || loss : 0.125, iou : 94.878 pixel_acc : 98.642\n"
     ]
    },
    {
     "name": "stderr",
     "output_type": "stream",
     "text": [
      "6653it [05:26, 20.49it/s]"
     ]
    },
    {
     "name": "stdout",
     "output_type": "stream",
     "text": [
      "Epoch : 0 || 6650/8498 || loss : 0.830, iou : 27.908 pixel_acc : 69.945\n"
     ]
    },
    {
     "name": "stderr",
     "output_type": "stream",
     "text": [
      "6704it [05:28, 20.57it/s]"
     ]
    },
    {
     "name": "stdout",
     "output_type": "stream",
     "text": [
      "Epoch : 0 || 6700/8498 || loss : 0.154, iou : 91.432 pixel_acc : 96.786\n"
     ]
    },
    {
     "name": "stderr",
     "output_type": "stream",
     "text": [
      "6754it [05:31, 20.57it/s]"
     ]
    },
    {
     "name": "stdout",
     "output_type": "stream",
     "text": [
      "Epoch : 0 || 6750/8498 || loss : 0.178, iou : 94.658 pixel_acc : 97.302\n"
     ]
    },
    {
     "name": "stderr",
     "output_type": "stream",
     "text": [
      "6805it [05:33, 22.59it/s]"
     ]
    },
    {
     "name": "stdout",
     "output_type": "stream",
     "text": [
      "Epoch : 0 || 6800/8498 || loss : 0.140, iou : 52.468 pixel_acc : 96.455\n"
     ]
    },
    {
     "name": "stderr",
     "output_type": "stream",
     "text": [
      "6855it [05:36, 18.97it/s]"
     ]
    },
    {
     "name": "stdout",
     "output_type": "stream",
     "text": [
      "Epoch : 0 || 6850/8498 || loss : 0.380, iou : 22.939 pixel_acc : 89.940\n"
     ]
    },
    {
     "name": "stderr",
     "output_type": "stream",
     "text": [
      "6904it [05:38, 20.13it/s]"
     ]
    },
    {
     "name": "stdout",
     "output_type": "stream",
     "text": [
      "Epoch : 0 || 6900/8498 || loss : 0.256, iou : 87.175 pixel_acc : 93.237\n"
     ]
    },
    {
     "name": "stderr",
     "output_type": "stream",
     "text": [
      "6954it [05:41, 19.76it/s]"
     ]
    },
    {
     "name": "stdout",
     "output_type": "stream",
     "text": [
      "Epoch : 0 || 6950/8498 || loss : 0.651, iou : 28.788 pixel_acc : 78.536\n"
     ]
    },
    {
     "name": "stderr",
     "output_type": "stream",
     "text": [
      "7004it [05:43, 19.79it/s]"
     ]
    },
    {
     "name": "stdout",
     "output_type": "stream",
     "text": [
      "Epoch : 0 || 7000/8498 || loss : 0.228, iou : 75.493 pixel_acc : 93.458\n"
     ]
    },
    {
     "name": "stderr",
     "output_type": "stream",
     "text": [
      "7053it [05:46, 20.71it/s]"
     ]
    },
    {
     "name": "stdout",
     "output_type": "stream",
     "text": [
      "Epoch : 0 || 7050/8498 || loss : 0.933, iou : 43.908 pixel_acc : 76.716\n"
     ]
    },
    {
     "name": "stderr",
     "output_type": "stream",
     "text": [
      "7104it [05:48, 20.71it/s]"
     ]
    },
    {
     "name": "stdout",
     "output_type": "stream",
     "text": [
      "Epoch : 0 || 7100/8498 || loss : 0.398, iou : 55.884 pixel_acc : 91.048\n"
     ]
    },
    {
     "name": "stderr",
     "output_type": "stream",
     "text": [
      "7154it [05:50, 20.04it/s]"
     ]
    },
    {
     "name": "stdout",
     "output_type": "stream",
     "text": [
      "Epoch : 0 || 7150/8498 || loss : 0.179, iou : 92.322 pixel_acc : 96.678\n"
     ]
    },
    {
     "name": "stderr",
     "output_type": "stream",
     "text": [
      "7205it [05:53, 20.09it/s]"
     ]
    },
    {
     "name": "stdout",
     "output_type": "stream",
     "text": [
      "Epoch : 0 || 7200/8498 || loss : 0.292, iou : 53.218 pixel_acc : 93.731\n"
     ]
    },
    {
     "name": "stderr",
     "output_type": "stream",
     "text": [
      "7254it [05:55, 19.71it/s]"
     ]
    },
    {
     "name": "stdout",
     "output_type": "stream",
     "text": [
      "Epoch : 0 || 7250/8498 || loss : 0.088, iou : 24.757 pixel_acc : 99.026\n"
     ]
    },
    {
     "name": "stderr",
     "output_type": "stream",
     "text": [
      "7303it [05:58, 17.05it/s]"
     ]
    },
    {
     "name": "stdout",
     "output_type": "stream",
     "text": [
      "Epoch : 0 || 7300/8498 || loss : 0.426, iou : 86.000 pixel_acc : 92.482\n"
     ]
    },
    {
     "name": "stderr",
     "output_type": "stream",
     "text": [
      "7353it [06:01, 16.68it/s]"
     ]
    },
    {
     "name": "stdout",
     "output_type": "stream",
     "text": [
      "Epoch : 0 || 7350/8498 || loss : 3.273, iou : 23.014 pixel_acc : 21.320\n"
     ]
    },
    {
     "name": "stderr",
     "output_type": "stream",
     "text": [
      "7403it [06:04, 16.90it/s]"
     ]
    },
    {
     "name": "stdout",
     "output_type": "stream",
     "text": [
      "Epoch : 0 || 7400/8498 || loss : 0.576, iou : 42.087 pixel_acc : 80.074\n"
     ]
    },
    {
     "name": "stderr",
     "output_type": "stream",
     "text": [
      "7453it [06:07, 16.93it/s]"
     ]
    },
    {
     "name": "stdout",
     "output_type": "stream",
     "text": [
      "Epoch : 0 || 7450/8498 || loss : 0.373, iou : 83.903 pixel_acc : 91.615\n"
     ]
    },
    {
     "name": "stderr",
     "output_type": "stream",
     "text": [
      "7503it [06:10, 16.91it/s]"
     ]
    },
    {
     "name": "stdout",
     "output_type": "stream",
     "text": [
      "Epoch : 0 || 7500/8498 || loss : 0.229, iou : 88.834 pixel_acc : 94.271\n"
     ]
    },
    {
     "name": "stderr",
     "output_type": "stream",
     "text": [
      "7553it [06:13, 17.45it/s]"
     ]
    },
    {
     "name": "stdout",
     "output_type": "stream",
     "text": [
      "Epoch : 0 || 7550/8498 || loss : 0.329, iou : 57.880 pixel_acc : 93.085\n"
     ]
    },
    {
     "name": "stderr",
     "output_type": "stream",
     "text": [
      "7604it [06:16, 18.62it/s]"
     ]
    },
    {
     "name": "stdout",
     "output_type": "stream",
     "text": [
      "Epoch : 0 || 7600/8498 || loss : 0.266, iou : 55.078 pixel_acc : 93.763\n"
     ]
    },
    {
     "name": "stderr",
     "output_type": "stream",
     "text": [
      "7654it [06:19, 17.37it/s]"
     ]
    },
    {
     "name": "stdout",
     "output_type": "stream",
     "text": [
      "Epoch : 0 || 7650/8498 || loss : 0.433, iou : 81.930 pixel_acc : 92.883\n"
     ]
    },
    {
     "name": "stderr",
     "output_type": "stream",
     "text": [
      "7705it [06:22, 20.01it/s]"
     ]
    },
    {
     "name": "stdout",
     "output_type": "stream",
     "text": [
      "Epoch : 0 || 7700/8498 || loss : 0.104, iou : 48.891 pixel_acc : 97.782\n"
     ]
    },
    {
     "name": "stderr",
     "output_type": "stream",
     "text": [
      "7753it [06:24, 17.68it/s]"
     ]
    },
    {
     "name": "stdout",
     "output_type": "stream",
     "text": [
      "Epoch : 0 || 7750/8498 || loss : 0.215, iou : 92.343 pixel_acc : 96.387\n"
     ]
    },
    {
     "name": "stderr",
     "output_type": "stream",
     "text": [
      "7805it [06:27, 20.49it/s]"
     ]
    },
    {
     "name": "stdout",
     "output_type": "stream",
     "text": [
      "Epoch : 0 || 7800/8498 || loss : 0.296, iou : 58.680 pixel_acc : 93.768\n"
     ]
    },
    {
     "name": "stderr",
     "output_type": "stream",
     "text": [
      "7854it [06:30, 19.75it/s]"
     ]
    },
    {
     "name": "stdout",
     "output_type": "stream",
     "text": [
      "Epoch : 0 || 7850/8498 || loss : 0.653, iou : 31.224 pixel_acc : 78.793\n"
     ]
    },
    {
     "name": "stderr",
     "output_type": "stream",
     "text": [
      "7904it [06:32, 19.55it/s]"
     ]
    },
    {
     "name": "stdout",
     "output_type": "stream",
     "text": [
      "Epoch : 0 || 7900/8498 || loss : 0.379, iou : 50.845 pixel_acc : 89.826\n"
     ]
    },
    {
     "name": "stderr",
     "output_type": "stream",
     "text": [
      "7953it [06:35, 19.65it/s]"
     ]
    },
    {
     "name": "stdout",
     "output_type": "stream",
     "text": [
      "Epoch : 0 || 7950/8498 || loss : 0.192, iou : 45.860 pixel_acc : 95.329\n"
     ]
    },
    {
     "name": "stderr",
     "output_type": "stream",
     "text": [
      "8004it [06:37, 20.34it/s]"
     ]
    },
    {
     "name": "stdout",
     "output_type": "stream",
     "text": [
      "Epoch : 0 || 8000/8498 || loss : 0.658, iou : 23.024 pixel_acc : 74.238\n"
     ]
    },
    {
     "name": "stderr",
     "output_type": "stream",
     "text": [
      "8055it [06:40, 21.15it/s]"
     ]
    },
    {
     "name": "stdout",
     "output_type": "stream",
     "text": [
      "Epoch : 0 || 8050/8498 || loss : 0.653, iou : 22.607 pixel_acc : 75.638\n"
     ]
    },
    {
     "name": "stderr",
     "output_type": "stream",
     "text": [
      "8103it [06:42, 20.68it/s]"
     ]
    },
    {
     "name": "stdout",
     "output_type": "stream",
     "text": [
      "Epoch : 0 || 8100/8498 || loss : 0.309, iou : 55.085 pixel_acc : 91.762\n"
     ]
    },
    {
     "name": "stderr",
     "output_type": "stream",
     "text": [
      "8153it [06:44, 19.77it/s]"
     ]
    },
    {
     "name": "stdout",
     "output_type": "stream",
     "text": [
      "Epoch : 0 || 8150/8498 || loss : 0.289, iou : 93.944 pixel_acc : 96.887\n"
     ]
    },
    {
     "name": "stderr",
     "output_type": "stream",
     "text": [
      "8203it [06:47, 20.48it/s]"
     ]
    },
    {
     "name": "stdout",
     "output_type": "stream",
     "text": [
      "Epoch : 0 || 8200/8498 || loss : 0.055, iou : 71.015 pixel_acc : 98.591\n"
     ]
    },
    {
     "name": "stderr",
     "output_type": "stream",
     "text": [
      "8255it [06:49, 21.44it/s]"
     ]
    },
    {
     "name": "stdout",
     "output_type": "stream",
     "text": [
      "Epoch : 0 || 8250/8498 || loss : 0.058, iou : 88.214 pixel_acc : 98.313\n"
     ]
    },
    {
     "name": "stderr",
     "output_type": "stream",
     "text": [
      "8303it [06:52, 20.37it/s]"
     ]
    },
    {
     "name": "stdout",
     "output_type": "stream",
     "text": [
      "Epoch : 0 || 8300/8498 || loss : 0.672, iou : 22.149 pixel_acc : 73.756\n"
     ]
    },
    {
     "name": "stderr",
     "output_type": "stream",
     "text": [
      "8352it [06:54, 14.86it/s]"
     ]
    },
    {
     "name": "stdout",
     "output_type": "stream",
     "text": [
      "Epoch : 0 || 8350/8498 || loss : 0.326, iou : 77.645 pixel_acc : 88.813\n"
     ]
    },
    {
     "name": "stderr",
     "output_type": "stream",
     "text": [
      "8402it [06:58, 15.40it/s]"
     ]
    },
    {
     "name": "stdout",
     "output_type": "stream",
     "text": [
      "Epoch : 0 || 8400/8498 || loss : 0.133, iou : 83.315 pixel_acc : 96.595\n"
     ]
    },
    {
     "name": "stderr",
     "output_type": "stream",
     "text": [
      "8454it [07:01, 15.07it/s]"
     ]
    },
    {
     "name": "stdout",
     "output_type": "stream",
     "text": [
      "Epoch : 0 || 8450/8498 || loss : 0.029, iou : 58.418 pixel_acc : 99.332\n"
     ]
    },
    {
     "name": "stderr",
     "output_type": "stream",
     "text": [
      "8498it [07:03, 20.05it/s]\n"
     ]
    },
    {
     "name": "stdout",
     "output_type": "stream",
     "text": [
      ">> Epoch : 0 || AVG loss : 0.548, iou : 48.268 pixel_acc : 86.137 424.377 secs\n"
     ]
    },
    {
     "name": "stderr",
     "output_type": "stream",
     "text": [
      "2857it [00:58, 48.52it/s]\n"
     ]
    },
    {
     "name": "stdout",
     "output_type": "stream",
     "text": [
      ">> Epoch : 0 || AVG valid loss : 0.367, iou : 61.005 pixel_acc : 89.607 424.377 secs\n"
     ]
    },
    {
     "name": "stderr",
     "output_type": "stream",
     "text": [
      "4it [00:00, 16.24it/s]"
     ]
    },
    {
     "name": "stdout",
     "output_type": "stream",
     "text": [
      "Epoch : 1 || 0/8498 || loss : 0.295, iou : 61.655 pixel_acc : 95.353\n"
     ]
    },
    {
     "name": "stderr",
     "output_type": "stream",
     "text": [
      "54it [00:03, 15.59it/s]"
     ]
    },
    {
     "name": "stdout",
     "output_type": "stream",
     "text": [
      "Epoch : 1 || 50/8498 || loss : 0.784, iou : 33.783 pixel_acc : 68.728\n"
     ]
    },
    {
     "name": "stderr",
     "output_type": "stream",
     "text": [
      "104it [00:06, 15.74it/s]"
     ]
    },
    {
     "name": "stdout",
     "output_type": "stream",
     "text": [
      "Epoch : 1 || 100/8498 || loss : 0.713, iou : 34.912 pixel_acc : 72.278\n"
     ]
    },
    {
     "name": "stderr",
     "output_type": "stream",
     "text": [
      "154it [00:09, 17.21it/s]"
     ]
    },
    {
     "name": "stdout",
     "output_type": "stream",
     "text": [
      "Epoch : 1 || 150/8498 || loss : 0.267, iou : 20.728 pixel_acc : 90.657\n"
     ]
    },
    {
     "name": "stderr",
     "output_type": "stream",
     "text": [
      "203it [00:12, 17.14it/s]"
     ]
    },
    {
     "name": "stdout",
     "output_type": "stream",
     "text": [
      "Epoch : 1 || 200/8498 || loss : 0.122, iou : 95.755 pixel_acc : 98.087\n"
     ]
    },
    {
     "name": "stderr",
     "output_type": "stream",
     "text": [
      "253it [00:15, 16.57it/s]"
     ]
    },
    {
     "name": "stdout",
     "output_type": "stream",
     "text": [
      "Epoch : 1 || 250/8498 || loss : 0.343, iou : 33.311 pixel_acc : 85.636\n"
     ]
    },
    {
     "name": "stderr",
     "output_type": "stream",
     "text": [
      "303it [00:18, 16.91it/s]"
     ]
    },
    {
     "name": "stdout",
     "output_type": "stream",
     "text": [
      "Epoch : 1 || 300/8498 || loss : 0.358, iou : 60.194 pixel_acc : 94.203\n"
     ]
    },
    {
     "name": "stderr",
     "output_type": "stream",
     "text": [
      "353it [00:21, 17.49it/s]"
     ]
    },
    {
     "name": "stdout",
     "output_type": "stream",
     "text": [
      "Epoch : 1 || 350/8498 || loss : 0.404, iou : 29.552 pixel_acc : 91.783\n"
     ]
    },
    {
     "name": "stderr",
     "output_type": "stream",
     "text": [
      "403it [00:24, 16.62it/s]"
     ]
    },
    {
     "name": "stdout",
     "output_type": "stream",
     "text": [
      "Epoch : 1 || 400/8498 || loss : 0.557, iou : 53.153 pixel_acc : 74.696\n"
     ]
    },
    {
     "name": "stderr",
     "output_type": "stream",
     "text": [
      "453it [00:27, 16.77it/s]"
     ]
    },
    {
     "name": "stdout",
     "output_type": "stream",
     "text": [
      "Epoch : 1 || 450/8498 || loss : 0.155, iou : 63.066 pixel_acc : 96.922\n"
     ]
    },
    {
     "name": "stderr",
     "output_type": "stream",
     "text": [
      "503it [00:30, 15.63it/s]"
     ]
    },
    {
     "name": "stdout",
     "output_type": "stream",
     "text": [
      "Epoch : 1 || 500/8498 || loss : 0.669, iou : 52.496 pixel_acc : 79.333\n"
     ]
    },
    {
     "name": "stderr",
     "output_type": "stream",
     "text": [
      "553it [00:33, 15.58it/s]"
     ]
    },
    {
     "name": "stdout",
     "output_type": "stream",
     "text": [
      "Epoch : 1 || 550/8498 || loss : 0.767, iou : 36.821 pixel_acc : 84.792\n"
     ]
    },
    {
     "name": "stderr",
     "output_type": "stream",
     "text": [
      "603it [00:36, 16.28it/s]"
     ]
    },
    {
     "name": "stdout",
     "output_type": "stream",
     "text": [
      "Epoch : 1 || 600/8498 || loss : 0.345, iou : 22.588 pixel_acc : 88.204\n"
     ]
    },
    {
     "name": "stderr",
     "output_type": "stream",
     "text": [
      "653it [00:39, 16.74it/s]"
     ]
    },
    {
     "name": "stdout",
     "output_type": "stream",
     "text": [
      "Epoch : 1 || 650/8498 || loss : 0.424, iou : 24.206 pixel_acc : 85.796\n"
     ]
    },
    {
     "name": "stderr",
     "output_type": "stream",
     "text": [
      "704it [00:42, 17.15it/s]"
     ]
    },
    {
     "name": "stdout",
     "output_type": "stream",
     "text": [
      "Epoch : 1 || 700/8498 || loss : 0.109, iou : 80.685 pixel_acc : 97.000\n"
     ]
    },
    {
     "name": "stderr",
     "output_type": "stream",
     "text": [
      "754it [00:45, 15.83it/s]"
     ]
    },
    {
     "name": "stdout",
     "output_type": "stream",
     "text": [
      "Epoch : 1 || 750/8498 || loss : 0.306, iou : 91.423 pixel_acc : 96.105\n"
     ]
    },
    {
     "name": "stderr",
     "output_type": "stream",
     "text": [
      "804it [00:48, 16.77it/s]"
     ]
    },
    {
     "name": "stdout",
     "output_type": "stream",
     "text": [
      "Epoch : 1 || 800/8498 || loss : 0.246, iou : 95.318 pixel_acc : 97.630\n"
     ]
    },
    {
     "name": "stderr",
     "output_type": "stream",
     "text": [
      "854it [00:51, 16.32it/s]"
     ]
    },
    {
     "name": "stdout",
     "output_type": "stream",
     "text": [
      "Epoch : 1 || 850/8498 || loss : 0.238, iou : 55.819 pixel_acc : 94.116\n"
     ]
    },
    {
     "name": "stderr",
     "output_type": "stream",
     "text": [
      "904it [00:54, 16.72it/s]"
     ]
    },
    {
     "name": "stdout",
     "output_type": "stream",
     "text": [
      "Epoch : 1 || 900/8498 || loss : 0.560, iou : 70.583 pixel_acc : 83.850\n"
     ]
    },
    {
     "name": "stderr",
     "output_type": "stream",
     "text": [
      "954it [00:57, 16.58it/s]"
     ]
    },
    {
     "name": "stdout",
     "output_type": "stream",
     "text": [
      "Epoch : 1 || 950/8498 || loss : 0.243, iou : 87.788 pixel_acc : 93.715\n"
     ]
    },
    {
     "name": "stderr",
     "output_type": "stream",
     "text": [
      "1004it [01:00, 17.51it/s]"
     ]
    },
    {
     "name": "stdout",
     "output_type": "stream",
     "text": [
      "Epoch : 1 || 1000/8498 || loss : 0.142, iou : 42.068 pixel_acc : 97.143\n"
     ]
    },
    {
     "name": "stderr",
     "output_type": "stream",
     "text": [
      "1054it [01:03, 16.93it/s]"
     ]
    },
    {
     "name": "stdout",
     "output_type": "stream",
     "text": [
      "Epoch : 1 || 1050/8498 || loss : 0.099, iou : 93.158 pixel_acc : 98.090\n"
     ]
    },
    {
     "name": "stderr",
     "output_type": "stream",
     "text": [
      "1104it [01:06, 17.13it/s]"
     ]
    },
    {
     "name": "stdout",
     "output_type": "stream",
     "text": [
      "Epoch : 1 || 1100/8498 || loss : 0.830, iou : 30.199 pixel_acc : 62.134\n"
     ]
    },
    {
     "name": "stderr",
     "output_type": "stream",
     "text": [
      "1154it [01:09, 16.54it/s]"
     ]
    },
    {
     "name": "stdout",
     "output_type": "stream",
     "text": [
      "Epoch : 1 || 1150/8498 || loss : 0.154, iou : 92.848 pixel_acc : 96.349\n"
     ]
    },
    {
     "name": "stderr",
     "output_type": "stream",
     "text": [
      "1204it [01:12, 17.29it/s]"
     ]
    },
    {
     "name": "stdout",
     "output_type": "stream",
     "text": [
      "Epoch : 1 || 1200/8498 || loss : 0.712, iou : 65.527 pixel_acc : 78.944\n"
     ]
    },
    {
     "name": "stderr",
     "output_type": "stream",
     "text": [
      "1254it [01:15, 17.16it/s]"
     ]
    },
    {
     "name": "stdout",
     "output_type": "stream",
     "text": [
      "Epoch : 1 || 1250/8498 || loss : 0.168, iou : 84.828 pixel_acc : 95.626\n"
     ]
    },
    {
     "name": "stderr",
     "output_type": "stream",
     "text": [
      "1303it [01:17, 17.32it/s]"
     ]
    },
    {
     "name": "stdout",
     "output_type": "stream",
     "text": [
      "Epoch : 1 || 1300/8498 || loss : 0.279, iou : 93.067 pixel_acc : 96.880\n"
     ]
    },
    {
     "name": "stderr",
     "output_type": "stream",
     "text": [
      "1353it [01:20, 16.45it/s]"
     ]
    },
    {
     "name": "stdout",
     "output_type": "stream",
     "text": [
      "Epoch : 1 || 1350/8498 || loss : 0.050, iou : 49.606 pixel_acc : 99.211\n"
     ]
    },
    {
     "name": "stderr",
     "output_type": "stream",
     "text": [
      "1403it [01:23, 16.48it/s]"
     ]
    },
    {
     "name": "stdout",
     "output_type": "stream",
     "text": [
      "Epoch : 1 || 1400/8498 || loss : 0.401, iou : 40.039 pixel_acc : 87.920\n"
     ]
    },
    {
     "name": "stderr",
     "output_type": "stream",
     "text": [
      "1453it [01:26, 17.09it/s]"
     ]
    },
    {
     "name": "stdout",
     "output_type": "stream",
     "text": [
      "Epoch : 1 || 1450/8498 || loss : 0.266, iou : 56.516 pixel_acc : 91.473\n"
     ]
    },
    {
     "name": "stderr",
     "output_type": "stream",
     "text": [
      "1503it [01:29, 16.90it/s]"
     ]
    },
    {
     "name": "stdout",
     "output_type": "stream",
     "text": [
      "Epoch : 1 || 1500/8498 || loss : 0.580, iou : 37.457 pixel_acc : 82.414\n"
     ]
    },
    {
     "name": "stderr",
     "output_type": "stream",
     "text": [
      "1553it [01:32, 17.06it/s]"
     ]
    },
    {
     "name": "stdout",
     "output_type": "stream",
     "text": [
      "Epoch : 1 || 1550/8498 || loss : 0.489, iou : 50.969 pixel_acc : 82.309\n"
     ]
    },
    {
     "name": "stderr",
     "output_type": "stream",
     "text": [
      "1603it [01:35, 17.08it/s]"
     ]
    },
    {
     "name": "stdout",
     "output_type": "stream",
     "text": [
      "Epoch : 1 || 1600/8498 || loss : 0.069, iou : 93.682 pixel_acc : 98.659\n"
     ]
    },
    {
     "name": "stderr",
     "output_type": "stream",
     "text": [
      "1653it [01:38, 16.37it/s]"
     ]
    },
    {
     "name": "stdout",
     "output_type": "stream",
     "text": [
      "Epoch : 1 || 1650/8498 || loss : 0.219, iou : 53.568 pixel_acc : 94.589\n"
     ]
    },
    {
     "name": "stderr",
     "output_type": "stream",
     "text": [
      "1703it [01:41, 15.55it/s]"
     ]
    },
    {
     "name": "stdout",
     "output_type": "stream",
     "text": [
      "Epoch : 1 || 1700/8498 || loss : 0.657, iou : 37.735 pixel_acc : 79.105\n"
     ]
    },
    {
     "name": "stderr",
     "output_type": "stream",
     "text": [
      "1753it [01:45, 16.06it/s]"
     ]
    },
    {
     "name": "stdout",
     "output_type": "stream",
     "text": [
      "Epoch : 1 || 1750/8498 || loss : 1.463, iou : 27.323 pixel_acc : 71.764\n"
     ]
    },
    {
     "name": "stderr",
     "output_type": "stream",
     "text": [
      "1803it [01:48, 15.40it/s]"
     ]
    },
    {
     "name": "stdout",
     "output_type": "stream",
     "text": [
      "Epoch : 1 || 1800/8498 || loss : 0.028, iou : 86.213 pixel_acc : 99.392\n"
     ]
    },
    {
     "name": "stderr",
     "output_type": "stream",
     "text": [
      "1853it [01:51, 15.40it/s]"
     ]
    },
    {
     "name": "stdout",
     "output_type": "stream",
     "text": [
      "Epoch : 1 || 1850/8498 || loss : 0.233, iou : 62.517 pixel_acc : 95.729\n"
     ]
    },
    {
     "name": "stderr",
     "output_type": "stream",
     "text": [
      "1903it [01:54, 15.55it/s]"
     ]
    },
    {
     "name": "stdout",
     "output_type": "stream",
     "text": [
      "Epoch : 1 || 1900/8498 || loss : 0.377, iou : 72.157 pixel_acc : 85.238\n"
     ]
    },
    {
     "name": "stderr",
     "output_type": "stream",
     "text": [
      "1953it [01:57, 15.50it/s]"
     ]
    },
    {
     "name": "stdout",
     "output_type": "stream",
     "text": [
      "Epoch : 1 || 1950/8498 || loss : 0.108, iou : 94.696 pixel_acc : 97.508\n"
     ]
    },
    {
     "name": "stderr",
     "output_type": "stream",
     "text": [
      "2003it [02:01, 15.72it/s]"
     ]
    },
    {
     "name": "stdout",
     "output_type": "stream",
     "text": [
      "Epoch : 1 || 2000/8498 || loss : 0.037, iou : 49.529 pixel_acc : 99.059\n"
     ]
    },
    {
     "name": "stderr",
     "output_type": "stream",
     "text": [
      "2053it [02:04, 15.90it/s]"
     ]
    },
    {
     "name": "stdout",
     "output_type": "stream",
     "text": [
      "Epoch : 1 || 2050/8498 || loss : 0.089, iou : 86.486 pixel_acc : 97.336\n"
     ]
    },
    {
     "name": "stderr",
     "output_type": "stream",
     "text": [
      "2103it [02:07, 15.81it/s]"
     ]
    },
    {
     "name": "stdout",
     "output_type": "stream",
     "text": [
      "Epoch : 1 || 2100/8498 || loss : 0.072, iou : 79.103 pixel_acc : 97.731\n"
     ]
    },
    {
     "name": "stderr",
     "output_type": "stream",
     "text": [
      "2153it [02:10, 15.81it/s]"
     ]
    },
    {
     "name": "stdout",
     "output_type": "stream",
     "text": [
      "Epoch : 1 || 2150/8498 || loss : 0.294, iou : 53.563 pixel_acc : 94.835\n"
     ]
    },
    {
     "name": "stderr",
     "output_type": "stream",
     "text": [
      "2203it [02:13, 15.97it/s]"
     ]
    },
    {
     "name": "stdout",
     "output_type": "stream",
     "text": [
      "Epoch : 1 || 2200/8498 || loss : 0.241, iou : 89.254 pixel_acc : 94.980\n"
     ]
    },
    {
     "name": "stderr",
     "output_type": "stream",
     "text": [
      "2253it [02:16, 15.33it/s]"
     ]
    },
    {
     "name": "stdout",
     "output_type": "stream",
     "text": [
      "Epoch : 1 || 2250/8498 || loss : 0.249, iou : 59.162 pixel_acc : 95.759\n"
     ]
    },
    {
     "name": "stderr",
     "output_type": "stream",
     "text": [
      "2303it [02:19, 15.70it/s]"
     ]
    },
    {
     "name": "stdout",
     "output_type": "stream",
     "text": [
      "Epoch : 1 || 2300/8498 || loss : 0.193, iou : 89.325 pixel_acc : 95.308\n"
     ]
    },
    {
     "name": "stderr",
     "output_type": "stream",
     "text": [
      "2353it [02:23, 15.76it/s]"
     ]
    },
    {
     "name": "stdout",
     "output_type": "stream",
     "text": [
      "Epoch : 1 || 2350/8498 || loss : 0.577, iou : 64.614 pixel_acc : 82.445\n"
     ]
    },
    {
     "name": "stderr",
     "output_type": "stream",
     "text": [
      "2403it [02:26, 15.76it/s]"
     ]
    },
    {
     "name": "stdout",
     "output_type": "stream",
     "text": [
      "Epoch : 1 || 2400/8498 || loss : 0.245, iou : 91.316 pixel_acc : 95.814\n"
     ]
    },
    {
     "name": "stderr",
     "output_type": "stream",
     "text": [
      "2453it [02:29, 15.31it/s]"
     ]
    },
    {
     "name": "stdout",
     "output_type": "stream",
     "text": [
      "Epoch : 1 || 2450/8498 || loss : 0.265, iou : 85.468 pixel_acc : 92.508\n"
     ]
    },
    {
     "name": "stderr",
     "output_type": "stream",
     "text": [
      "2503it [02:32, 15.73it/s]"
     ]
    },
    {
     "name": "stdout",
     "output_type": "stream",
     "text": [
      "Epoch : 1 || 2500/8498 || loss : 0.203, iou : 45.432 pixel_acc : 93.899\n"
     ]
    },
    {
     "name": "stderr",
     "output_type": "stream",
     "text": [
      "2553it [02:36, 15.59it/s]"
     ]
    },
    {
     "name": "stdout",
     "output_type": "stream",
     "text": [
      "Epoch : 1 || 2550/8498 || loss : 0.461, iou : 70.001 pixel_acc : 89.183\n"
     ]
    },
    {
     "name": "stderr",
     "output_type": "stream",
     "text": [
      "2603it [02:39, 15.44it/s]"
     ]
    },
    {
     "name": "stdout",
     "output_type": "stream",
     "text": [
      "Epoch : 1 || 2600/8498 || loss : 0.187, iou : 62.806 pixel_acc : 96.386\n"
     ]
    },
    {
     "name": "stderr",
     "output_type": "stream",
     "text": [
      "2653it [02:42, 15.49it/s]"
     ]
    },
    {
     "name": "stdout",
     "output_type": "stream",
     "text": [
      "Epoch : 1 || 2650/8498 || loss : 0.228, iou : 91.012 pixel_acc : 95.590\n"
     ]
    },
    {
     "name": "stderr",
     "output_type": "stream",
     "text": [
      "2703it [02:45, 15.89it/s]"
     ]
    },
    {
     "name": "stdout",
     "output_type": "stream",
     "text": [
      "Epoch : 1 || 2700/8498 || loss : 0.084, iou : 90.791 pixel_acc : 97.731\n"
     ]
    },
    {
     "name": "stderr",
     "output_type": "stream",
     "text": [
      "2753it [02:48, 17.76it/s]"
     ]
    },
    {
     "name": "stdout",
     "output_type": "stream",
     "text": [
      "Epoch : 1 || 2750/8498 || loss : 0.276, iou : 83.650 pixel_acc : 91.789\n"
     ]
    },
    {
     "name": "stderr",
     "output_type": "stream",
     "text": [
      "2803it [02:51, 16.79it/s]"
     ]
    },
    {
     "name": "stdout",
     "output_type": "stream",
     "text": [
      "Epoch : 1 || 2800/8498 || loss : 0.272, iou : 84.884 pixel_acc : 94.294\n"
     ]
    },
    {
     "name": "stderr",
     "output_type": "stream",
     "text": [
      "2853it [02:54, 16.94it/s]"
     ]
    },
    {
     "name": "stdout",
     "output_type": "stream",
     "text": [
      "Epoch : 1 || 2850/8498 || loss : 0.734, iou : 40.977 pixel_acc : 74.556\n"
     ]
    },
    {
     "name": "stderr",
     "output_type": "stream",
     "text": [
      "2903it [02:57, 16.72it/s]"
     ]
    },
    {
     "name": "stdout",
     "output_type": "stream",
     "text": [
      "Epoch : 1 || 2900/8498 || loss : 0.302, iou : 55.249 pixel_acc : 90.367\n"
     ]
    },
    {
     "name": "stderr",
     "output_type": "stream",
     "text": [
      "2953it [03:00, 17.42it/s]"
     ]
    },
    {
     "name": "stdout",
     "output_type": "stream",
     "text": [
      "Epoch : 1 || 2950/8498 || loss : 0.027, iou : 68.760 pixel_acc : 99.729\n"
     ]
    },
    {
     "name": "stderr",
     "output_type": "stream",
     "text": [
      "3003it [03:03, 17.04it/s]"
     ]
    },
    {
     "name": "stdout",
     "output_type": "stream",
     "text": [
      "Epoch : 1 || 3000/8498 || loss : 0.337, iou : 71.201 pixel_acc : 88.759\n"
     ]
    },
    {
     "name": "stderr",
     "output_type": "stream",
     "text": [
      "3053it [03:06, 17.25it/s]"
     ]
    },
    {
     "name": "stdout",
     "output_type": "stream",
     "text": [
      "Epoch : 1 || 3050/8498 || loss : 0.180, iou : 78.216 pixel_acc : 95.437\n"
     ]
    },
    {
     "name": "stderr",
     "output_type": "stream",
     "text": [
      "3103it [03:09, 17.04it/s]"
     ]
    },
    {
     "name": "stdout",
     "output_type": "stream",
     "text": [
      "Epoch : 1 || 3100/8498 || loss : 0.168, iou : 93.445 pixel_acc : 96.621\n"
     ]
    },
    {
     "name": "stderr",
     "output_type": "stream",
     "text": [
      "3153it [03:12, 16.61it/s]"
     ]
    },
    {
     "name": "stdout",
     "output_type": "stream",
     "text": [
      "Epoch : 1 || 3150/8498 || loss : 0.203, iou : 92.387 pixel_acc : 96.229\n"
     ]
    },
    {
     "name": "stderr",
     "output_type": "stream",
     "text": [
      "3203it [03:15, 15.76it/s]"
     ]
    },
    {
     "name": "stdout",
     "output_type": "stream",
     "text": [
      "Epoch : 1 || 3200/8498 || loss : 0.067, iou : 96.327 pixel_acc : 98.572\n"
     ]
    },
    {
     "name": "stderr",
     "output_type": "stream",
     "text": [
      "3253it [03:18, 16.98it/s]"
     ]
    },
    {
     "name": "stdout",
     "output_type": "stream",
     "text": [
      "Epoch : 1 || 3250/8498 || loss : 0.104, iou : 91.309 pixel_acc : 97.470\n"
     ]
    },
    {
     "name": "stderr",
     "output_type": "stream",
     "text": [
      "3304it [03:21, 16.51it/s]"
     ]
    },
    {
     "name": "stdout",
     "output_type": "stream",
     "text": [
      "Epoch : 1 || 3300/8498 || loss : 0.247, iou : 59.047 pixel_acc : 94.165\n"
     ]
    },
    {
     "name": "stderr",
     "output_type": "stream",
     "text": [
      "3354it [03:24, 16.62it/s]"
     ]
    },
    {
     "name": "stdout",
     "output_type": "stream",
     "text": [
      "Epoch : 1 || 3350/8498 || loss : 0.158, iou : 90.131 pixel_acc : 97.384\n"
     ]
    },
    {
     "name": "stderr",
     "output_type": "stream",
     "text": [
      "3403it [03:27, 17.65it/s]"
     ]
    },
    {
     "name": "stdout",
     "output_type": "stream",
     "text": [
      "Epoch : 1 || 3400/8498 || loss : 0.387, iou : 44.825 pixel_acc : 91.003\n"
     ]
    },
    {
     "name": "stderr",
     "output_type": "stream",
     "text": [
      "3453it [03:30, 16.64it/s]"
     ]
    },
    {
     "name": "stdout",
     "output_type": "stream",
     "text": [
      "Epoch : 1 || 3450/8498 || loss : 0.660, iou : 65.408 pixel_acc : 82.743\n"
     ]
    },
    {
     "name": "stderr",
     "output_type": "stream",
     "text": [
      "3503it [03:33, 16.93it/s]"
     ]
    },
    {
     "name": "stdout",
     "output_type": "stream",
     "text": [
      "Epoch : 1 || 3500/8498 || loss : 0.063, iou : 67.771 pixel_acc : 98.604\n"
     ]
    },
    {
     "name": "stderr",
     "output_type": "stream",
     "text": [
      "3553it [03:36, 16.64it/s]"
     ]
    },
    {
     "name": "stdout",
     "output_type": "stream",
     "text": [
      "Epoch : 1 || 3550/8498 || loss : 0.423, iou : 85.305 pixel_acc : 92.118\n"
     ]
    },
    {
     "name": "stderr",
     "output_type": "stream",
     "text": [
      "3603it [03:39, 16.53it/s]"
     ]
    },
    {
     "name": "stdout",
     "output_type": "stream",
     "text": [
      "Epoch : 1 || 3600/8498 || loss : 0.183, iou : 91.911 pixel_acc : 95.799\n"
     ]
    },
    {
     "name": "stderr",
     "output_type": "stream",
     "text": [
      "3653it [03:42, 16.73it/s]"
     ]
    },
    {
     "name": "stdout",
     "output_type": "stream",
     "text": [
      "Epoch : 1 || 3650/8498 || loss : 0.222, iou : 60.118 pixel_acc : 94.599\n"
     ]
    },
    {
     "name": "stderr",
     "output_type": "stream",
     "text": [
      "3703it [03:45, 16.60it/s]"
     ]
    },
    {
     "name": "stdout",
     "output_type": "stream",
     "text": [
      "Epoch : 1 || 3700/8498 || loss : 0.116, iou : 94.632 pixel_acc : 97.348\n"
     ]
    },
    {
     "name": "stderr",
     "output_type": "stream",
     "text": [
      "3753it [03:48, 16.75it/s]"
     ]
    },
    {
     "name": "stdout",
     "output_type": "stream",
     "text": [
      "Epoch : 1 || 3750/8498 || loss : 0.756, iou : 42.040 pixel_acc : 87.347\n"
     ]
    },
    {
     "name": "stderr",
     "output_type": "stream",
     "text": [
      "3803it [03:51, 16.67it/s]"
     ]
    },
    {
     "name": "stdout",
     "output_type": "stream",
     "text": [
      "Epoch : 1 || 3800/8498 || loss : 0.221, iou : 43.822 pixel_acc : 95.863\n"
     ]
    },
    {
     "name": "stderr",
     "output_type": "stream",
     "text": [
      "3853it [03:54, 16.62it/s]"
     ]
    },
    {
     "name": "stdout",
     "output_type": "stream",
     "text": [
      "Epoch : 1 || 3850/8498 || loss : 0.065, iou : 81.407 pixel_acc : 97.907\n"
     ]
    },
    {
     "name": "stderr",
     "output_type": "stream",
     "text": [
      "3903it [03:57, 16.11it/s]"
     ]
    },
    {
     "name": "stdout",
     "output_type": "stream",
     "text": [
      "Epoch : 1 || 3900/8498 || loss : 0.341, iou : 77.221 pixel_acc : 89.078\n"
     ]
    },
    {
     "name": "stderr",
     "output_type": "stream",
     "text": [
      "3955it [04:00, 19.55it/s]"
     ]
    },
    {
     "name": "stdout",
     "output_type": "stream",
     "text": [
      "Epoch : 1 || 3950/8498 || loss : 0.462, iou : 67.931 pixel_acc : 82.857\n"
     ]
    },
    {
     "name": "stderr",
     "output_type": "stream",
     "text": [
      "4003it [04:02, 22.53it/s]"
     ]
    },
    {
     "name": "stdout",
     "output_type": "stream",
     "text": [
      "Epoch : 1 || 4000/8498 || loss : 0.396, iou : 76.491 pixel_acc : 88.915\n"
     ]
    },
    {
     "name": "stderr",
     "output_type": "stream",
     "text": [
      "4054it [04:04, 23.43it/s]"
     ]
    },
    {
     "name": "stdout",
     "output_type": "stream",
     "text": [
      "Epoch : 1 || 4050/8498 || loss : 0.121, iou : 94.293 pixel_acc : 97.066\n"
     ]
    },
    {
     "name": "stderr",
     "output_type": "stream",
     "text": [
      "4105it [04:07, 21.17it/s]"
     ]
    },
    {
     "name": "stdout",
     "output_type": "stream",
     "text": [
      "Epoch : 1 || 4100/8498 || loss : 0.070, iou : 92.449 pixel_acc : 99.170\n"
     ]
    },
    {
     "name": "stderr",
     "output_type": "stream",
     "text": [
      "4153it [04:09, 21.57it/s]"
     ]
    },
    {
     "name": "stdout",
     "output_type": "stream",
     "text": [
      "Epoch : 1 || 4150/8498 || loss : 0.124, iou : 92.394 pixel_acc : 97.540\n"
     ]
    },
    {
     "name": "stderr",
     "output_type": "stream",
     "text": [
      "4203it [04:12, 15.35it/s]"
     ]
    },
    {
     "name": "stdout",
     "output_type": "stream",
     "text": [
      "Epoch : 1 || 4200/8498 || loss : 0.048, iou : 28.564 pixel_acc : 99.020\n"
     ]
    },
    {
     "name": "stderr",
     "output_type": "stream",
     "text": [
      "4253it [04:15, 16.16it/s]"
     ]
    },
    {
     "name": "stdout",
     "output_type": "stream",
     "text": [
      "Epoch : 1 || 4250/8498 || loss : 0.390, iou : 47.673 pixel_acc : 87.940\n"
     ]
    },
    {
     "name": "stderr",
     "output_type": "stream",
     "text": [
      "4303it [04:18, 16.04it/s]"
     ]
    },
    {
     "name": "stdout",
     "output_type": "stream",
     "text": [
      "Epoch : 1 || 4300/8498 || loss : 0.080, iou : 93.604 pixel_acc : 98.050\n"
     ]
    },
    {
     "name": "stderr",
     "output_type": "stream",
     "text": [
      "4353it [04:22, 15.87it/s]"
     ]
    },
    {
     "name": "stdout",
     "output_type": "stream",
     "text": [
      "Epoch : 1 || 4350/8498 || loss : 0.163, iou : 87.270 pixel_acc : 95.561\n"
     ]
    },
    {
     "name": "stderr",
     "output_type": "stream",
     "text": [
      "4403it [04:25, 15.70it/s]"
     ]
    },
    {
     "name": "stdout",
     "output_type": "stream",
     "text": [
      "Epoch : 1 || 4400/8498 || loss : 0.113, iou : 94.904 pixel_acc : 98.073\n"
     ]
    },
    {
     "name": "stderr",
     "output_type": "stream",
     "text": [
      "4453it [04:28, 15.36it/s]"
     ]
    },
    {
     "name": "stdout",
     "output_type": "stream",
     "text": [
      "Epoch : 1 || 4450/8498 || loss : 0.447, iou : 74.254 pixel_acc : 85.534\n"
     ]
    },
    {
     "name": "stderr",
     "output_type": "stream",
     "text": [
      "4503it [04:31, 16.08it/s]"
     ]
    },
    {
     "name": "stdout",
     "output_type": "stream",
     "text": [
      "Epoch : 1 || 4500/8498 || loss : 0.251, iou : 94.848 pixel_acc : 97.715\n"
     ]
    },
    {
     "name": "stderr",
     "output_type": "stream",
     "text": [
      "4553it [04:34, 15.90it/s]"
     ]
    },
    {
     "name": "stdout",
     "output_type": "stream",
     "text": [
      "Epoch : 1 || 4550/8498 || loss : 0.192, iou : 48.715 pixel_acc : 92.594\n"
     ]
    },
    {
     "name": "stderr",
     "output_type": "stream",
     "text": [
      "4603it [04:37, 15.76it/s]"
     ]
    },
    {
     "name": "stdout",
     "output_type": "stream",
     "text": [
      "Epoch : 1 || 4600/8498 || loss : 1.706, iou : 25.691 pixel_acc : 55.679\n"
     ]
    },
    {
     "name": "stderr",
     "output_type": "stream",
     "text": [
      "4653it [04:40, 15.67it/s]"
     ]
    },
    {
     "name": "stdout",
     "output_type": "stream",
     "text": [
      "Epoch : 1 || 4650/8498 || loss : 0.202, iou : 33.834 pixel_acc : 95.984\n"
     ]
    },
    {
     "name": "stderr",
     "output_type": "stream",
     "text": [
      "4703it [04:44, 15.65it/s]"
     ]
    },
    {
     "name": "stdout",
     "output_type": "stream",
     "text": [
      "Epoch : 1 || 4700/8498 || loss : 0.347, iou : 77.791 pixel_acc : 89.715\n"
     ]
    },
    {
     "name": "stderr",
     "output_type": "stream",
     "text": [
      "4753it [04:47, 16.01it/s]"
     ]
    },
    {
     "name": "stdout",
     "output_type": "stream",
     "text": [
      "Epoch : 1 || 4750/8498 || loss : 0.249, iou : 60.867 pixel_acc : 96.355\n"
     ]
    },
    {
     "name": "stderr",
     "output_type": "stream",
     "text": [
      "4803it [04:50, 14.98it/s]"
     ]
    },
    {
     "name": "stdout",
     "output_type": "stream",
     "text": [
      "Epoch : 1 || 4800/8498 || loss : 0.050, iou : 33.124 pixel_acc : 99.134\n"
     ]
    },
    {
     "name": "stderr",
     "output_type": "stream",
     "text": [
      "4853it [04:53, 14.22it/s]"
     ]
    },
    {
     "name": "stdout",
     "output_type": "stream",
     "text": [
      "Epoch : 1 || 4850/8498 || loss : 0.431, iou : 82.456 pixel_acc : 91.535\n"
     ]
    },
    {
     "name": "stderr",
     "output_type": "stream",
     "text": [
      "4903it [04:57, 14.75it/s]"
     ]
    },
    {
     "name": "stdout",
     "output_type": "stream",
     "text": [
      "Epoch : 1 || 4900/8498 || loss : 0.275, iou : 47.097 pixel_acc : 90.871\n"
     ]
    },
    {
     "name": "stderr",
     "output_type": "stream",
     "text": [
      "4955it [05:00, 24.07it/s]"
     ]
    },
    {
     "name": "stdout",
     "output_type": "stream",
     "text": [
      "Epoch : 1 || 4950/8498 || loss : 0.163, iou : 83.727 pixel_acc : 96.142\n"
     ]
    },
    {
     "name": "stderr",
     "output_type": "stream",
     "text": [
      "5007it [05:02, 33.24it/s]"
     ]
    },
    {
     "name": "stdout",
     "output_type": "stream",
     "text": [
      "Epoch : 1 || 5000/8498 || loss : 0.256, iou : 59.184 pixel_acc : 92.699\n"
     ]
    },
    {
     "name": "stderr",
     "output_type": "stream",
     "text": [
      "5055it [05:03, 33.62it/s]"
     ]
    },
    {
     "name": "stdout",
     "output_type": "stream",
     "text": [
      "Epoch : 1 || 5050/8498 || loss : 0.170, iou : 92.048 pixel_acc : 95.860\n"
     ]
    },
    {
     "name": "stderr",
     "output_type": "stream",
     "text": [
      "5103it [05:06, 14.67it/s]"
     ]
    },
    {
     "name": "stdout",
     "output_type": "stream",
     "text": [
      "Epoch : 1 || 5100/8498 || loss : 0.037, iou : 52.244 pixel_acc : 99.025\n"
     ]
    },
    {
     "name": "stderr",
     "output_type": "stream",
     "text": [
      "5153it [05:09, 15.86it/s]"
     ]
    },
    {
     "name": "stdout",
     "output_type": "stream",
     "text": [
      "Epoch : 1 || 5150/8498 || loss : 0.452, iou : 31.297 pixel_acc : 87.531\n"
     ]
    },
    {
     "name": "stderr",
     "output_type": "stream",
     "text": [
      "5203it [05:12, 16.08it/s]"
     ]
    },
    {
     "name": "stdout",
     "output_type": "stream",
     "text": [
      "Epoch : 1 || 5200/8498 || loss : 0.380, iou : 42.258 pixel_acc : 91.054\n"
     ]
    },
    {
     "name": "stderr",
     "output_type": "stream",
     "text": [
      "5253it [05:15, 19.01it/s]"
     ]
    },
    {
     "name": "stdout",
     "output_type": "stream",
     "text": [
      "Epoch : 1 || 5250/8498 || loss : 0.573, iou : 23.419 pixel_acc : 79.835\n"
     ]
    },
    {
     "name": "stderr",
     "output_type": "stream",
     "text": [
      "5303it [05:18, 16.09it/s]"
     ]
    },
    {
     "name": "stdout",
     "output_type": "stream",
     "text": [
      "Epoch : 1 || 5300/8498 || loss : 0.025, iou : 68.509 pixel_acc : 99.413\n"
     ]
    },
    {
     "name": "stderr",
     "output_type": "stream",
     "text": [
      "5353it [05:21, 15.90it/s]"
     ]
    },
    {
     "name": "stdout",
     "output_type": "stream",
     "text": [
      "Epoch : 1 || 5350/8498 || loss : 0.912, iou : 40.638 pixel_acc : 76.126\n"
     ]
    },
    {
     "name": "stderr",
     "output_type": "stream",
     "text": [
      "5403it [05:23, 21.75it/s]"
     ]
    },
    {
     "name": "stdout",
     "output_type": "stream",
     "text": [
      "Epoch : 1 || 5400/8498 || loss : 0.215, iou : 53.827 pixel_acc : 96.724\n"
     ]
    },
    {
     "name": "stderr",
     "output_type": "stream",
     "text": [
      "5454it [05:26, 17.16it/s]"
     ]
    },
    {
     "name": "stdout",
     "output_type": "stream",
     "text": [
      "Epoch : 1 || 5450/8498 || loss : 0.180, iou : 94.925 pixel_acc : 97.773\n"
     ]
    },
    {
     "name": "stderr",
     "output_type": "stream",
     "text": [
      "5503it [05:29, 17.44it/s]"
     ]
    },
    {
     "name": "stdout",
     "output_type": "stream",
     "text": [
      "Epoch : 1 || 5500/8498 || loss : 0.199, iou : 81.640 pixel_acc : 94.490\n"
     ]
    },
    {
     "name": "stderr",
     "output_type": "stream",
     "text": [
      "5554it [05:32, 17.07it/s]"
     ]
    },
    {
     "name": "stdout",
     "output_type": "stream",
     "text": [
      "Epoch : 1 || 5550/8498 || loss : 0.234, iou : 90.743 pixel_acc : 95.162\n"
     ]
    },
    {
     "name": "stderr",
     "output_type": "stream",
     "text": [
      "5603it [05:35, 16.72it/s]"
     ]
    },
    {
     "name": "stdout",
     "output_type": "stream",
     "text": [
      "Epoch : 1 || 5600/8498 || loss : 1.320, iou : 47.069 pixel_acc : 65.734\n"
     ]
    },
    {
     "name": "stderr",
     "output_type": "stream",
     "text": [
      "5653it [05:38, 17.18it/s]"
     ]
    },
    {
     "name": "stdout",
     "output_type": "stream",
     "text": [
      "Epoch : 1 || 5650/8498 || loss : 0.182, iou : 90.763 pixel_acc : 95.666\n"
     ]
    },
    {
     "name": "stderr",
     "output_type": "stream",
     "text": [
      "5703it [05:41, 17.12it/s]"
     ]
    },
    {
     "name": "stdout",
     "output_type": "stream",
     "text": [
      "Epoch : 1 || 5700/8498 || loss : 0.148, iou : 61.787 pixel_acc : 97.966\n"
     ]
    },
    {
     "name": "stderr",
     "output_type": "stream",
     "text": [
      "5753it [05:44, 16.32it/s]"
     ]
    },
    {
     "name": "stdout",
     "output_type": "stream",
     "text": [
      "Epoch : 1 || 5750/8498 || loss : 0.368, iou : 77.226 pixel_acc : 87.150\n"
     ]
    },
    {
     "name": "stderr",
     "output_type": "stream",
     "text": [
      "5803it [05:47, 17.34it/s]"
     ]
    },
    {
     "name": "stdout",
     "output_type": "stream",
     "text": [
      "Epoch : 1 || 5800/8498 || loss : 0.124, iou : 83.260 pixel_acc : 96.121\n"
     ]
    },
    {
     "name": "stderr",
     "output_type": "stream",
     "text": [
      "5853it [05:50, 17.40it/s]"
     ]
    },
    {
     "name": "stdout",
     "output_type": "stream",
     "text": [
      "Epoch : 1 || 5850/8498 || loss : 0.125, iou : 94.167 pixel_acc : 97.031\n"
     ]
    },
    {
     "name": "stderr",
     "output_type": "stream",
     "text": [
      "5903it [05:53, 16.49it/s]"
     ]
    },
    {
     "name": "stdout",
     "output_type": "stream",
     "text": [
      "Epoch : 1 || 5900/8498 || loss : 0.063, iou : 86.128 pixel_acc : 98.599\n"
     ]
    },
    {
     "name": "stderr",
     "output_type": "stream",
     "text": [
      "5953it [05:56, 16.91it/s]"
     ]
    },
    {
     "name": "stdout",
     "output_type": "stream",
     "text": [
      "Epoch : 1 || 5950/8498 || loss : 0.648, iou : 46.744 pixel_acc : 71.666\n"
     ]
    },
    {
     "name": "stderr",
     "output_type": "stream",
     "text": [
      "6003it [05:59, 16.98it/s]"
     ]
    },
    {
     "name": "stdout",
     "output_type": "stream",
     "text": [
      "Epoch : 1 || 6000/8498 || loss : 0.215, iou : 81.729 pixel_acc : 92.572\n"
     ]
    },
    {
     "name": "stderr",
     "output_type": "stream",
     "text": [
      "6053it [06:02, 16.67it/s]"
     ]
    },
    {
     "name": "stdout",
     "output_type": "stream",
     "text": [
      "Epoch : 1 || 6050/8498 || loss : 0.128, iou : 62.955 pixel_acc : 97.643\n"
     ]
    },
    {
     "name": "stderr",
     "output_type": "stream",
     "text": [
      "6103it [06:04, 16.70it/s]"
     ]
    },
    {
     "name": "stdout",
     "output_type": "stream",
     "text": [
      "Epoch : 1 || 6100/8498 || loss : 0.433, iou : 83.376 pixel_acc : 90.994\n"
     ]
    },
    {
     "name": "stderr",
     "output_type": "stream",
     "text": [
      "6153it [06:07, 16.49it/s]"
     ]
    },
    {
     "name": "stdout",
     "output_type": "stream",
     "text": [
      "Epoch : 1 || 6150/8498 || loss : 0.033, iou : 33.259 pixel_acc : 99.776\n"
     ]
    },
    {
     "name": "stderr",
     "output_type": "stream",
     "text": [
      "6203it [06:10, 17.21it/s]"
     ]
    },
    {
     "name": "stdout",
     "output_type": "stream",
     "text": [
      "Epoch : 1 || 6200/8498 || loss : 0.120, iou : 49.408 pixel_acc : 98.817\n"
     ]
    },
    {
     "name": "stderr",
     "output_type": "stream",
     "text": [
      "6253it [06:13, 16.98it/s]"
     ]
    },
    {
     "name": "stdout",
     "output_type": "stream",
     "text": [
      "Epoch : 1 || 6250/8498 || loss : 0.198, iou : 55.480 pixel_acc : 94.059\n"
     ]
    },
    {
     "name": "stderr",
     "output_type": "stream",
     "text": [
      "6303it [06:16, 16.96it/s]"
     ]
    },
    {
     "name": "stdout",
     "output_type": "stream",
     "text": [
      "Epoch : 1 || 6300/8498 || loss : 0.276, iou : 62.807 pixel_acc : 91.980\n"
     ]
    },
    {
     "name": "stderr",
     "output_type": "stream",
     "text": [
      "6353it [06:19, 16.53it/s]"
     ]
    },
    {
     "name": "stdout",
     "output_type": "stream",
     "text": [
      "Epoch : 1 || 6350/8498 || loss : 0.038, iou : 83.201 pixel_acc : 99.093\n"
     ]
    },
    {
     "name": "stderr",
     "output_type": "stream",
     "text": [
      "6403it [06:22, 17.19it/s]"
     ]
    },
    {
     "name": "stdout",
     "output_type": "stream",
     "text": [
      "Epoch : 1 || 6400/8498 || loss : 0.081, iou : 85.315 pixel_acc : 97.680\n"
     ]
    },
    {
     "name": "stderr",
     "output_type": "stream",
     "text": [
      "6453it [06:25, 16.81it/s]"
     ]
    },
    {
     "name": "stdout",
     "output_type": "stream",
     "text": [
      "Epoch : 1 || 6450/8498 || loss : 0.380, iou : 25.746 pixel_acc : 88.120\n"
     ]
    },
    {
     "name": "stderr",
     "output_type": "stream",
     "text": [
      "6503it [06:28, 16.70it/s]"
     ]
    },
    {
     "name": "stdout",
     "output_type": "stream",
     "text": [
      "Epoch : 1 || 6500/8498 || loss : 0.160, iou : 79.696 pixel_acc : 96.332\n"
     ]
    },
    {
     "name": "stderr",
     "output_type": "stream",
     "text": [
      "6553it [06:31, 17.25it/s]"
     ]
    },
    {
     "name": "stdout",
     "output_type": "stream",
     "text": [
      "Epoch : 1 || 6550/8498 || loss : 0.419, iou : 73.735 pixel_acc : 85.482\n"
     ]
    },
    {
     "name": "stderr",
     "output_type": "stream",
     "text": [
      "6603it [06:34, 16.85it/s]"
     ]
    },
    {
     "name": "stdout",
     "output_type": "stream",
     "text": [
      "Epoch : 1 || 6600/8498 || loss : 0.123, iou : 93.984 pixel_acc : 97.177\n"
     ]
    },
    {
     "name": "stderr",
     "output_type": "stream",
     "text": [
      "6653it [06:37, 17.45it/s]"
     ]
    },
    {
     "name": "stdout",
     "output_type": "stream",
     "text": [
      "Epoch : 1 || 6650/8498 || loss : 0.243, iou : 59.159 pixel_acc : 94.872\n"
     ]
    },
    {
     "name": "stderr",
     "output_type": "stream",
     "text": [
      "6703it [06:40, 16.68it/s]"
     ]
    },
    {
     "name": "stdout",
     "output_type": "stream",
     "text": [
      "Epoch : 1 || 6700/8498 || loss : 0.407, iou : 55.643 pixel_acc : 89.031\n"
     ]
    },
    {
     "name": "stderr",
     "output_type": "stream",
     "text": [
      "6753it [06:43, 16.54it/s]"
     ]
    },
    {
     "name": "stdout",
     "output_type": "stream",
     "text": [
      "Epoch : 1 || 6750/8498 || loss : 0.363, iou : 54.747 pixel_acc : 90.873\n"
     ]
    },
    {
     "name": "stderr",
     "output_type": "stream",
     "text": [
      "6803it [06:46, 17.12it/s]"
     ]
    },
    {
     "name": "stdout",
     "output_type": "stream",
     "text": [
      "Epoch : 1 || 6800/8498 || loss : 0.326, iou : 41.287 pixel_acc : 87.311\n"
     ]
    },
    {
     "name": "stderr",
     "output_type": "stream",
     "text": [
      "6853it [06:49, 17.32it/s]"
     ]
    },
    {
     "name": "stdout",
     "output_type": "stream",
     "text": [
      "Epoch : 1 || 6850/8498 || loss : 0.316, iou : 61.745 pixel_acc : 96.081\n"
     ]
    },
    {
     "name": "stderr",
     "output_type": "stream",
     "text": [
      "6903it [06:52, 17.36it/s]"
     ]
    },
    {
     "name": "stdout",
     "output_type": "stream",
     "text": [
      "Epoch : 1 || 6900/8498 || loss : 0.306, iou : 35.601 pixel_acc : 84.905\n"
     ]
    },
    {
     "name": "stderr",
     "output_type": "stream",
     "text": [
      "6954it [06:55, 16.65it/s]"
     ]
    },
    {
     "name": "stdout",
     "output_type": "stream",
     "text": [
      "Epoch : 1 || 6950/8498 || loss : 0.109, iou : 93.976 pixel_acc : 97.444\n"
     ]
    },
    {
     "name": "stderr",
     "output_type": "stream",
     "text": [
      "7004it [06:58, 16.63it/s]"
     ]
    },
    {
     "name": "stdout",
     "output_type": "stream",
     "text": [
      "Epoch : 1 || 7000/8498 || loss : 0.387, iou : 41.655 pixel_acc : 88.822\n"
     ]
    },
    {
     "name": "stderr",
     "output_type": "stream",
     "text": [
      "7054it [07:01, 16.91it/s]"
     ]
    },
    {
     "name": "stdout",
     "output_type": "stream",
     "text": [
      "Epoch : 1 || 7050/8498 || loss : 0.187, iou : 90.653 pixel_acc : 95.659\n"
     ]
    },
    {
     "name": "stderr",
     "output_type": "stream",
     "text": [
      "7104it [07:03, 17.01it/s]"
     ]
    },
    {
     "name": "stdout",
     "output_type": "stream",
     "text": [
      "Epoch : 1 || 7100/8498 || loss : 0.653, iou : 30.317 pixel_acc : 72.780\n"
     ]
    },
    {
     "name": "stderr",
     "output_type": "stream",
     "text": [
      "7154it [07:06, 16.72it/s]"
     ]
    },
    {
     "name": "stdout",
     "output_type": "stream",
     "text": [
      "Epoch : 1 || 7150/8498 || loss : 0.195, iou : 60.649 pixel_acc : 96.823\n"
     ]
    },
    {
     "name": "stderr",
     "output_type": "stream",
     "text": [
      "7204it [07:09, 16.85it/s]"
     ]
    },
    {
     "name": "stdout",
     "output_type": "stream",
     "text": [
      "Epoch : 1 || 7200/8498 || loss : 0.142, iou : 88.548 pixel_acc : 96.309\n"
     ]
    },
    {
     "name": "stderr",
     "output_type": "stream",
     "text": [
      "7254it [07:12, 16.68it/s]"
     ]
    },
    {
     "name": "stdout",
     "output_type": "stream",
     "text": [
      "Epoch : 1 || 7250/8498 || loss : 0.794, iou : 28.338 pixel_acc : 74.158\n"
     ]
    },
    {
     "name": "stderr",
     "output_type": "stream",
     "text": [
      "7304it [07:15, 16.57it/s]"
     ]
    },
    {
     "name": "stdout",
     "output_type": "stream",
     "text": [
      "Epoch : 1 || 7300/8498 || loss : 1.332, iou : 28.260 pixel_acc : 70.245\n"
     ]
    },
    {
     "name": "stderr",
     "output_type": "stream",
     "text": [
      "7354it [07:18, 16.52it/s]"
     ]
    },
    {
     "name": "stdout",
     "output_type": "stream",
     "text": [
      "Epoch : 1 || 7350/8498 || loss : 0.175, iou : 91.826 pixel_acc : 96.002\n"
     ]
    },
    {
     "name": "stderr",
     "output_type": "stream",
     "text": [
      "7404it [07:21, 16.84it/s]"
     ]
    },
    {
     "name": "stdout",
     "output_type": "stream",
     "text": [
      "Epoch : 1 || 7400/8498 || loss : 0.315, iou : 85.051 pixel_acc : 91.933\n"
     ]
    },
    {
     "name": "stderr",
     "output_type": "stream",
     "text": [
      "7454it [07:24, 16.64it/s]"
     ]
    },
    {
     "name": "stdout",
     "output_type": "stream",
     "text": [
      "Epoch : 1 || 7450/8498 || loss : 0.580, iou : 31.486 pixel_acc : 77.386\n"
     ]
    },
    {
     "name": "stderr",
     "output_type": "stream",
     "text": [
      "7504it [07:27, 16.81it/s]"
     ]
    },
    {
     "name": "stdout",
     "output_type": "stream",
     "text": [
      "Epoch : 1 || 7500/8498 || loss : 0.183, iou : 75.172 pixel_acc : 93.907\n"
     ]
    },
    {
     "name": "stderr",
     "output_type": "stream",
     "text": [
      "7554it [07:30, 18.51it/s]"
     ]
    },
    {
     "name": "stdout",
     "output_type": "stream",
     "text": [
      "Epoch : 1 || 7550/8498 || loss : 0.267, iou : 59.951 pixel_acc : 94.735\n"
     ]
    },
    {
     "name": "stderr",
     "output_type": "stream",
     "text": [
      "7604it [07:33, 16.88it/s]"
     ]
    },
    {
     "name": "stdout",
     "output_type": "stream",
     "text": [
      "Epoch : 1 || 7600/8498 || loss : 0.509, iou : 68.220 pixel_acc : 85.681\n"
     ]
    },
    {
     "name": "stderr",
     "output_type": "stream",
     "text": [
      "7654it [07:35, 18.88it/s]"
     ]
    },
    {
     "name": "stdout",
     "output_type": "stream",
     "text": [
      "Epoch : 1 || 7650/8498 || loss : 0.100, iou : 92.274 pixel_acc : 97.444\n"
     ]
    },
    {
     "name": "stderr",
     "output_type": "stream",
     "text": [
      "7704it [07:38, 16.48it/s]"
     ]
    },
    {
     "name": "stdout",
     "output_type": "stream",
     "text": [
      "Epoch : 1 || 7700/8498 || loss : 0.193, iou : 89.657 pixel_acc : 94.551\n"
     ]
    },
    {
     "name": "stderr",
     "output_type": "stream",
     "text": [
      "7754it [07:41, 17.44it/s]"
     ]
    },
    {
     "name": "stdout",
     "output_type": "stream",
     "text": [
      "Epoch : 1 || 7750/8498 || loss : 0.547, iou : 61.149 pixel_acc : 84.134\n"
     ]
    },
    {
     "name": "stderr",
     "output_type": "stream",
     "text": [
      "7804it [07:44, 16.78it/s]"
     ]
    },
    {
     "name": "stdout",
     "output_type": "stream",
     "text": [
      "Epoch : 1 || 7800/8498 || loss : 0.118, iou : 59.804 pixel_acc : 97.666\n"
     ]
    },
    {
     "name": "stderr",
     "output_type": "stream",
     "text": [
      "7854it [07:47, 16.87it/s]"
     ]
    },
    {
     "name": "stdout",
     "output_type": "stream",
     "text": [
      "Epoch : 1 || 7850/8498 || loss : 0.322, iou : 78.175 pixel_acc : 91.792\n"
     ]
    },
    {
     "name": "stderr",
     "output_type": "stream",
     "text": [
      "7904it [07:50, 16.78it/s]"
     ]
    },
    {
     "name": "stdout",
     "output_type": "stream",
     "text": [
      "Epoch : 1 || 7900/8498 || loss : 0.377, iou : 80.671 pixel_acc : 89.799\n"
     ]
    },
    {
     "name": "stderr",
     "output_type": "stream",
     "text": [
      "7954it [07:53, 16.89it/s]"
     ]
    },
    {
     "name": "stdout",
     "output_type": "stream",
     "text": [
      "Epoch : 1 || 7950/8498 || loss : 0.194, iou : 91.707 pixel_acc : 96.093\n"
     ]
    },
    {
     "name": "stderr",
     "output_type": "stream",
     "text": [
      "8003it [07:55, 21.82it/s]"
     ]
    },
    {
     "name": "stdout",
     "output_type": "stream",
     "text": [
      "Epoch : 1 || 8000/8498 || loss : 0.313, iou : 21.536 pixel_acc : 90.743\n"
     ]
    },
    {
     "name": "stderr",
     "output_type": "stream",
     "text": [
      "8054it [07:58, 21.84it/s]"
     ]
    },
    {
     "name": "stdout",
     "output_type": "stream",
     "text": [
      "Epoch : 1 || 8050/8498 || loss : 0.141, iou : 61.382 pixel_acc : 97.059\n"
     ]
    },
    {
     "name": "stderr",
     "output_type": "stream",
     "text": [
      "8105it [08:00, 20.95it/s]"
     ]
    },
    {
     "name": "stdout",
     "output_type": "stream",
     "text": [
      "Epoch : 1 || 8100/8498 || loss : 0.308, iou : 88.998 pixel_acc : 97.196\n"
     ]
    },
    {
     "name": "stderr",
     "output_type": "stream",
     "text": [
      "8153it [08:02, 22.26it/s]"
     ]
    },
    {
     "name": "stdout",
     "output_type": "stream",
     "text": [
      "Epoch : 1 || 8150/8498 || loss : 0.393, iou : 59.021 pixel_acc : 93.745\n"
     ]
    },
    {
     "name": "stderr",
     "output_type": "stream",
     "text": [
      "8204it [08:05, 19.27it/s]"
     ]
    },
    {
     "name": "stdout",
     "output_type": "stream",
     "text": [
      "Epoch : 1 || 8200/8498 || loss : 0.831, iou : 26.137 pixel_acc : 71.283\n"
     ]
    },
    {
     "name": "stderr",
     "output_type": "stream",
     "text": [
      "8254it [08:08, 15.98it/s]"
     ]
    },
    {
     "name": "stdout",
     "output_type": "stream",
     "text": [
      "Epoch : 1 || 8250/8498 || loss : 0.127, iou : 79.747 pixel_acc : 96.732\n"
     ]
    },
    {
     "name": "stderr",
     "output_type": "stream",
     "text": [
      "8304it [08:11, 14.87it/s]"
     ]
    },
    {
     "name": "stdout",
     "output_type": "stream",
     "text": [
      "Epoch : 1 || 8300/8498 || loss : 0.196, iou : 89.824 pixel_acc : 94.761\n"
     ]
    },
    {
     "name": "stderr",
     "output_type": "stream",
     "text": [
      "8352it [08:14, 14.53it/s]"
     ]
    },
    {
     "name": "stdout",
     "output_type": "stream",
     "text": [
      "Epoch : 1 || 8350/8498 || loss : 0.194, iou : 87.762 pixel_acc : 94.718\n"
     ]
    },
    {
     "name": "stderr",
     "output_type": "stream",
     "text": [
      "8404it [08:18, 15.83it/s]"
     ]
    },
    {
     "name": "stdout",
     "output_type": "stream",
     "text": [
      "Epoch : 1 || 8400/8498 || loss : 0.450, iou : 40.481 pixel_acc : 85.729\n"
     ]
    },
    {
     "name": "stderr",
     "output_type": "stream",
     "text": [
      "8454it [08:21, 15.93it/s]"
     ]
    },
    {
     "name": "stdout",
     "output_type": "stream",
     "text": [
      "Epoch : 1 || 8450/8498 || loss : 0.066, iou : 47.759 pixel_acc : 98.252\n"
     ]
    },
    {
     "name": "stderr",
     "output_type": "stream",
     "text": [
      "8498it [08:23, 16.87it/s]\n"
     ]
    },
    {
     "name": "stdout",
     "output_type": "stream",
     "text": [
      ">> Epoch : 1 || AVG loss : 0.320, iou : 64.337 pixel_acc : 90.971 504.364 secs\n"
     ]
    },
    {
     "name": "stderr",
     "output_type": "stream",
     "text": [
      "2857it [00:52, 54.14it/s]\n"
     ]
    },
    {
     "name": "stdout",
     "output_type": "stream",
     "text": [
      ">> Epoch : 1 || AVG valid loss : 0.329, iou : 63.801 pixel_acc : 90.100 504.364 secs\n",
      ">> Best validation set iou: 0.6380050805102193\n"
     ]
    }
   ],
   "source": [
    "torch.use_deterministic_algorithms(False)\n",
    "torch.backends.cudnn.deterministic = True\n",
    "train_net(model, resume=False)"
   ]
  },
  {
   "cell_type": "markdown",
   "metadata": {
    "id": "yLSgFytb11DV"
   },
   "source": [
    "# Aggregating Results"
   ]
  },
  {
   "cell_type": "markdown",
   "metadata": {
    "id": "hxzyms5sZWvx"
   },
   "source": [
    "After you've trained Segmenter, load your best models and run the following block to check validation accuracy, and compare IoU improvements made by CRF. Since the validation set contains nearly 3,000 images, this will take up to 30 minutes.\n",
    "\n",
    "You can regard that your implementation is correct if performance is in ± 2%p (pixel accuracy), 0.01 (mIoU) of the following values:\n",
    "- Segmenter(use_tf=True)\n",
    "  - After Epoch 0\n",
    "    - AVG valid iou : 60.29 pixel_acc : 89.83\n",
    "  - After Epoch 1\n",
    "    - AVG valid iou : 65.19 pixel_acc : 90.11\n",
    "\n",
    "- Segmenter(use_tf=False)\n",
    "  - After Epoch 0\n",
    "    - AVG valid iou : 60.13 pixel_acc : 89.30\n",
    "  - After Epoch 1\n",
    "    - AVG valid iou : 62.21 pixel_acc : 90.51\n",
    "\n",
    "\n",
    "The exact values are subject to change, don't worry too much if you missed the range by a small margin."
   ]
  },
  {
   "cell_type": "code",
   "execution_count": 21,
   "metadata": {
    "id": "4pbH7_yA12Qz",
    "tags": []
   },
   "outputs": [
    {
     "name": "stdout",
     "output_type": "stream",
     "text": [
      "Segmenter:\n",
      "Pixel accuracy: 90.100, mIoU: 0.638\n"
     ]
    }
   ],
   "source": [
    "# specify path to your best trained model.\n",
    "# for example if you want to load Segmenter from folder 'trial_5', modify 'trial_99' into 'trial_5'.\n",
    "segmenter_path = result_dir / 'trial_0' / 'best.pt'\n",
    "\n",
    "# OPTIONAL: Read text below this code cell.\n",
    "use_crf = False\n",
    "\n",
    "net = Segmenter().to(device)\n",
    "net.load_state_dict(torch.load(segmenter_path, map_location=device))\n",
    "\n",
    "criterion = nn.CrossEntropyLoss(ignore_index=21, reduction='none')\n",
    "colorize = Colorize(21, get_color_map())\n",
    "\n",
    "net.eval()\n",
    "\n",
    "valid_loss_total = 0\n",
    "valid_ious = []\n",
    "valid_pixel_accs = []\n",
    "valid_ious_crf = []\n",
    "valid_pixel_accs_crf = []\n",
    "\n",
    "with torch.no_grad():\n",
    "    for batch_idx, (image, label) in enumerate(test_loader):\n",
    "        # Move variables to gpu.\n",
    "        image = image.to(device)\n",
    "        label = label.to(device)\n",
    "\n",
    "        output, loss, pred = get_prediction(criterion, net, image, label)\n",
    "        # CRF for some images.\n",
    "        if use_crf:\n",
    "            image_permuted = image.cpu().permute(1, 0, 2, 3)\n",
    "            un_norm = torch.zeros_like(image_permuted)\n",
    "            for idx, (im, m, s) in enumerate(zip(image_permuted, mean, std)):\n",
    "                un_norm[idx] = (im * s) + m\n",
    "            un_norm = un_norm.permute(1, 0, 2, 3)\n",
    "\n",
    "            output_softmax = torch.nn.functional.softmax(output, dim=1).detach().cpu()\n",
    "            un_norm_int = (un_norm * 255).squeeze().permute(1, 2, 0).numpy().astype(np.ubyte)\n",
    "            pred_crf = dense_crf(un_norm_int, output_softmax.squeeze().numpy())\n",
    "            pred_crf = np.expand_dims(np.argmax(pred_crf, 0), 0)\n",
    "\n",
    "            target = label.squeeze(1).cpu().numpy()\n",
    "            acc_crf, mean_iu_crf = label_accuracy_score(target, pred_crf, n_class=21)\n",
    "            valid_pixel_accs_crf.append(acc_crf)\n",
    "            valid_ious_crf.append(mean_iu_crf)\n",
    "\n",
    "        target = label.squeeze(1).cpu().numpy()\n",
    "        acc, mean_iu = label_accuracy_score(target, pred.cpu().numpy(), n_class=21)\n",
    "\n",
    "        # update total loss.\n",
    "        valid_loss_total += loss.item()\n",
    "\n",
    "        valid_pixel_accs.append(acc)\n",
    "        valid_ious.append(mean_iu)\n",
    "\n",
    "        # # this is only for testing\n",
    "        # if batch_idx > 50:\n",
    "        #   break\n",
    "\n",
    "    # calculate average IoU\n",
    "    total_valid_ious = np.array(valid_ious).T\n",
    "    total_valid_ious = np.nanmean(total_valid_ious).mean()\n",
    "    total_valid_pixel_acc = np.array(valid_pixel_accs).mean()\n",
    "\n",
    "    print(f'{type(net).__name__}:')\n",
    "    print(f'Pixel accuracy: {total_valid_pixel_acc * 100:.3f}, mIoU: {total_valid_ious:.3f}')\n",
    "\n",
    "    if use_crf:\n",
    "        total_valid_ious_crf = np.array(valid_ious_crf).T\n",
    "        total_valid_ious_crf = np.nanmean(total_valid_ious_crf).mean()\n",
    "        total_valid_pixel_acc_crf = np.array(valid_pixel_accs_crf).mean()\n",
    "        print(f'CRF Pixel accuracy: {total_valid_pixel_acc_crf * 100:.3f}, CRF mIoU: {total_valid_ious_crf:.3f}')\n"
   ]
  },
  {
   "cell_type": "markdown",
   "metadata": {
    "id": "D2M0KqxoWnnY"
   },
   "source": [
    "**Optional**: One way to improve the semantic segmentation is to apply Conditional Randon Field (CRF) as post-processing. In a nutshell, CRF will constrain the labeling via penalizing different labels to similar pixels. Since the CRF works in the original image, some detailed structure information lost in the encoder can be reconstructed via this process.\n",
    "\n",
    "You can practice the CRF by setting `use_crf=True` in the above code block. Feel free to try it and see how it refines the labels."
   ]
  },
  {
   "cell_type": "code",
   "execution_count": null,
   "metadata": {
    "id": "jk4xF29CKiOb"
   },
   "outputs": [],
   "source": []
  }
 ],
 "metadata": {
  "accelerator": "GPU",
  "colab": {
   "gpuType": "T4",
   "provenance": []
  },
  "kernelspec": {
   "display_name": ".cv (3.10.12)",
   "language": "python",
   "name": "python3"
  },
  "language_info": {
   "codemirror_mode": {
    "name": "ipython",
    "version": 3
   },
   "file_extension": ".py",
   "mimetype": "text/x-python",
   "name": "python",
   "nbconvert_exporter": "python",
   "pygments_lexer": "ipython3",
   "version": "3.10.12"
  }
 },
 "nbformat": 4,
 "nbformat_minor": 0
}
