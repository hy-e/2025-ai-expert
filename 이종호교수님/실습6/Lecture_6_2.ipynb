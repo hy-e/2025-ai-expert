{
 "cells": [
  {
   "cell_type": "markdown",
   "id": "291884f7",
   "metadata": {},
   "source": [
    "# Lecture 6 (2) MNIST Classification"
   ]
  },
  {
   "cell_type": "code",
   "execution_count": null,
   "id": "be462837",
   "metadata": {},
   "outputs": [],
   "source": [
    "# Run this codeblock to mount your Google Drive in Google Colab.\n",
    "from google.colab import drive\n",
    "\n",
    "drive.mount(\"/content/drive/\")"
   ]
  },
  {
   "cell_type": "code",
   "execution_count": 2,
   "id": "6f147294",
   "metadata": {},
   "outputs": [
    {
     "name": "stdout",
     "output_type": "stream",
     "text": [
      "Collecting torchvision\n",
      "  Using cached torchvision-0.22.1-cp310-cp310-manylinux_2_28_x86_64.whl.metadata (6.1 kB)\n",
      "Requirement already satisfied: numpy in /home/juhyung/miniconda3/envs/python310/lib/python3.10/site-packages (from torchvision) (2.2.6)\n",
      "Requirement already satisfied: torch==2.7.1 in /home/juhyung/miniconda3/envs/python310/lib/python3.10/site-packages (from torchvision) (2.7.1)\n",
      "Requirement already satisfied: pillow!=8.3.*,>=5.3.0 in /home/juhyung/miniconda3/envs/python310/lib/python3.10/site-packages (from torchvision) (11.3.0)\n",
      "Requirement already satisfied: filelock in /home/juhyung/miniconda3/envs/python310/lib/python3.10/site-packages (from torch==2.7.1->torchvision) (3.18.0)\n",
      "Requirement already satisfied: typing-extensions>=4.10.0 in /home/juhyung/miniconda3/envs/python310/lib/python3.10/site-packages (from torch==2.7.1->torchvision) (4.14.0)\n",
      "Requirement already satisfied: sympy>=1.13.3 in /home/juhyung/miniconda3/envs/python310/lib/python3.10/site-packages (from torch==2.7.1->torchvision) (1.14.0)\n",
      "Requirement already satisfied: networkx in /home/juhyung/miniconda3/envs/python310/lib/python3.10/site-packages (from torch==2.7.1->torchvision) (3.4.2)\n",
      "Requirement already satisfied: jinja2 in /home/juhyung/miniconda3/envs/python310/lib/python3.10/site-packages (from torch==2.7.1->torchvision) (3.1.6)\n",
      "Requirement already satisfied: fsspec in /home/juhyung/miniconda3/envs/python310/lib/python3.10/site-packages (from torch==2.7.1->torchvision) (2025.5.1)\n",
      "Requirement already satisfied: nvidia-cuda-nvrtc-cu12==12.6.77 in /home/juhyung/miniconda3/envs/python310/lib/python3.10/site-packages (from torch==2.7.1->torchvision) (12.6.77)\n",
      "Requirement already satisfied: nvidia-cuda-runtime-cu12==12.6.77 in /home/juhyung/miniconda3/envs/python310/lib/python3.10/site-packages (from torch==2.7.1->torchvision) (12.6.77)\n",
      "Requirement already satisfied: nvidia-cuda-cupti-cu12==12.6.80 in /home/juhyung/miniconda3/envs/python310/lib/python3.10/site-packages (from torch==2.7.1->torchvision) (12.6.80)\n",
      "Requirement already satisfied: nvidia-cudnn-cu12==9.5.1.17 in /home/juhyung/miniconda3/envs/python310/lib/python3.10/site-packages (from torch==2.7.1->torchvision) (9.5.1.17)\n",
      "Requirement already satisfied: nvidia-cublas-cu12==12.6.4.1 in /home/juhyung/miniconda3/envs/python310/lib/python3.10/site-packages (from torch==2.7.1->torchvision) (12.6.4.1)\n",
      "Requirement already satisfied: nvidia-cufft-cu12==11.3.0.4 in /home/juhyung/miniconda3/envs/python310/lib/python3.10/site-packages (from torch==2.7.1->torchvision) (11.3.0.4)\n",
      "Requirement already satisfied: nvidia-curand-cu12==10.3.7.77 in /home/juhyung/miniconda3/envs/python310/lib/python3.10/site-packages (from torch==2.7.1->torchvision) (10.3.7.77)\n",
      "Requirement already satisfied: nvidia-cusolver-cu12==11.7.1.2 in /home/juhyung/miniconda3/envs/python310/lib/python3.10/site-packages (from torch==2.7.1->torchvision) (11.7.1.2)\n",
      "Requirement already satisfied: nvidia-cusparse-cu12==12.5.4.2 in /home/juhyung/miniconda3/envs/python310/lib/python3.10/site-packages (from torch==2.7.1->torchvision) (12.5.4.2)\n",
      "Requirement already satisfied: nvidia-cusparselt-cu12==0.6.3 in /home/juhyung/miniconda3/envs/python310/lib/python3.10/site-packages (from torch==2.7.1->torchvision) (0.6.3)\n",
      "Requirement already satisfied: nvidia-nccl-cu12==2.26.2 in /home/juhyung/miniconda3/envs/python310/lib/python3.10/site-packages (from torch==2.7.1->torchvision) (2.26.2)\n",
      "Requirement already satisfied: nvidia-nvtx-cu12==12.6.77 in /home/juhyung/miniconda3/envs/python310/lib/python3.10/site-packages (from torch==2.7.1->torchvision) (12.6.77)\n",
      "Requirement already satisfied: nvidia-nvjitlink-cu12==12.6.85 in /home/juhyung/miniconda3/envs/python310/lib/python3.10/site-packages (from torch==2.7.1->torchvision) (12.6.85)\n",
      "Requirement already satisfied: nvidia-cufile-cu12==1.11.1.6 in /home/juhyung/miniconda3/envs/python310/lib/python3.10/site-packages (from torch==2.7.1->torchvision) (1.11.1.6)\n",
      "Requirement already satisfied: triton==3.3.1 in /home/juhyung/miniconda3/envs/python310/lib/python3.10/site-packages (from torch==2.7.1->torchvision) (3.3.1)\n",
      "Requirement already satisfied: setuptools>=40.8.0 in /home/juhyung/miniconda3/envs/python310/lib/python3.10/site-packages (from triton==3.3.1->torch==2.7.1->torchvision) (80.9.0)\n",
      "Requirement already satisfied: mpmath<1.4,>=1.1.0 in /home/juhyung/miniconda3/envs/python310/lib/python3.10/site-packages (from sympy>=1.13.3->torch==2.7.1->torchvision) (1.3.0)\n",
      "Requirement already satisfied: MarkupSafe>=2.0 in /home/juhyung/miniconda3/envs/python310/lib/python3.10/site-packages (from jinja2->torch==2.7.1->torchvision) (3.0.2)\n",
      "Using cached torchvision-0.22.1-cp310-cp310-manylinux_2_28_x86_64.whl (7.5 MB)\n",
      "Installing collected packages: torchvision\n",
      "Successfully installed torchvision-0.22.1\n"
     ]
    }
   ],
   "source": [
    "!pip install torchvision"
   ]
  },
  {
   "cell_type": "code",
   "execution_count": 3,
   "id": "09cca505",
   "metadata": {},
   "outputs": [],
   "source": [
    "import torch\n",
    "import torch.nn\n",
    "from torch import Tensor\n",
    "from torch.utils.data import DataLoader, Dataset\n",
    "from torchvision import datasets, transforms\n",
    "from typing import Literal\n",
    "\n",
    "import os\n",
    "import numpy as np\n",
    "import matplotlib.pyplot as plt\n",
    "from pathlib import Path"
   ]
  },
  {
   "cell_type": "code",
   "execution_count": 4,
   "id": "baf12001",
   "metadata": {},
   "outputs": [
    {
     "name": "stdout",
     "output_type": "stream",
     "text": [
      "Check GPU availability: True\n",
      "Using device: cuda\n"
     ]
    }
   ],
   "source": [
    "ROOT = \"./\"  # TODO: set your root directory here\n",
    "# ROOT = '/content/drive/MyDrive/실습1' # example for Google Drive\n",
    "\n",
    "ROOT = Path(ROOT)\n",
    "# Check if the root directory exists\n",
    "if not ROOT.exists():\n",
    "    print(f\"Root directory {ROOT} does not exist. Please check the path.\")\n",
    "\n",
    "\n",
    "print(f\"Check GPU availability: {torch.cuda.is_available()}\")\n",
    "device = torch.device(\"cuda\" if torch.cuda.is_available() else \"cpu\")\n",
    "print(f\"Using device: {device}\")"
   ]
  },
  {
   "cell_type": "code",
   "execution_count": 5,
   "id": "12fdd922",
   "metadata": {},
   "outputs": [
    {
     "name": "stderr",
     "output_type": "stream",
     "text": [
      "100%|██████████| 9.91M/9.91M [00:02<00:00, 4.15MB/s]\n",
      "100%|██████████| 28.9k/28.9k [00:00<00:00, 157kB/s]\n",
      "100%|██████████| 1.65M/1.65M [00:01<00:00, 1.40MB/s]\n",
      "100%|██████████| 4.54k/4.54k [00:00<00:00, 1.91MB/s]\n"
     ]
    },
    {
     "name": "stdout",
     "output_type": "stream",
     "text": [
      "MNIST dataset downloaded successfully.\n"
     ]
    }
   ],
   "source": [
    "# Download MNIST dataset\n",
    "def download_mnist() -> None:\n",
    "    transform = transforms.Compose([transforms.ToTensor()])\n",
    "    datasets.MNIST(root=ROOT / \"data\", train=True, download=True, transform=transform)\n",
    "    datasets.MNIST(root=ROOT / \"data\", train=False, download=True, transform=transform)\n",
    "\n",
    "    # Check if the dataset is downloaded\n",
    "    train_data_path = ROOT / \"data\" / \"MNIST\" / \"raw\"\n",
    "    test_data_path = ROOT / \"data\" / \"MNIST\" / \"raw\"\n",
    "    if train_data_path.exists() and test_data_path.exists():\n",
    "        print(\"MNIST dataset downloaded successfully.\")\n",
    "    else:\n",
    "        print(\n",
    "            \"MNIST dataset download failed. Please check the path or network connection.\"\n",
    "        )\n",
    "\n",
    "\n",
    "download_mnist()"
   ]
  },
  {
   "cell_type": "code",
   "execution_count": 6,
   "id": "c62713e9",
   "metadata": {},
   "outputs": [],
   "source": [
    "# Custom dataset class for MNIST\n",
    "class MNISTDataset(Dataset):\n",
    "    Label = 0\n",
    "    Input = 1\n",
    "\n",
    "    def __init__(\n",
    "        self,\n",
    "        data_path,\n",
    "        train=True,\n",
    "        isvalidation=False,\n",
    "    ) -> None:\n",
    "        self.data_path = data_path\n",
    "        self.data = datasets.MNIST(root=data_path, train=train, download=True)\n",
    "        self.images = self.data.data.numpy()\n",
    "        self.labels = self.data.targets.numpy()\n",
    "\n",
    "        if train and not isvalidation:\n",
    "            self.images = self.images[:55000]\n",
    "            self.labels = self.labels[:55000]\n",
    "        elif train and isvalidation:\n",
    "            self.images = self.images[55000:]\n",
    "            self.labels = self.labels[55000:]\n",
    "        elif not train and not isvalidation:\n",
    "            self.images = self.images\n",
    "            self.labels = self.labels\n",
    "\n",
    "        print(f\"A total of {len(self.images)} images loaded from {data_path}.\")\n",
    "        print(f\"A total of {len(self.labels)} labels loaded from {data_path}.\")\n",
    "\n",
    "    def __len__(self) -> int:\n",
    "        return len(self.images)\n",
    "\n",
    "    def __getitem__(self, idx):\n",
    "        image = self.images[idx, ...]\n",
    "        image_tensor = torch.from_numpy(image).unsqueeze(0).float()\n",
    "\n",
    "        label_tensor = torch.tensor(self.labels[idx], dtype=torch.long)\n",
    "\n",
    "        return (\n",
    "            label_tensor,\n",
    "            image_tensor,\n",
    "        )\n",
    "\n",
    "\n",
    "# Create DataLoader for MNIST dataset\n",
    "def create_dataloader(\n",
    "    data_path,\n",
    "    batch_size=64,\n",
    "    train=True,\n",
    "    isvalidation=False,\n",
    ") -> DataLoader:\n",
    "    dataset = MNISTDataset(\n",
    "        data_path=data_path,\n",
    "        train=train,\n",
    "        isvalidation=isvalidation,\n",
    "    )\n",
    "    dataloader = DataLoader(\n",
    "        dataset,\n",
    "        batch_size=batch_size,\n",
    "        shuffle=train,\n",
    "        num_workers=2,\n",
    "    )\n",
    "    return dataloader"
   ]
  },
  {
   "cell_type": "code",
   "execution_count": 7,
   "id": "8732a556",
   "metadata": {},
   "outputs": [],
   "source": [
    "# Visualize some samples from the dataset\n",
    "def visualize_samples(\n",
    "    dataloader: DataLoader,\n",
    "    num_samples=10,\n",
    ") -> None:\n",
    "    labels, images = next(iter(dataloader))\n",
    "    fig, axes = plt.subplots(1, num_samples, figsize=(15, 4))\n",
    "\n",
    "    vmax = images.max()\n",
    "    vmin = images.min()\n",
    "\n",
    "    for i in range(num_samples):\n",
    "        axes[i].imshow(images[i].squeeze(), cmap=\"gray\", vmin=vmin, vmax=vmax)\n",
    "        axes[i].axis(\"off\")\n",
    "        axes[i].set_title(f\"Label: {labels[i].item()}\")\n",
    "\n",
    "    plt.tight_layout()\n",
    "    plt.show()"
   ]
  },
  {
   "cell_type": "code",
   "execution_count": 8,
   "id": "1aec7732",
   "metadata": {},
   "outputs": [
    {
     "name": "stdout",
     "output_type": "stream",
     "text": [
      "A total of 55000 images loaded from data.\n",
      "A total of 55000 labels loaded from data.\n",
      "A total of 5000 images loaded from data.\n",
      "A total of 5000 labels loaded from data.\n",
      "A total of 10000 images loaded from data.\n",
      "A total of 10000 labels loaded from data.\n"
     ]
    }
   ],
   "source": [
    "# Example usage\n",
    "train_loader = create_dataloader(\n",
    "    data_path=ROOT / \"data\",\n",
    "    batch_size=64,\n",
    "    train=True,\n",
    "    isvalidation=False,\n",
    ")\n",
    "val_loader = create_dataloader(\n",
    "    data_path=ROOT / \"data\",\n",
    "    batch_size=64,\n",
    "    train=True,\n",
    "    isvalidation=True,\n",
    ")\n",
    "test_loader = create_dataloader(\n",
    "    data_path=ROOT / \"data\",\n",
    "    batch_size=64,\n",
    "    train=False,\n",
    "    isvalidation=False,\n",
    ")"
   ]
  },
  {
   "cell_type": "code",
   "execution_count": 9,
   "id": "a7566f4d",
   "metadata": {},
   "outputs": [
    {
     "data": {
      "image/png": "[encoded data removed]",
      "text/plain": [
       "<Figure size 1500x400 with 10 Axes>"
      ]
     },
     "metadata": {},
     "output_type": "display_data"
    }
   ],
   "source": [
    "visualize_samples(train_loader, num_samples=10)"
   ]
  },
  {
   "cell_type": "code",
   "execution_count": null,
   "id": "4a2a9beb",
   "metadata": {},
   "outputs": [
    {
     "name": "stdout",
     "output_type": "stream",
     "text": [
      "Model architecture:\n",
      "CNN(\n",
      "  (model): Sequential(\n",
      "    (0): Conv2d(1, 16, kernel_size=(3, 3), stride=(1, 1), padding=(1, 1))\n",
      "    (1): ReLU()\n",
      "    (2): Conv2d(16, 16, kernel_size=(3, 3), stride=(1, 1), padding=(1, 1))\n",
      "    (3): ReLU()\n",
      "    (4): MaxPool2d(kernel_size=2, stride=2, padding=0, dilation=1, ceil_mode=False)\n",
      "    (5): Conv2d(16, 32, kernel_size=(3, 3), stride=(1, 1), padding=(1, 1))\n",
      "    (6): ReLU()\n",
      "    (7): Conv2d(32, 32, kernel_size=(3, 3), stride=(1, 1), padding=(1, 1))\n",
      "    (8): ReLU()\n",
      "    (9): MaxPool2d(kernel_size=2, stride=2, padding=0, dilation=1, ceil_mode=False)\n",
      "    (10): Flatten(start_dim=1, end_dim=-1)\n",
      "    (11): Linear(in_features=1568, out_features=10, bias=True)\n",
      "  )\n",
      ")\n"
     ]
    }
   ],
   "source": [
    "# Define a classification model\n",
    "class CNN(torch.nn.Module):\n",
    "    def __init__(\n",
    "        self,\n",
    "        in_channels=1,\n",
    "        num_classes=10,\n",
    "        num_filters=16,\n",
    "    ):\n",
    "        super().__init__()\n",
    "        layers = []\n",
    "        # Convolutional layers\n",
    "        # TODO: implement the convolutional layers\n",
    "        ###\n",
    "\n",
    "        ###\n",
    "\n",
    "        # MLP layers\n",
    "        layers.append(torch.nn.Flatten())\n",
    "        layers.append(torch.nn.Linear(num_filters * 2 * 7 * 7, num_classes))\n",
    "        self.model = torch.nn.Sequential(*layers)\n",
    "\n",
    "    def forward(self, x: Tensor) -> Tensor:\n",
    "        return self.model(x)\n",
    "\n",
    "\n",
    "model = CNN()\n",
    "model = model.to(device)\n",
    "\n",
    "# Print the model architecture\n",
    "print(f\"Model architecture:\\n{model}\")\n",
    "\n",
    "# Define an optimizer\n",
    "optimizer = torch.optim.Adam(model.parameters(), lr=0.001)\n",
    "# Define a loss function\n",
    "loss_function = torch.nn.CrossEntropyLoss()"
   ]
  },
  {
   "cell_type": "code",
   "execution_count": 14,
   "id": "93b2f5e4",
   "metadata": {},
   "outputs": [
    {
     "name": "stdout",
     "output_type": "stream",
     "text": [
      "Model is working correctly with a dummy input.\n",
      "Input shape: torch.Size([1, 1, 28, 28])\n",
      "Output shape: torch.Size([1, 10])\n"
     ]
    }
   ],
   "source": [
    "img_test = torch.zeros((1, 1, 28, 28), dtype=torch.float32).to(device)\n",
    "# Test the model with a dummy input\n",
    "try:\n",
    "    output = model(img_test)\n",
    "    print(\"Model is working correctly with a dummy input.\")\n",
    "    print(f\"Input shape: {img_test.shape}\")\n",
    "    print(f\"Output shape: {output.shape}\")\n",
    "except Exception as e:\n",
    "    print(f\"Model failed with a dummy input: {e}\")"
   ]
  },
  {
   "cell_type": "code",
   "execution_count": null,
   "id": "e50f7d9b",
   "metadata": {},
   "outputs": [],
   "source": [
    "# Train the model\n",
    "def train_epoch(\n",
    "    model: torch.nn.Module,\n",
    "    dataloader: DataLoader,\n",
    "    optimizer: torch.optim.Optimizer,\n",
    "    loss_function: torch.nn.Module,\n",
    ") -> float:\n",
    "    model.train()\n",
    "    total_loss = 0.0\n",
    "\n",
    "    # TODO: train the model for one epoch\n",
    "    ###\n",
    "\n",
    "    ###\n",
    "\n",
    "\n",
    "# Evaluate the model on validation set\n",
    "def evaluate_model(\n",
    "    model: torch.nn.Module,\n",
    "    dataloader: DataLoader,\n",
    ") -> float:\n",
    "    model.eval()\n",
    "    total_loss = 0.0\n",
    "\n",
    "    val_accuracy = 0.0\n",
    "    total = 0\n",
    "\n",
    "    # TODO: evaluate the model on validation set\n",
    "    ###\n",
    "\n",
    "    ###\n",
    "\n",
    "    average_loss = total_loss / len(dataloader)\n",
    "    val_accuracy = val_accuracy / total\n",
    "    print(f\"Validation Accuracy: {val_accuracy:.4f}\")\n",
    "    print(f\"Validation Loss: {average_loss:.4f}\")\n",
    "    return average_loss"
   ]
  },
  {
   "cell_type": "code",
   "execution_count": 16,
   "id": "b34a9b86",
   "metadata": {},
   "outputs": [
    {
     "name": "stdout",
     "output_type": "stream",
     "text": [
      "Epoch 1/2\n",
      "Average Loss: 0.1503\n",
      "Validation Accuracy: 0.9750\n",
      "Validation Loss: 0.0814\n",
      "New minimum validation loss: 0.0814\n",
      "Model saved.\n",
      "Epoch 2/2\n",
      "Average Loss: 0.0489\n",
      "Validation Accuracy: 0.9890\n",
      "Validation Loss: 0.0445\n",
      "New minimum validation loss: 0.0445\n",
      "Model saved.\n"
     ]
    }
   ],
   "source": [
    "epoch = 2\n",
    "loss_min: float = 1e100\n",
    "\n",
    "train_loss_tot = []\n",
    "eval_loss_tot = []\n",
    "\n",
    "for _epoch in range(epoch):\n",
    "    print(f\"Epoch {_epoch + 1}/{epoch}\")\n",
    "    train_loss = train_epoch(\n",
    "        model=model,\n",
    "        dataloader=train_loader,\n",
    "        optimizer=optimizer,\n",
    "        loss_function=loss_function,\n",
    "    )\n",
    "    eval_loss = evaluate_model(\n",
    "        model=model,\n",
    "        dataloader=val_loader,\n",
    "    )\n",
    "\n",
    "    train_loss_tot.append(train_loss)\n",
    "    eval_loss_tot.append(eval_loss)\n",
    "\n",
    "    if eval_loss < loss_min:\n",
    "        loss_min = eval_loss\n",
    "        print(f\"New minimum validation loss: {loss_min:.4f}\")\n",
    "        torch.save(model.state_dict(), ROOT / \"best_model.pth\")\n",
    "        print(\"Model saved.\")\n",
    "    else:\n",
    "        print(\"No improvement in validation loss. Model not saved.\")"
   ]
  },
  {
   "cell_type": "code",
   "execution_count": 17,
   "id": "7aeccbc4",
   "metadata": {},
   "outputs": [
    {
     "data": {
      "image/png": "[encoded data removed]",
      "text/plain": [
       "<Figure size 1000x500 with 1 Axes>"
      ]
     },
     "metadata": {},
     "output_type": "display_data"
    }
   ],
   "source": [
    "plt.figure(figsize=(10, 5))\n",
    "plt.plot(train_loss_tot, label=\"Training Loss\", marker=\"o\")\n",
    "plt.plot(eval_loss_tot, label=\"Validation Loss\", marker=\"x\")\n",
    "plt.xlabel(\"Epoch\")\n",
    "plt.ylabel(\"Loss\")\n",
    "plt.title(\"Training and Validation Loss\")\n",
    "plt.legend()\n",
    "plt.grid()\n",
    "plt.show()"
   ]
  },
  {
   "cell_type": "code",
   "execution_count": null,
   "id": "b98f2137",
   "metadata": {},
   "outputs": [
    {
     "name": "stdout",
     "output_type": "stream",
     "text": [
      "Model loaded from best_model.pth.\n"
     ]
    }
   ],
   "source": [
    "# test the model on test set\n",
    "def test_model(\n",
    "    model: torch.nn.Module,\n",
    "    dataloader: DataLoader,\n",
    ") -> float:\n",
    "    model.eval()\n",
    "    total_loss = 0.0\n",
    "\n",
    "    test_accuracy = 0.0\n",
    "    total = 0\n",
    "\n",
    "    # TODO: test the model on test set\n",
    "    ###\n",
    "\n",
    "    ###\n",
    "\n",
    "    average_loss = total_loss / len(dataloader)\n",
    "    accuracy = test_accuracy / total\n",
    "    print(f\"Test Accuracy: {accuracy:.4f}\")\n",
    "    print(f\"Test Loss: {average_loss:.4f}\")\n",
    "    return average_loss\n",
    "\n",
    "\n",
    "checkpoint_path = ROOT / \"best_model.pth\"\n",
    "if checkpoint_path.exists():\n",
    "    best_model = CNN()\n",
    "    best_model.load_state_dict(torch.load(checkpoint_path))\n",
    "    best_model = best_model.to(device)\n",
    "    print(f\"Model loaded from {checkpoint_path}.\")\n",
    "else:\n",
    "    print(f\"Checkpoint {checkpoint_path} does not exist. Please check the path.\")"
   ]
  },
  {
   "cell_type": "code",
   "execution_count": 19,
   "id": "187396bf",
   "metadata": {},
   "outputs": [
    {
     "name": "stdout",
     "output_type": "stream",
     "text": [
      "Test Accuracy: 0.9824\n",
      "Test Loss: 0.0000\n"
     ]
    }
   ],
   "source": [
    "test_loss = test_model(\n",
    "    model=model,\n",
    "    dataloader=test_loader,\n",
    ")"
   ]
  },
  {
   "cell_type": "code",
   "execution_count": 20,
   "id": "bedc740f",
   "metadata": {},
   "outputs": [
    {
     "data": {
      "image/png": "[encoded data removed]",
      "text/plain": [
       "<Figure size 1500x800 with 10 Axes>"
      ]
     },
     "metadata": {},
     "output_type": "display_data"
    }
   ],
   "source": [
    "# plot the resutls\n",
    "def plot_results(\n",
    "    model: CNN,\n",
    "    dataloader: DataLoader,\n",
    "    num_samples: int = 10,\n",
    ") -> None:\n",
    "    model.eval()\n",
    "    labels, images = next(iter(dataloader))\n",
    "    images = images.to(device)\n",
    "    labels = labels.to(device)\n",
    "\n",
    "    with torch.no_grad():\n",
    "        classification_output = model(images)\n",
    "\n",
    "    fig, axes = plt.subplots(1, num_samples, figsize=(15, 8))\n",
    "\n",
    "    vmax = images.max().item()\n",
    "    vmin = images.min().item()\n",
    "\n",
    "    images = images.cpu().numpy()\n",
    "    labels = labels.cpu().numpy()\n",
    "    classification_output = classification_output.cpu().numpy()\n",
    "\n",
    "    for i in range(num_samples):\n",
    "        # plot image and label, prediction\n",
    "        axes[i].imshow(images[i].squeeze(), cmap=\"gray\", vmin=vmin, vmax=vmax)\n",
    "        axes[i].axis(\"off\")\n",
    "        axes[i].set_title(\n",
    "            f\"Label: {labels[i].item()}\\nPred: {classification_output[i].argmax()}\"\n",
    "        )\n",
    "\n",
    "    plt.tight_layout()\n",
    "    plt.show()\n",
    "\n",
    "\n",
    "plot_results(\n",
    "    model=best_model,\n",
    "    dataloader=test_loader,\n",
    "    num_samples=10,\n",
    ")"
   ]
  }
 ],
 "metadata": {
  "kernelspec": {
   "display_name": "python310",
   "language": "python",
   "name": "python3"
  },
  "language_info": {
   "codemirror_mode": {
    "name": "ipython",
    "version": 3
   },
   "file_extension": ".py",
   "mimetype": "text/x-python",
   "name": "python",
   "nbconvert_exporter": "python",
   "pygments_lexer": "ipython3",
   "version": "3.10.0"
  }
 },
 "nbformat": 4,
 "nbformat_minor": 5
}
